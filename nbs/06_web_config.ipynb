{
 "cells": [
  {
   "cell_type": "code",
   "execution_count": 1,
   "metadata": {},
   "outputs": [],
   "source": [
    "#|default_exp web_config"
   ]
  },
  {
   "cell_type": "code",
   "execution_count": 2,
   "metadata": {},
   "outputs": [],
   "source": [
    "#| hide\n",
    "%load_ext autoreload\n",
    "%autoreload 2"
   ]
  },
  {
   "cell_type": "code",
   "execution_count": 3,
   "metadata": {},
   "outputs": [],
   "source": [
    "#|hide\n",
    "from nbdev.showdoc import *"
   ]
  },
  {
   "attachments": {},
   "cell_type": "markdown",
   "metadata": {},
   "source": [
    "# Manage web assets"
   ]
  },
  {
   "cell_type": "code",
   "execution_count": 4,
   "metadata": {},
   "outputs": [],
   "source": [
    "#| export\n",
    "\n",
    "from clip_plot import utils\n",
    "from clip_plot.utils import get_version\n",
    "from fastcore.all import *\n",
    "import os\n",
    "from pathlib import Path\n",
    "from shutil import copy"
   ]
  },
  {
   "cell_type": "code",
   "execution_count": 5,
   "metadata": {},
   "outputs": [],
   "source": [
    "#|export\n",
    "\n",
    "def get_clip_plot_root() -> Path:\n",
    "    # ipython doesn't have __file__ attribute\n",
    "    if in_ipython():\n",
    "        return Path(utils.__file__).parents[1]\n",
    "    else:\n",
    "        return Path(__file__).parents[1]"
   ]
  },
  {
   "cell_type": "code",
   "execution_count": 6,
   "metadata": {},
   "outputs": [],
   "source": [
    "#| export\n",
    "\n",
    "def replace_web_strings(web_dir: Path, from_to: dict):\n",
    "    '''sequentially replace strings based on dict'''\n",
    "    for i in [\"index.html\", \"assets/js/tsne.js\"]:\n",
    "        f = web_dir / i\n",
    "        t = f.read_text()\n",
    "        for k, v in from_to.items():\n",
    "            t = t.replace(k, v)\n",
    "        f.write_text(t)\n"
   ]
  },
  {
   "cell_type": "code",
   "execution_count": 7,
   "metadata": {},
   "outputs": [],
   "source": [
    "#| export\n",
    "\n",
    "def byo_logo(web_dir: Path, logo_path: Path):\n",
    "    '''copy logo into web folder and replace reference in index.html'''\n",
    "    logo_dest = web_dir / \"assets/images\" / logo_path.name\n",
    "    copy(logo_path, logo_dest)\n",
    "    replace_web_strings(web_dir, {\"dhlab-logo.svg\": logo_path.name,\n",
    "                                  \"DHLab logo\": \"Custom logo\"\n",
    "                               })"
   ]
  },
  {
   "cell_type": "code",
   "execution_count": 8,
   "metadata": {},
   "outputs": [],
   "source": [
    "#| export\n",
    "\n",
    "def copy_web_assets(output_dir: Path, tagline: str, logo: str) -> None:\n",
    "    \"\"\"\n",
    "    Copy the /web directory from the clipplot source to the users cwd.\n",
    "    Copies version number into assets.\n",
    "    \"\"\"\n",
    "    copy_root_dir = get_clip_plot_root()\n",
    "    src = copy_root_dir / \"clip_plot/web\"\n",
    "\n",
    "    # resolve will handle cases with ../ in the path\n",
    "    dest = Path.cwd() / output_dir.resolve()\n",
    "    utils.copytree_agnostic(src.as_posix(), dest.as_posix())\n",
    "\n",
    "    # write version numbers into output\n",
    "    replace_web_strings(dest, {\"VERSION_NUMBER\": get_version(),\n",
    "                               \"Image Fields in a Local Collection\": tagline\n",
    "                               })\n",
    "\n",
    "    # replace logo, if bring-your-own provided\n",
    "    if logo is not None:\n",
    "        logo_path = Path.cwd() / Path(logo).resolve()\n",
    "        byo_logo(dest, logo_path)\n"
   ]
  },
  {
   "cell_type": "code",
   "execution_count": 9,
   "metadata": {},
   "outputs": [],
   "source": [
    "#|hide\n",
    "import nbdev; nbdev.nbdev_export()"
   ]
  }
 ],
 "metadata": {
  "kernelspec": {
   "display_name": "clipplot",
   "language": "python",
   "name": "python3"
  },
  "language_info": {
   "codemirror_mode": {
    "name": "ipython",
    "version": 3
   },
   "file_extension": ".py",
   "mimetype": "text/x-python",
   "name": "python",
   "nbconvert_exporter": "python",
   "pygments_lexer": "ipython3",
   "version": "3.11.7"
  }
 },
 "nbformat": 4,
 "nbformat_minor": 2
}
