{
 "cells": [
  {
   "cell_type": "code",
   "execution_count": 35,
   "metadata": {},
   "outputs": [],
   "source": [
    "#| default_exp clip_plot"
   ]
  },
  {
   "cell_type": "code",
   "execution_count": 36,
   "metadata": {},
   "outputs": [
    {
     "name": "stdout",
     "output_type": "stream",
     "text": [
      "The autoreload extension is already loaded. To reload it, use:\n",
      "  %reload_ext autoreload\n"
     ]
    }
   ],
   "source": [
    "#| hide\n",
    "\n",
    "%load_ext autoreload\n",
    "%autoreload 2"
   ]
  },
  {
   "attachments": {},
   "cell_type": "markdown",
   "metadata": {},
   "source": [
    "# Imports and setup\n",
    "\n",
    "### Unconditional imports"
   ]
  },
  {
   "cell_type": "code",
   "execution_count": 37,
   "metadata": {},
   "outputs": [],
   "source": [
    "#|export\n",
    "\n",
    "from __future__ import division\n",
    "import warnings\n",
    "\n",
    "warnings.filterwarnings(\"ignore\")"
   ]
  },
  {
   "cell_type": "code",
   "execution_count": 38,
   "metadata": {},
   "outputs": [
    {
     "name": "stdout",
     "output_type": "stream",
     "text": [
      "2025-10-26 13:19:09.811499: Beginning to load dependencies\n"
     ]
    }
   ],
   "source": [
    "#| export\n",
    "\n",
    "# print separately that we're loading dependencies, as this can take a while\n",
    "# and we want to give immediate feedback the program is starting\n",
    "from clip_plot.utils import timestamp\n",
    "print(timestamp(), \"Beginning to load dependencies\")"
   ]
  },
  {
   "cell_type": "code",
   "execution_count": null,
   "metadata": {},
   "outputs": [],
   "source": [
    "#|export\n",
    "\n",
    "from fastcore.all import call_parse, in_ipython, Param\n",
    "from tqdm.auto import tqdm\n",
    "\n",
    "from clip_plot.from_tables import cat_tables, table_to_meta\n",
    "from clip_plot.web_config import copy_web_assets, get_clip_plot_root\n",
    "from clip_plot.embeddings import get_embeddings, write_embeddings\n",
    "from clip_plot.metadata import get_manifest, write_metadata\n",
    "from clip_plot.images import create_atlases_and_thumbs, ImageFactory\n",
    "from clip_plot.configuration import UmapSpec, ClusterSpec, ViewerOptions, ImageLoaderOptions"
   ]
  },
  {
   "cell_type": "code",
   "execution_count": null,
   "metadata": {},
   "outputs": [],
   "source": [
    "#| export\n",
    "\n",
    "from shutil import rmtree\n",
    "from pathlib import Path\n",
    "import uuid\n",
    "import pandas as pd\n",
    "import numpy as np"
   ]
  },
  {
   "attachments": {},
   "cell_type": "markdown",
   "metadata": {},
   "source": [
    "### Image processing imports\n",
    "\n",
    "Note that I have removed the \"copy-web-only\" conditional import path for now\n",
    "\n",
    "`nbdev` does not like cells to have cells to have code and imports in the same cell:\n",
    "\n",
    "https://nbdev.fast.ai/getting_started.html#q-what-is-the-warning-found-a-cell-containing-mix-of-imports-and-computations.-please-use-separate-cells\n",
    "\n",
    "I think this may mean we don't get to do conditional imports. If we find a code path that really should have conditional imports, we can see if there is a workaround. For now, I don't feel \"copy web only\" is a very important functionality to keep."
   ]
  },
  {
   "attachments": {},
   "cell_type": "markdown",
   "metadata": {},
   "source": [
    "### Optional install imports"
   ]
  },
  {
   "cell_type": "code",
   "execution_count": 41,
   "metadata": {},
   "outputs": [],
   "source": [
    "#| export\n",
    "\n",
    "_DEFAULTS = {\n",
    "    \"images\": None,\n",
    "    \"tables\": None,\n",
    "    \"metadatas\": None,\n",
    "    \"output_dir\": \"output\",\n",
    "    \"max_images\": None,\n",
    "    \"min_cluster_size\": 20,\n",
    "    \"max_clusters\": 10,\n",
    "    \"atlas_size\": 2048,\n",
    "    \"cell_size\": 32,\n",
    "    \"lod_cell_height\": 128, # Why is not in parser?\n",
    "    \"model\": \"timm/convnext_tiny.dinov3_lvd1689m\",\n",
    "    \"n_neighbors\": [15],\n",
    "    \"min_dist\": [0.01],\n",
    "    \"metric\": \"correlation\",\n",
    "    \"min_size\": 100,\n",
    "    \"plot_id\": str(uuid.uuid1()),\n",
    "    \"seed\": 42,\n",
    "    \"n_clusters\": 12,\n",
    "}\n",
    "\n",
    "# handle truncated images in PIL (managed by Pillow)\n",
    "PILLoadTruncated  = True\n",
    "\n",
    "## Keras Image class objects return image.size as w,h\n",
    "## Numpy array representations of images return image.shape as h,w,c"
   ]
  },
  {
   "attachments": {},
   "cell_type": "markdown",
   "metadata": {},
   "source": [
    "\n",
    "## Entry\n",
    "\n",
    "`project_images` will kick off all the main functions for the module"
   ]
  },
  {
   "cell_type": "code",
   "execution_count": null,
   "metadata": {},
   "outputs": [],
   "source": [
    "#| export\n",
    "\n",
    "def _project_images(imageEngine,\n",
    "                    output_dir: Path,\n",
    "                    plot_id: str,\n",
    "                    model: str,\n",
    "                    umap_spec: UmapSpec,\n",
    "                    cluster_spec: ClusterSpec,\n",
    "                    viewer_opts: ViewerOptions,\n",
    "                    hidden_vectors: np.ndarray | None,\n",
    "):\n",
    "    \"\"\"\n",
    "    Main method for embedding user images, projecting to 2D, and creating visualization\n",
    "    It would be nice to list out the image processing steps before getting started\n",
    "    \"\"\"\n",
    "\n",
    "\n",
    "    print(timestamp(), \"Starting image processing pipeline.\")\n",
    "\n",
    "    copy_web_assets(output_dir=output_dir,\n",
    "                    tagline=viewer_opts.tagline, logo=viewer_opts.logo)\n",
    "\n",
    "    write_metadata(imageEngine)\n",
    "\n",
    "    _, atlas_data = create_atlases_and_thumbs(imageEngine, plot_id)\n",
    "\n",
    "    if hidden_vectors is None:\n",
    "        hidden_vectors = get_embeddings(imageEngine, model_name=model)\n",
    "\n",
    "    get_manifest(imageEngine, atlas_data, hidden_vectors,\n",
    "                 plot_id=plot_id, output_dir=output_dir,\n",
    "                 umap_spec=umap_spec, cluster_spec=cluster_spec\n",
    "                 )\n",
    "    # write_images(imageEngine)\n",
    "    print(timestamp(), \"Done!\")"
   ]
  },
  {
   "cell_type": "code",
   "execution_count": null,
   "metadata": {},
   "outputs": [],
   "source": [
    "#| export\n",
    "\n",
    "def project_images_pipeline(output_dir: Path,\n",
    "                            plot_id: str,\n",
    "                            model: str,\n",
    "                            images: list[Path] | None,\n",
    "                            tables: list[Path] | None,\n",
    "                            metadata: list[Path] | None,\n",
    "                            image_path_col: str | None,\n",
    "                            embed_path_col: str | None,\n",
    "                            image_opts: ImageLoaderOptions,\n",
    "                            viewer_opts: ViewerOptions,\n",
    "                            umap_spec: UmapSpec,\n",
    "                            cluster_spec: ClusterSpec\n",
    "                ):\n",
    "                \"\"\"Convert a folder of images into a clip-plot visualization\"\"\"\n",
    "\n",
    "                if tables and images:\n",
    "                        raise ValueError(\"Provide either tables or images parameter, not both.\")\n",
    "                if tables:\n",
    "                        print(timestamp(), \"Loading tables\")\n",
    "                        table = cat_tables(tables)\n",
    "                        images = list(table[image_path_col].values)\n",
    "                        print(timestamp(), \"Loading embeddings from disk\")\n",
    "                        hidden_vectors = np.array([np.load(e) for e in tqdm(table[embed_path_col])])\n",
    "                else:\n",
    "                        hidden_vectors = None\n",
    "                        table = None\n",
    "\n",
    "                data_dir = output_dir / \"data\"\n",
    "                imageEngine = ImageFactory(images, data_dir, metadata,\n",
    "                                           **image_opts.model_dump(),)\n",
    "\n",
    "                # grab metadata from table if provided\n",
    "                if table is not None:\n",
    "                        imageEngine.meta_headers, imageEngine.metadata = table_to_meta(table)\n",
    "\n",
    "                print(f\"Config to project images: {str(image_opts.model_dump())}\")\n",
    "\n",
    "                np.random.seed(image_opts.seed) \n",
    "\n",
    "                _project_images(imageEngine,\n",
    "                                output_dir = output_dir,\n",
    "                                plot_id=plot_id,\n",
    "                                model=model,\n",
    "                                cluster_spec=cluster_spec,\n",
    "                                umap_spec=umap_spec,\n",
    "                                hidden_vectors=hidden_vectors,\n",
    "                                viewer_opts=viewer_opts\n",
    "                                )"
   ]
  },
  {
   "cell_type": "code",
   "execution_count": 44,
   "metadata": {},
   "outputs": [],
   "source": [
    "#| export\n",
    "\n",
    "# awful workaround because I think call_parse only works with sys.argv (cli)\n",
    "project_images = project_images_cli.__wrapped__"
   ]
  },
  {
   "attachments": {},
   "cell_type": "markdown",
   "metadata": {},
   "source": [
    "### Embed images without building visualization\n",
    "\n",
    "Outputs a table linking the embedding files to the images\n",
    "\n",
    "Test with bash command:\n",
    "```\n",
    "clipplot_embed_images --images \"tests/smithsonian_butterflies_10/jpgs/*.jpg\" --output_dir \"tests/smithsonian_butterflies_10/DELETEME_embed_only\" --metadata \"tests/smithsonian_butterflies_10/meta_data/good_meta.csv\"\n",
    "```"
   ]
  },
  {
   "cell_type": "code",
   "execution_count": 50,
   "metadata": {},
   "outputs": [
    {
     "name": "stderr",
     "output_type": "stream",
     "text": [
      "[autoreload of clip_plot.images failed: Traceback (most recent call last):\n",
      "  File \"/home/wsanger/git/clip-plot/.venv/lib/python3.10/site-packages/IPython/extensions/autoreload.py\", line 276, in check\n",
      "    superreload(m, reload, self.old_objects)\n",
      "  File \"/home/wsanger/git/clip-plot/.venv/lib/python3.10/site-packages/IPython/extensions/autoreload.py\", line 475, in superreload\n",
      "    module = reload(module)\n",
      "  File \"/home/wsanger/mambaforge/lib/python3.10/importlib/__init__.py\", line 169, in reload\n",
      "    _bootstrap._exec(spec, module)\n",
      "  File \"<frozen importlib._bootstrap>\", line 619, in _exec\n",
      "  File \"<frozen importlib._bootstrap_external>\", line 883, in exec_module\n",
      "  File \"<frozen importlib._bootstrap>\", line 241, in _call_with_frames_removed\n",
      "  File \"/home/wsanger/git/clip-plot/clip_plot/images.py\", line 74, in <module>\n",
      "    def create_atlases_and_thumbs(imageEngine: ImageFactory, plot_id: str, use_cache: bool = False):\n",
      "NameError: name 'ImageFactory' is not defined. Did you mean: 'ImageFactoryBase'?\n",
      "]\n"
     ]
    }
   ],
   "source": [
    "#| export\n",
    "\n",
    "@call_parse\n",
    "def embed_images_cli(images:Param(type=str,\n",
    "                        help=\"path or glob of images to process\"\n",
    "                        )=_DEFAULTS[\"images\"],\n",
    "                model:Param(type=str,\n",
    "                        help=\"pre-trained model from timm library to use to create embedding\",\n",
    "                        required=False\n",
    "                        )=_DEFAULTS[\"model\"],\n",
    "                output_dir:Param(type=str,\n",
    "                        help=\"the directory to which outputs will be saved\",\n",
    "                        required=False\n",
    "                        )=_DEFAULTS[\"output_dir\"],\n",
    "                metadata:Param(type=str,\n",
    "                        help=\"path to a csv or glob of JSON files with image metadata (see readme for format)\"\n",
    "                        )=_DEFAULTS[\"metadatas\"],\n",
    "                table_id:Param(type=str,\n",
    "                        help=\"identifier for table that links embeddings to images and (optionally) metadata\",\n",
    "                        required=False\n",
    "                        )=str(uuid.uuid1()),\n",
    "                table_format:Param(type=str,\n",
    "                        choices=[\"parquet\", \"csv\"],\n",
    "                        help=\"format for table linking embeddings, images, and metadata\",\n",
    "                        required=False\n",
    "                        )=\"parquet\"\n",
    "                ):\n",
    "                \"Embed a folder of images and save embeddings as .npy file to disk\"\n",
    "                output_dir = Path(output_dir)\n",
    "\n",
    "                # using Path.cwd() to handle ../ names -- not sure if this is superstitious\n",
    "                data_dir = Path.cwd() / output_dir.resolve() / \"data\"\n",
    "\n",
    "                imageEngine = ImageFactory(img_path=images, data_dir=data_dir, metadatas=metadata)\n",
    "\n",
    "                embeddings = get_embeddings(imageEngine, model_name=model)\n",
    "\n",
    "                def _model_shortname(n: str) -> str:\n",
    "                        return \"__\".join(n.split(\"/\")[-2:])\n",
    "\n",
    "                embs_dir = data_dir/f\"embeddings_{_model_shortname(model)}\"\n",
    "                embs_dir.mkdir(parents=True, exist_ok=True)\n",
    "                emb_paths = write_embeddings(embeddings, imageEngine.filenames, embs_dir)\n",
    "\n",
    "                df = pd.DataFrame({\"image_path\": imageEngine.image_paths,\n",
    "                                   \"image_filename\": imageEngine.filenames,\n",
    "                                   \"embed_path\": [str(e) for e in emb_paths]})\n",
    "\n",
    "                if len(imageEngine.metadata) > 0:\n",
    "                        df_meta = pd.DataFrame(imageEngine.metadata)\n",
    "                        df_meta = df_meta.rename(columns={\"filename\": \"image_filename\"})\n",
    "                        # drop \"image_path\" column if df_meta has it\n",
    "                        if \"image_path\" in df_meta.columns:\n",
    "                                df_meta = df_meta.drop(columns=[\"image_path\"])\n",
    "\n",
    "                        df = df.merge(df_meta.drop_duplicates([\"image_filename\"]), on=\"image_filename\")\n",
    "\n",
    "                ## standardize sort order of table\n",
    "                # put standard columns first if they exist in df\n",
    "                standard_cols = pd.Index([\"image_path\", \"image_filename\", \"embed_path\", \"category\", \"tags\", \"x\", \"y\"])\n",
    "                cols_sorted = standard_cols.intersection(df.columns)\n",
    "                # append non-standard columns, sorted alphabetically\n",
    "                cols_sorted = cols_sorted.append(df.columns.difference(standard_cols).sort_values())\n",
    "                df = df[cols_sorted]\n",
    "\n",
    "                if table_format == \"csv\":\n",
    "                        df.to_csv(data_dir / f\"EmbedImages__{table_id}.csv\", index=False)\n",
    "                else:\n",
    "                        df.to_parquet(data_dir / f\"EmbedImages__{table_id}.parquet\", index=False)"
   ]
  },
  {
   "cell_type": "code",
   "execution_count": 46,
   "metadata": {},
   "outputs": [],
   "source": [
    "#| export\n",
    "\n",
    "# awful workaround because I think call_parse only works with sys.argv (cli)\n",
    "embed_images = embed_images_cli.__wrapped__"
   ]
  },
  {
   "cell_type": "code",
   "execution_count": 47,
   "metadata": {},
   "outputs": [],
   "source": [
    "#| hide\n",
    "\n",
    "copy_root_dir = get_clip_plot_root()"
   ]
  },
  {
   "cell_type": "code",
   "execution_count": 48,
   "metadata": {},
   "outputs": [],
   "source": [
    "#| hide\n",
    "\n",
    "def test_butterfly():\n",
    "    test_images = copy_root_dir/\"tests/smithsonian_butterflies_10/jpgs/*.jpg\"\n",
    "    test_output_dir = copy_root_dir/\"tests/smithsonian_butterflies_10/output_test_temp\"\n",
    "    meta = copy_root_dir/\"tests/smithsonian_butterflies_10/meta_data/good_meta.csv\"\n",
    "    if Path(test_output_dir).exists():\n",
    "        rmtree(test_output_dir)\n",
    "\n",
    "    project_images(images=test_images.as_posix(),\n",
    "                   output_dir=test_output_dir.as_posix(),\n",
    "                   metadata=meta.as_posix(),\n",
    "                   plot_id=\"test_diff\",\n",
    "                   )\n",
    "\n",
    "    return"
   ]
  },
  {
   "cell_type": "code",
   "execution_count": 49,
   "metadata": {},
   "outputs": [
    {
     "name": "stdout",
     "output_type": "stream",
     "text": [
      "2025-10-26 13:19:10.589144: First three paths: /home/wsanger/git/clip-plot/tests/smithsonian_butterflies_10/jpgs/30aeb051d-ee0d-4c5b-8a85-a8da7baef5fd.jpg\n",
      "/home/wsanger/git/clip-plot/tests/smithsonian_butterflies_10/jpgs/9fea3150-a3d4-11ed-aeea-e36f1256f233.jpg\n",
      "/home/wsanger/git/clip-plot/tests/smithsonian_butterflies_10/jpgs/329a4c094-8536-4396-be70-3d9b5d0744d9.jpg\n",
      "2025-10-26 13:19:10.589362: Validating input images\n"
     ]
    },
    {
     "data": {
      "application/vnd.jupyter.widget-view+json": {
       "model_id": "9d5c7c5a79e940e8a3bfa0f3a7f95f0a",
       "version_major": 2,
       "version_minor": 0
      },
      "text/plain": [
       "  0%|          | 0/12 [00:00<?, ?it/s]"
      ]
     },
     "metadata": {},
     "output_type": "display_data"
    },
    {
     "ename": "NameError",
     "evalue": "name 'csv' is not defined",
     "output_type": "error",
     "traceback": [
      "\u001b[0;31m---------------------------------------------------------------------------\u001b[0m",
      "\u001b[0;31mNameError\u001b[0m                                 Traceback (most recent call last)",
      "Cell \u001b[0;32mIn[49], line 4\u001b[0m\n\u001b[1;32m      1\u001b[0m \u001b[38;5;66;03m#| hide\u001b[39;00m\n\u001b[1;32m      3\u001b[0m \u001b[38;5;28;01mif\u001b[39;00m \u001b[38;5;18m__name__\u001b[39m \u001b[38;5;241m==\u001b[39m \u001b[38;5;124m\"\u001b[39m\u001b[38;5;124m__main__\u001b[39m\u001b[38;5;124m\"\u001b[39m \u001b[38;5;129;01mand\u001b[39;00m in_ipython():\n\u001b[0;32m----> 4\u001b[0m     \u001b[43mtest_butterfly\u001b[49m\u001b[43m(\u001b[49m\u001b[43m)\u001b[49m\n",
      "Cell \u001b[0;32mIn[48], line 10\u001b[0m, in \u001b[0;36mtest_butterfly\u001b[0;34m()\u001b[0m\n\u001b[1;32m      7\u001b[0m \u001b[38;5;28;01mif\u001b[39;00m Path(test_output_dir)\u001b[38;5;241m.\u001b[39mexists():\n\u001b[1;32m      8\u001b[0m     rmtree(test_output_dir)\n\u001b[0;32m---> 10\u001b[0m \u001b[43mproject_images\u001b[49m\u001b[43m(\u001b[49m\u001b[43mimages\u001b[49m\u001b[38;5;241;43m=\u001b[39;49m\u001b[43mtest_images\u001b[49m\u001b[38;5;241;43m.\u001b[39;49m\u001b[43mas_posix\u001b[49m\u001b[43m(\u001b[49m\u001b[43m)\u001b[49m\u001b[43m,\u001b[49m\n\u001b[1;32m     11\u001b[0m \u001b[43m               \u001b[49m\u001b[43moutput_dir\u001b[49m\u001b[38;5;241;43m=\u001b[39;49m\u001b[43mtest_output_dir\u001b[49m\u001b[38;5;241;43m.\u001b[39;49m\u001b[43mas_posix\u001b[49m\u001b[43m(\u001b[49m\u001b[43m)\u001b[49m\u001b[43m,\u001b[49m\n\u001b[1;32m     12\u001b[0m \u001b[43m               \u001b[49m\u001b[43mmetadata\u001b[49m\u001b[38;5;241;43m=\u001b[39;49m\u001b[43mmeta\u001b[49m\u001b[38;5;241;43m.\u001b[39;49m\u001b[43mas_posix\u001b[49m\u001b[43m(\u001b[49m\u001b[43m)\u001b[49m\u001b[43m,\u001b[49m\n\u001b[1;32m     13\u001b[0m \u001b[43m               \u001b[49m\u001b[43mplot_id\u001b[49m\u001b[38;5;241;43m=\u001b[39;49m\u001b[38;5;124;43m\"\u001b[39;49m\u001b[38;5;124;43mtest_diff\u001b[39;49m\u001b[38;5;124;43m\"\u001b[39;49m\u001b[43m,\u001b[49m\n\u001b[1;32m     14\u001b[0m \u001b[43m               \u001b[49m\u001b[43m)\u001b[49m\n\u001b[1;32m     16\u001b[0m \u001b[38;5;28;01mreturn\u001b[39;00m\n",
      "Cell \u001b[0;32mIn[43], line 103\u001b[0m, in \u001b[0;36mproject_images_cli\u001b[0;34m(images, tables, metadata, tagline, logo, max_images, min_cluster_size, max_clusters, output_dir, cell_size, model, n_neighbors, min_dist, metric, min_size, shuffle, plot_id, seed)\u001b[0m\n\u001b[1;32m    100\u001b[0m         table \u001b[38;5;241m=\u001b[39m \u001b[38;5;28;01mNone\u001b[39;00m\n\u001b[1;32m    102\u001b[0m data_dir \u001b[38;5;241m=\u001b[39m config[\u001b[38;5;124m\"\u001b[39m\u001b[38;5;124moutput_dir\u001b[39m\u001b[38;5;124m\"\u001b[39m]\u001b[38;5;241m/\u001b[39m \u001b[38;5;124m\"\u001b[39m\u001b[38;5;124mdata\u001b[39m\u001b[38;5;124m\"\u001b[39m\n\u001b[0;32m--> 103\u001b[0m imageEngine \u001b[38;5;241m=\u001b[39m \u001b[43mImageFactory\u001b[49m\u001b[43m(\u001b[49m\u001b[43mimages\u001b[49m\u001b[43m,\u001b[49m\u001b[43m \u001b[49m\u001b[43mdata_dir\u001b[49m\u001b[43m,\u001b[49m\u001b[43m \u001b[49m\u001b[43mmetadata\u001b[49m\u001b[43m,\u001b[49m\u001b[43m \u001b[49m\u001b[43moptions\u001b[49m\u001b[43m)\u001b[49m\n\u001b[1;32m    105\u001b[0m \u001b[38;5;66;03m# grab metadata from table if provided\u001b[39;00m\n\u001b[1;32m    106\u001b[0m \u001b[38;5;28;01mif\u001b[39;00m table \u001b[38;5;129;01mis\u001b[39;00m \u001b[38;5;129;01mnot\u001b[39;00m \u001b[38;5;28;01mNone\u001b[39;00m:\n",
      "File \u001b[0;32m~/git/clip-plot/clip_plot/images.py:336\u001b[0m, in \u001b[0;36m__init__\u001b[0;34m(self, img_path, data_dir, meta_dir, options)\u001b[0m\n\u001b[1;32m    334\u001b[0m if self.metadata:\n\u001b[1;32m    335\u001b[0m     meta = self.metadata[index]\n\u001b[0;32m--> 336\u001b[0m else:\n\u001b[1;32m    337\u001b[0m     meta = None\n\u001b[1;32m    339\u001b[0m return ValidImage(self.image_paths[index], meta)\n",
      "File \u001b[0;32m~/git/clip-plot/clip_plot/images.py:439\u001b[0m, in \u001b[0;36mfilter_images\u001b[0;34m(self)\u001b[0m\n\u001b[1;32m    436\u001b[0m \u001b[38;5;66;03m# notify the user of images that are missing metadata\u001b[39;00m\n\u001b[1;32m    437\u001b[0m \u001b[38;5;28;01mif\u001b[39;00m meta_missing:\n\u001b[1;32m    438\u001b[0m     \u001b[38;5;28mprint\u001b[39m(\n\u001b[0;32m--> 439\u001b[0m         timestamp(),\n\u001b[1;32m    440\u001b[0m         \u001b[38;5;124m\"\u001b[39m\u001b[38;5;124m ! Some images are missing metadata:\u001b[39m\u001b[38;5;130;01m\\n\u001b[39;00m\u001b[38;5;124m  -\u001b[39m\u001b[38;5;124m\"\u001b[39m,\n\u001b[1;32m    441\u001b[0m         \u001b[38;5;124m\"\u001b[39m\u001b[38;5;130;01m\\n\u001b[39;00m\u001b[38;5;124m  - \u001b[39m\u001b[38;5;124m\"\u001b[39m\u001b[38;5;241m.\u001b[39mjoin(meta_missing[:\u001b[38;5;241m10\u001b[39m]),\n\u001b[1;32m    442\u001b[0m     )\n\u001b[1;32m    443\u001b[0m     \u001b[38;5;28;01mif\u001b[39;00m \u001b[38;5;28mlen\u001b[39m(meta_missing) \u001b[38;5;241m>\u001b[39m \u001b[38;5;241m10\u001b[39m:\n\u001b[1;32m    444\u001b[0m         \u001b[38;5;28mprint\u001b[39m(timestamp(), \u001b[38;5;124m\"\u001b[39m\u001b[38;5;124m ...\u001b[39m\u001b[38;5;124m\"\u001b[39m, \u001b[38;5;28mlen\u001b[39m(meta_missing) \u001b[38;5;241m-\u001b[39m \u001b[38;5;241m10\u001b[39m, \u001b[38;5;124m\"\u001b[39m\u001b[38;5;124mmore\u001b[39m\u001b[38;5;124m\"\u001b[39m)\n",
      "File \u001b[0;32m~/git/clip-plot/clip_plot/images.py:183\u001b[0m, in \u001b[0;36mget_metadata_list\u001b[0;34m(meta_dir)\u001b[0m\n\u001b[1;32m      0\u001b[0m <Error retrieving source code with stack_data see ipython/ipython#13598>\n",
      "\u001b[0;31mNameError\u001b[0m: name 'csv' is not defined"
     ]
    }
   ],
   "source": [
    "#| hide\n",
    "\n",
    "if __name__ == \"__main__\" and in_ipython():\n",
    "    test_butterfly()\n"
   ]
  },
  {
   "cell_type": "code",
   "execution_count": null,
   "metadata": {},
   "outputs": [],
   "source": [
    "#| hide\n",
    "import nbdev; nbdev.nbdev_export()"
   ]
  }
 ],
 "metadata": {
  "kernelspec": {
   "display_name": "clip-plot",
   "language": "python",
   "name": "python3"
  },
  "language_info": {
   "codemirror_mode": {
    "name": "ipython",
    "version": 3
   },
   "file_extension": ".py",
   "mimetype": "text/x-python",
   "name": "python",
   "nbconvert_exporter": "python",
   "pygments_lexer": "ipython3",
   "version": "3.10.13"
  }
 },
 "nbformat": 4,
 "nbformat_minor": 2
}
