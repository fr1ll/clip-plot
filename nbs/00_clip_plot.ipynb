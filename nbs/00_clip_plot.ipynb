{
 "cells": [
  {
   "cell_type": "code",
   "execution_count": null,
   "metadata": {},
   "outputs": [],
   "source": [
    "#| default_exp clip_plot"
   ]
  },
  {
   "cell_type": "code",
   "execution_count": null,
   "metadata": {},
   "outputs": [
    {
     "name": "stdout",
     "output_type": "stream",
     "text": [
      "The autoreload extension is already loaded. To reload it, use:\n",
      "  %reload_ext autoreload\n"
     ]
    }
   ],
   "source": [
    "#| hide\n",
    "\n",
    "%load_ext autoreload\n",
    "%autoreload 2"
   ]
  },
  {
   "attachments": {},
   "cell_type": "markdown",
   "metadata": {},
   "source": [
    "# Imports and setup\n",
    "\n",
    "### Unconditional imports"
   ]
  },
  {
   "cell_type": "code",
   "execution_count": null,
   "metadata": {},
   "outputs": [],
   "source": [
    "#|export\n",
    "\n",
    "from __future__ import division\n",
    "import warnings\n",
    "\n",
    "warnings.filterwarnings(\"ignore\")"
   ]
  },
  {
   "cell_type": "code",
   "execution_count": null,
   "metadata": {},
   "outputs": [
    {
     "name": "stdout",
     "output_type": "stream",
     "text": [
      "2025-10-03 16:53:00.202613: Beginning to load dependencies\n"
     ]
    }
   ],
   "source": [
    "#| export\n",
    "\n",
    "# print separately that we're loading dependencies, as this can take a while\n",
    "# and we want to give immediate feedback the program is starting\n",
    "from clip_plot.utils import timestamp\n",
    "print(timestamp(), \"Beginning to load dependencies\")\n"
   ]
  },
  {
   "cell_type": "code",
   "execution_count": null,
   "metadata": {},
   "outputs": [],
   "source": [
    "#|export\n",
    "\n",
    "from fastcore.all import call_parse, in_ipython, Param, store_true\n",
    "from pathlib import Path\n",
    "from tqdm.auto import tqdm\n",
    "\n",
    "from clip_plot.from_tables import glob_to_tables, table_to_meta\n",
    "from clip_plot.web_config import get_clip_plot_root, copy_web_assets\n",
    "from clip_plot.embeddings import get_timm_embeds\n",
    "from clip_plot.metadata import get_manifest, write_metadata\n",
    "from clip_plot.images import create_atlases_and_thumbs, ImageFactory"
   ]
  },
  {
   "cell_type": "code",
   "execution_count": null,
   "metadata": {},
   "outputs": [],
   "source": [
    "#| export\n",
    "\n",
    "from shutil import rmtree\n",
    "from pathlib import Path\n",
    "from typing import Optional, List, Union, Tuple\n",
    "import uuid\n",
    "import sys\n",
    "import os\n",
    "import pandas as pd"
   ]
  },
  {
   "attachments": {},
   "cell_type": "markdown",
   "metadata": {},
   "source": [
    "### Image processing imports\n",
    "\n",
    "Note that I have removed the \"copy-web-only\" conditional import path for now\n",
    "\n",
    "`nbdev` does not like cells to have cells to have code and imports in the same cell:\n",
    "\n",
    "https://nbdev.fast.ai/getting_started.html#q-what-is-the-warning-found-a-cell-containing-mix-of-imports-and-computations.-please-use-separate-cells\n",
    "\n",
    "I think this may mean we don't get to do conditional imports. If we find a code path that really should have conditional imports, we can see if there is a workaround. For now, I don't feel \"copy web only\" is a very important functionality to keep."
   ]
  },
  {
   "cell_type": "code",
   "execution_count": null,
   "metadata": {},
   "outputs": [],
   "source": [
    "#| export\n",
    "\n",
    "\n",
    "import numpy as np\n",
    "import random\n",
    "import copy\n",
    "import json"
   ]
  },
  {
   "attachments": {},
   "cell_type": "markdown",
   "metadata": {},
   "source": [
    "### Optional install imports"
   ]
  },
  {
   "cell_type": "code",
   "execution_count": null,
   "metadata": {},
   "outputs": [
    {
     "data": {
      "text/plain": [
       "'\\nNB: Keras Image class objects return image.size as w,h\\n    Numpy array representations of images return image.shape as h,w,c\\n'"
      ]
     },
     "execution_count": null,
     "metadata": {},
     "output_type": "execute_result"
    }
   ],
   "source": [
    "#| export\n",
    "\n",
    "DEFAULTS = {\n",
    "    \"images\": None,\n",
    "    \"tables\": None,\n",
    "    \"meta_dir\": None,\n",
    "    \"out_dir\": \"output\",\n",
    "    \"max_images\": None,\n",
    "    \"use_cache\": True,\n",
    "    \"encoding\": \"utf8\",\n",
    "    \"cluster_preproc_dims\": -1,\n",
    "    \"min_cluster_size\": 20,\n",
    "    \"max_clusters\": 10,\n",
    "    \"atlas_size\": 2048,\n",
    "    \"cell_size\": 32,\n",
    "    \"lod_cell_height\": 128, # Why is not in parser?\n",
    "    \"embed_model\": \"tf_inception_v3\",\n",
    "    \"n_neighbors\": [15],\n",
    "    \"min_dist\": [0.01],\n",
    "    \"umap_on_full_dims\": False,\n",
    "    \"n_components\": 2,\n",
    "    \"metric\": \"correlation\",\n",
    "    \"pointgrid_fill\": 0.05,\n",
    "    \"gzip\": False,\n",
    "    \"min_size\": 100,\n",
    "    \"min_score\": 0.3,\n",
    "    \"min_vertices\": 18,\n",
    "    \"plot_id\": str(uuid.uuid1()),\n",
    "    \"seed\": 24,\n",
    "    \"n_clusters\": 12,\n",
    "    \"geojson\": None,\n",
    "}\n",
    "\n",
    "# handle truncated images in PIL (managed by Pillow)\n",
    "PILLoadTruncated  = True\n",
    "\n",
    "\"\"\"\n",
    "NB: Keras Image class objects return image.size as w,h\n",
    "    Numpy array representations of images return image.shape as h,w,c\n",
    "\"\"\""
   ]
  },
  {
   "attachments": {},
   "cell_type": "markdown",
   "metadata": {},
   "source": [
    "\n",
    "## Entry\n",
    "\n",
    "`project_images` will kick off all the main functions for the module"
   ]
  },
  {
   "cell_type": "code",
   "execution_count": null,
   "metadata": {},
   "outputs": [],
   "source": [
    "#| export\n",
    "\n",
    "def _project_images(imageEngine, embeds: Optional[np.ndarray]=None, **kwargs):\n",
    "    \"\"\"\n",
    "    Main method for embedding user images, projecting to 2D, and creating visualization\n",
    "    It would be nice to list out the image processing steps before getting started\n",
    "    \"\"\"\n",
    "    kwargs = umap_args_to_list(**kwargs)\n",
    "    print(timestamp(), \"Starting image processing pipeline.\")\n",
    "\n",
    "    copy_web_assets(out_dir=kwargs['out_dir'],\n",
    "                    tagline=kwargs['tagline'], logo=kwargs[\"logo\"])\n",
    "    if kwargs[\"copy_web_only\"]:\n",
    "        print(timestamp(), \"Done!\")\n",
    "        sys.exit()\n",
    "    \n",
    "    np.random.seed(kwargs[\"seed\"])\n",
    "    kwargs[\"out_dir\"] = os.path.join(kwargs[\"out_dir\"], \"data\")\n",
    "    write_metadata(imageEngine, kwargs[\"gzip\"], kwargs[\"encoding\"])\n",
    "    \n",
    "    kwargs[\"atlas_dir\"], atlas_data = create_atlases_and_thumbs(imageEngine, kwargs[\"plot_id\"], kwargs[\"use_cache\"])\n",
    "    \n",
    "    if embeds is None:\n",
    "        kwargs[\"vecs\"], _ = get_timm_embeds(imageEngine, model_name=kwargs[\"embed_model\"],\n",
    "                                            data_dir=Path(kwargs[\"out_dir\"]), **kwargs)\n",
    "    else:\n",
    "        kwargs[\"vecs\"] = embeds\n",
    "\n",
    "    get_manifest(imageEngine, atlas_data, **kwargs)\n",
    "    # write_images(imageEngine)\n",
    "    print(timestamp(), \"Done!\")"
   ]
  },
  {
   "cell_type": "code",
   "execution_count": null,
   "metadata": {},
   "outputs": [],
   "source": [
    "#| export\n",
    "\n",
    "def umap_args_to_list(**kwargs):\n",
    "    \"\"\"Convert n_neighbors and min_dist arguments into lists\n",
    "\n",
    "    Args:\n",
    "        n_neighbors (int, list[int], default = [15])\n",
    "        min_dist (int, list[int], default = [0.01])\n",
    "    \"\"\"\n",
    "    for i in [\"n_neighbors\", \"min_dist\"]:\n",
    "        if not isinstance(kwargs[i], list):\n",
    "            kwargs[i] = [kwargs[i]]\n",
    "    return kwargs"
   ]
  },
  {
   "attachments": {},
   "cell_type": "markdown",
   "metadata": {},
   "source": [
    "## Carlo's Test Functions\n",
    "\n",
    "> Need to remove later"
   ]
  },
  {
   "cell_type": "code",
   "execution_count": null,
   "metadata": {},
   "outputs": [],
   "source": [
    "#| export\n",
    "\n",
    "copy_root_dir = get_clip_plot_root()\n",
    "\n",
    "def test_iiif(config):\n",
    "    test_images = copy_root_dir/\"tests/IIIF_examples/iif_example.txt\"\n",
    "    test_out_dir = copy_root_dir/\"tests/smithsonian_butterflies_10/output_test_temp\"\n",
    "\n",
    "    if Path(test_out_dir).exists():\n",
    "        rmtree(test_out_dir)\n",
    "\n",
    "    config[\"images\"] = test_images.as_posix()\n",
    "    config[\"out_dir\"] = test_out_dir.as_posix()\n",
    "    config[\"plot_id\"] = \"test_diff\"\n",
    "\n",
    "    return config\n",
    "\n",
    "\n",
    "def test_butterfly_duplicate(config):\n",
    "    test_images = copy_root_dir/\"tests/smithsonian_butterflies_10/jpgs_duplicates/**/*.jpg\"\n",
    "    test_out_dir = copy_root_dir/\"tests/smithsonian_butterflies_10/output_test_temp\"\n",
    "    meta_dir = copy_root_dir/\"tests/smithsonian_butterflies_10/meta_data/good_meta.csv\"\n",
    "    if Path(test_out_dir).exists():\n",
    "        rmtree(test_out_dir)\n",
    "\n",
    "    config[\"images\"] = test_images.as_posix()\n",
    "    config[\"out_dir\"] = test_out_dir.as_posix()\n",
    "    config[\"meta_dir\"] = meta_dir.as_posix()\n",
    "    config[\"plot_id\"] = \"test_diff\"\n",
    "\n",
    "    return config\n",
    "\n",
    "def test_butterfly_missing_meta(config):\n",
    "    test_images = copy_root_dir/\"tests/smithsonian_butterflies_10/jpgs/*.jpg\"\n",
    "    test_out_dir = copy_root_dir/\"tests/smithsonian_butterflies_10/output_test_temp\"\n",
    "    meta_dir = copy_root_dir/\"tests/smithsonian_butterflies_10/meta_data/meta_missing_entry.csv\"\n",
    "    if Path(test_out_dir).exists():\n",
    "        rmtree(test_out_dir)\n",
    "\n",
    "    config[\"images\"] = test_images.as_posix()\n",
    "    config[\"out_dir\"] = test_out_dir.as_posix()\n",
    "    config[\"meta_dir\"] = meta_dir.as_posix()\n",
    "    config[\"plot_id\"] = \"test_diff\"\n",
    "\n",
    "    return config\n",
    "\n",
    "def test_no_meta_dir(config):\n",
    "    test_images = copy_root_dir/\"tests/smithsonian_butterflies_10/jpgs/*.jpg\"\n",
    "    test_out_dir = copy_root_dir/\"tests/smithsonian_butterflies_10/output_test_temp\"\n",
    "    if Path(test_out_dir).exists():\n",
    "        rmtree(test_out_dir)\n",
    "\n",
    "    config[\"images\"] = test_images.as_posix()\n",
    "    config[\"out_dir\"] = test_out_dir.as_posix()\n",
    "    config[\"plot_id\"] = \"test_diff\"\n",
    "\n",
    "    return config\n"
   ]
  },
  {
   "attachments": {},
   "cell_type": "markdown",
   "metadata": {},
   "source": [
    "# Project images\n",
    "\n",
    "Command-line function thanks to @call_parse decorator"
   ]
  },
  {
   "cell_type": "code",
   "execution_count": null,
   "metadata": {},
   "outputs": [],
   "source": [
    "#| export\n",
    "\n",
    "@call_parse\n",
    "def project_images(images:Param(type=str,\n",
    "                        help=\"path or glob of images to process\"\n",
    "                        )=DEFAULTS[\"images\"],\n",
    "                tables:Param(type=str,\n",
    "                        help=\"path or glob of tables with image_path and embed_path columns (and optionally metadata)\"\n",
    "                        )=None,\n",
    "                metadata:Param(type=str,\n",
    "                        help=\"path to a csv or glob of JSON files with image metadata (see readme for format)\"\n",
    "                        )=DEFAULTS[\"meta_dir\"],\n",
    "                tagline:Param(type=str,\n",
    "                        help=\"tagline for image web page\"\n",
    "                        )=\"Images arranged by visual similarity\",\n",
    "                logo:Param(type=str,\n",
    "                        help=\"path to a small, squarish logo -- SVG is best\"\n",
    "                        )=None,\n",
    "                max_images:Param(type=int,\n",
    "                        help=\"maximum number of images to process\"\n",
    "                        )=DEFAULTS[\"max_images\"],\n",
    "                use_cache:Param(type=store_true,\n",
    "                        help=\"given inputs identical to prior inputs, load outputs from cache\"\n",
    "                        )=DEFAULTS[\"use_cache\"],\n",
    "                encoding:Param(type=str,\n",
    "                        help=\"the encoding of input metadata\"\n",
    "                        )=DEFAULTS[\"encoding\"],\n",
    "                cluster_preproc_dims:Param(type=int,\n",
    "                        help=\"number of dims to reduce to prior to clustering. -1 means don't reduce\",\n",
    "                        required=False\n",
    "                        )=DEFAULTS[\"cluster_preproc_dims\"],\n",
    "                min_cluster_size:Param(type=int,\n",
    "                        help=\"the minimum number of images in a cluster\",\n",
    "                        required=False\n",
    "                        )=DEFAULTS[\"min_cluster_size\"],\n",
    "                max_clusters:Param(type=int,\n",
    "                        help=\"the maximum number of clusters to return\",\n",
    "                        required=False\n",
    "                        )=DEFAULTS[\"max_clusters\"],\n",
    "                out_dir:Param(type=str,\n",
    "                        help=\"the directory to which outputs will be saved\",\n",
    "                        required=False\n",
    "                        )=DEFAULTS[\"out_dir\"],\n",
    "                cell_size:Param(type=int,\n",
    "                        help=\"the size of atlas cells in px\",\n",
    "                        required=False\n",
    "                        )=DEFAULTS[\"cell_size\"],\n",
    "                embed_model:Param(type=str,\n",
    "                        help=\"pre-trained model from timm library to use to create embedding\",\n",
    "                        required=False\n",
    "                        )=DEFAULTS[\"embed_model\"],\n",
    "                n_neighbors:Param(type=int,\n",
    "                        nargs=\"+\",\n",
    "                        help=\"the n_neighbors arguments for UMAP\"\n",
    "                        )=DEFAULTS[\"n_neighbors\"],\n",
    "                min_dist:Param(type=float,\n",
    "                        nargs=\"+\",\n",
    "                        help=\"the min_dist arguments for UMAP\"\n",
    "                        )=DEFAULTS[\"min_dist\"],\n",
    "                umap_on_full_dims:Param(type=store_true,\n",
    "                        help=\"skip PCA (faster dimensionality reduction) prior to UMAP\"\n",
    "                        )=DEFAULTS[\"umap_on_full_dims\"],\n",
    "                n_components:Param(type=int,\n",
    "                        help=\"the n_components argument for UMAP\"\n",
    "                        )=DEFAULTS[\"n_components\"],\n",
    "                metric:Param(type=str,\n",
    "                        help=\"the metric argument for umap\"\n",
    "                        )=DEFAULTS[\"metric\"],\n",
    "                pointgrid_fill:Param(type=float,\n",
    "                        help=\"float 0:1 that determines sparsity of jittered distributions (lower means more sparse)\"\n",
    "                        )=DEFAULTS[\"pointgrid_fill\"],\n",
    "                copy_web_only:Param(type=store_true,\n",
    "                        help=\"update ./output/assets without reprocessing data\"\n",
    "                        )=False,\n",
    "                min_size:Param(type=float,\n",
    "                        help=\"min size of cropped images\"\n",
    "                        )=DEFAULTS[\"min_size\"],\n",
    "                gzip:Param(type=store_true,\n",
    "                        help=\"save outputs with gzip compression\"\n",
    "                        )=False,\n",
    "                shuffle:Param(type=store_true,\n",
    "                        help=\"shuffle the input images before data processing begins\"\n",
    "                        )=False,\n",
    "                plot_id:Param(type=str,\n",
    "                        help=\"unique id for a plot; useful for resuming processing on a started plot\"\n",
    "                        )=DEFAULTS[\"plot_id\"],\n",
    "                seed:Param(type=int, help=\"seed for random processes\"\n",
    "                           )=DEFAULTS[\"seed\"],\n",
    "                n_clusters:Param(type=int,\n",
    "                        help=\"number of clusters if using kmeans\"\n",
    "                        )=DEFAULTS[\"n_clusters\"],\n",
    "                geojson:Param(type=str,\n",
    "                        help=\"path to a GeoJSON file with shapes to be rendered on a map\"\n",
    "                        )=DEFAULTS[\"geojson\"]\n",
    "                ):\n",
    "                \"Convert a folder of images into a clip-plot visualization\"\n",
    "\n",
    "                # grab local variables as configuration dict\n",
    "                config = dict(locals())\n",
    "\n",
    "\n",
    "                # some parameters exist in DEFAULTS but not in the function signature\n",
    "                default_only_keys = set(set(DEFAULTS.keys() - config.keys()))\n",
    "                default_only = {k:DEFAULTS[k] for k in default_only_keys}\n",
    "                config.update(default_only)\n",
    "\n",
    "                options = {\n",
    "                        'shuffle': config['shuffle'], \n",
    "                        'seed': config['seed'], \n",
    "                        'max_images': config['max_images'], \n",
    "                        'atlas_size': config['atlas_size'], \n",
    "                        'cell_size': config['cell_size'], \n",
    "                        'lod_cell_height': config['lod_cell_height'], \n",
    "                        'validate': True, \n",
    "                }\n",
    "\n",
    "                if not tables:\n",
    "                        embeds = None\n",
    "                        table = None\n",
    "                else:\n",
    "                        if images is not None: raise ValueError(\"Provide either tables or images parameter, not both.\")\n",
    "                        print(timestamp(), \"Loading tables\")\n",
    "                        table = glob_to_tables(tables)\n",
    "                        config[\"images\"] = list(table.image_path.values)\n",
    "                        images = config[\"images\"]\n",
    "                        print(timestamp(), \"Loading embeddings from disk\")\n",
    "                        embeds = np.array([np.load(e) for e in tqdm(table.embed_path)])\n",
    "\n",
    "                data_dir = os.path.join(config[\"out_dir\"], \"data\")\n",
    "                imageEngine = ImageFactory(config['images'], data_dir, config['meta_dir'], options)\n",
    "                \n",
    "                # grab metadata from table if provided\n",
    "                if table is not None:\n",
    "                        imageEngine.meta_headers, imageEngine.metadata = table_to_meta(table) \n",
    "\n",
    "                _project_images(imageEngine, embeds, **config)"
   ]
  },
  {
   "attachments": {},
   "cell_type": "markdown",
   "metadata": {},
   "source": [
    "### Embed images without building visualization\n",
    "\n",
    "Outputs a table linking the embedding files to the images\n",
    "\n",
    "Test with bash command:\n",
    "```\n",
    "clipplot_embed_images --images \"tests/smithsonian_butterflies_10/jpgs/*.jpg\" --out_dir \"tests/smithsonian_butterflies_10/DELETEME_embed_only\" --metadata \"tests/smithsonian_butterflies_10/meta_data/good_meta.csv\"\n",
    "```"
   ]
  },
  {
   "cell_type": "code",
   "execution_count": null,
   "metadata": {},
   "outputs": [],
   "source": [
    "#| export\n",
    "\n",
    "@call_parse\n",
    "def embed_images(images:Param(type=str,\n",
    "                        help=\"path or glob of images to process\"\n",
    "                        )=DEFAULTS[\"images\"],\n",
    "                embed_model:Param(type=str,\n",
    "                        help=\"pre-trained model from timm library to use to create embedding\",\n",
    "                        required=False\n",
    "                        )=DEFAULTS[\"embed_model\"],\n",
    "                out_dir:Param(type=str,\n",
    "                        help=\"the directory to which outputs will be saved\",\n",
    "                        required=False\n",
    "                        )=DEFAULTS[\"out_dir\"],\n",
    "                metadata:Param(type=str,\n",
    "                        help=\"path to a csv or glob of JSON files with image metadata (see readme for format)\"\n",
    "                        )=DEFAULTS[\"meta_dir\"],\n",
    "                table_id:Param(type=str,\n",
    "                        help=\"identifier for table that links embeddings to images and (optionally) metadata\",\n",
    "                        required=False\n",
    "                        )=str(uuid.uuid1()),\n",
    "                table_format:Param(type=str,\n",
    "                        choices=[\"parquet\", \"csv\"],\n",
    "                        help=\"format for table linking embeddings, images, and metadata\",\n",
    "                        required=False\n",
    "                        )=\"parquet\",\n",
    "                seed:Param(type=int, help=\"seed for random processes\"\n",
    "                           )=DEFAULTS[\"seed\"],\n",
    "                ):\n",
    "                \"Embed a folder of images and save embeddings as .npy file to disk\"\n",
    "\n",
    "                kwargs = {\"seed\": seed, \"use_cache\": False}\n",
    "\n",
    "                # using Path.cwd() to handle ../ names -- not sure if this is superstitious\n",
    "                data_dir = Path.cwd() / Path(out_dir).resolve() / \"data\"\n",
    "\n",
    "                imageEngine = ImageFactory(img_path=images, out_dir=data_dir, meta_dir=metadata)\n",
    "                _, embed_paths = get_timm_embeds(imageEngine, model_name=embed_model,\n",
    "                                                data_dir=data_dir, **kwargs)\n",
    "                \n",
    "                df = pd.DataFrame({\"image_path\": imageEngine.image_paths,\n",
    "                                   \"image_filename\": imageEngine.filenames,\n",
    "                                   \"embed_path\": embed_paths})\n",
    "\n",
    "                if len(imageEngine.metadata) > 0:\n",
    "                        df_meta = pd.DataFrame(imageEngine.metadata)\n",
    "                        df_meta = df_meta.rename(columns={\"filename\": \"image_filename\"})\n",
    "                        # drop \"image_path\" column if df_meta has it\n",
    "                        if \"image_path\" in df_meta.columns:\n",
    "                                df_meta = df_meta.drop(columns=[\"image_path\"])\n",
    "\n",
    "                        df = df.merge(df_meta.drop_duplicates([\"image_filename\"]), on=\"image_filename\")\n",
    "\n",
    "                ## standardize sort order of table\n",
    "                # put standard columns first if they exist in df\n",
    "                standard_cols = pd.Index([\"image_path\", \"image_filename\", \"embed_path\", \"category\", \"tags\", \"x\", \"y\"])\n",
    "                cols_sorted = standard_cols.intersection(df.columns)\n",
    "                # append non-standard columns, sorted alphabetically\n",
    "                cols_sorted = cols_sorted.append(df.columns.difference(standard_cols).sort_values())\n",
    "                df = df[cols_sorted]\n",
    "\n",
    "                if table_format == \"csv\":\n",
    "                        df.to_csv(data_dir / f\"EmbedImages__{table_id}.csv\", index=False)\n",
    "                else: df.to_parquet(data_dir / f\"EmbedImages__{table_id}.parquet\", index=False)"
   ]
  },
  {
   "cell_type": "code",
   "execution_count": null,
   "metadata": {},
   "outputs": [],
   "source": [
    "#| hide\n",
    "\n",
    "def test_butterfly():\n",
    "    test_images = copy_root_dir/\"tests/smithsonian_butterflies_10/jpgs/*.jpg\"\n",
    "    test_out_dir = copy_root_dir/\"tests/smithsonian_butterflies_10/output_test_temp\"\n",
    "    meta = copy_root_dir/\"tests/smithsonian_butterflies_10/meta_data/good_meta.csv\"\n",
    "    if Path(test_out_dir).exists():\n",
    "        rmtree(test_out_dir)\n",
    "    \n",
    "    project_images(images=test_images.as_posix(),\n",
    "                   out_dir=test_out_dir.as_posix(),\n",
    "                   metadata=meta.as_posix(),\n",
    "                   plot_id=\"test_diff\",\n",
    "                   )\n",
    "\n",
    "    return"
   ]
  },
  {
   "cell_type": "code",
   "execution_count": null,
   "metadata": {},
   "outputs": [
    {
     "name": "stdout",
     "output_type": "stream",
     "text": [
      "{'images': '/home/wsanger/git/clip-plot/tests/smithsonian_butterflies_10/jpgs/*.jpg', 'tables': None, 'metadata': '/home/wsanger/git/clip-plot/tests/smithsonian_butterflies_10/meta_data/good_meta.csv', 'tagline': 'Images arranged by visual similarity', 'logo': None, 'max_images': None, 'use_cache': True, 'encoding': 'utf8', 'cluster_preproc_dims': -1, 'min_cluster_size': 20, 'max_clusters': 10, 'out_dir': '/home/wsanger/git/clip-plot/tests/smithsonian_butterflies_10/output_test_temp', 'cell_size': 32, 'embed_model': 'tf_inception_v3', 'n_neighbors': [15], 'min_dist': [0.01], 'umap_on_full_dims': False, 'n_components': 2, 'metric': 'correlation', 'pointgrid_fill': 0.05, 'copy_web_only': False, 'min_size': 100, 'gzip': False, 'shuffle': False, 'plot_id': 'test_diff', 'seed': 24, 'n_clusters': 12, 'geojson': None}\n",
      "images\n",
      "{'min_score', 'atlas_size', 'min_vertices', 'lod_cell_height', 'meta_dir'}\n",
      "{'images': '/home/wsanger/git/clip-plot/tests/smithsonian_butterflies_10/jpgs/*.jpg', 'tables': None, 'metadata': '/home/wsanger/git/clip-plot/tests/smithsonian_butterflies_10/meta_data/good_meta.csv', 'tagline': 'Images arranged by visual similarity', 'logo': None, 'max_images': None, 'use_cache': True, 'encoding': 'utf8', 'cluster_preproc_dims': -1, 'min_cluster_size': 20, 'max_clusters': 10, 'out_dir': '/home/wsanger/git/clip-plot/tests/smithsonian_butterflies_10/output_test_temp', 'cell_size': 32, 'embed_model': 'tf_inception_v3', 'n_neighbors': [15], 'min_dist': [0.01], 'umap_on_full_dims': False, 'n_components': 2, 'metric': 'correlation', 'pointgrid_fill': 0.05, 'copy_web_only': False, 'min_size': 100, 'gzip': False, 'shuffle': False, 'plot_id': 'test_diff', 'seed': 24, 'n_clusters': 12, 'geojson': None, 'min_score': 0.3, 'atlas_size': 2048, 'min_vertices': 18, 'lod_cell_height': 128, 'meta_dir': None}\n",
      "2025-10-03 16:53:00.966075: Validating input images\n"
     ]
    },
    {
     "name": "stderr",
     "output_type": "stream",
     "text": [
      "100%|██████████| 12/12 [00:00<00:00, 46.07it/s]\n"
     ]
    },
    {
     "name": "stdout",
     "output_type": "stream",
     "text": [
      "2025-10-03 16:53:01.231814: No metadata directory was provided.\n",
      "2025-10-03 16:53:01.232009: Starting image processing pipeline.\n",
      "2025-10-03 16:53:01.256260: Copying images to output directory\n"
     ]
    },
    {
     "name": "stderr",
     "output_type": "stream",
     "text": [
      "100%|██████████| 12/12 [00:00<00:00, 16.14it/s]\n"
     ]
    },
    {
     "name": "stdout",
     "output_type": "stream",
     "text": [
      "2025-10-03 16:53:02.031060: Creating embeddings using tf_inception_v3\n"
     ]
    },
    {
     "name": "stderr",
     "output_type": "stream",
     "text": [
      "100%|██████████| 12/12 [00:01<00:00,  6.21it/s]\n"
     ]
    },
    {
     "name": "stdout",
     "output_type": "stream",
     "text": [
      "2025-10-03 16:53:07.102617: Creating multi-umap layout\n",
      "2025-10-03 16:53:07.147827: Creating umap-n_neighbors_15-min_dist_0.01 pointgrid\n",
      "2025-10-03 16:53:07.201349: Creating grid layout\n",
      "2025-10-03 16:53:07.203183: Creating rasterfairy layout\n",
      "2025-10-03 16:53:08.121474: Coonswarp rectification could not be performed data must be finite, check for nan or inf values\n",
      "applying hungarian assignment for 12 indices\n",
      "2025-10-03 16:53:08.124208: Attempt to create geographic layout\n",
      "2025-10-03 16:53:08.766880: Clustering data with hdbscan\n",
      "2025-10-03 16:53:08.770621: Found 0 hotspots\n",
      "2025-10-03 16:53:08.773463: Done!\n"
     ]
    },
    {
     "data": {
      "image/png": "[encoded data removed]",
      "text/plain": [
       "<Figure size 500x500 with 1 Axes>"
      ]
     },
     "metadata": {},
     "output_type": "display_data"
    }
   ],
   "source": [
    "#| hide\n",
    "\n",
    "if __name__ == \"__main__\" and in_ipython():\n",
    "    test_butterfly()\n"
   ]
  },
  {
   "cell_type": "code",
   "execution_count": null,
   "metadata": {},
   "outputs": [],
   "source": [
    "#| hide\n",
    "import nbdev; nbdev.nbdev_export()"
   ]
  }
 ],
 "metadata": {
  "kernelspec": {
   "display_name": "python3",
   "language": "python",
   "name": "python3"
  }
 },
 "nbformat": 4,
 "nbformat_minor": 2
}
