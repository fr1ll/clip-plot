{
 "cells": [
  {
   "cell_type": "code",
   "execution_count": 42,
   "metadata": {},
   "outputs": [],
   "source": [
    "#| default_exp clip_plot"
   ]
  },
  {
   "cell_type": "code",
   "execution_count": 43,
   "metadata": {},
   "outputs": [
    {
     "name": "stdout",
     "output_type": "stream",
     "text": [
      "The autoreload extension is already loaded. To reload it, use:\n",
      "  %reload_ext autoreload\n"
     ]
    }
   ],
   "source": [
    "#| hide\n",
    "\n",
    "%load_ext autoreload\n",
    "%autoreload 2"
   ]
  },
  {
   "attachments": {},
   "cell_type": "markdown",
   "metadata": {},
   "source": [
    "# Imports and setup\n",
    "\n",
    "### Unconditional imports"
   ]
  },
  {
   "cell_type": "code",
   "execution_count": 44,
   "metadata": {},
   "outputs": [],
   "source": [
    "#|export\n",
    "\n",
    "from __future__ import division\n",
    "import warnings\n",
    "\n",
    "warnings.filterwarnings(\"ignore\")"
   ]
  },
  {
   "cell_type": "code",
   "execution_count": 45,
   "metadata": {},
   "outputs": [
    {
     "name": "stdout",
     "output_type": "stream",
     "text": [
      "2025-10-13 14:52:29.205299: Beginning to load dependencies\n"
     ]
    }
   ],
   "source": [
    "#| export\n",
    "\n",
    "# print separately that we're loading dependencies, as this can take a while\n",
    "# and we want to give immediate feedback the program is starting\n",
    "from clip_plot.utils import timestamp\n",
    "print(timestamp(), \"Beginning to load dependencies\")\n"
   ]
  },
  {
   "cell_type": "code",
   "execution_count": 46,
   "metadata": {},
   "outputs": [],
   "source": [
    "#|export\n",
    "\n",
    "from fastcore.all import call_parse, in_ipython, Param, store_true\n",
    "from tqdm.auto import tqdm\n",
    "\n",
    "from clip_plot.from_tables import glob_to_tables, table_to_meta\n",
    "from clip_plot.web_config import get_clip_plot_root, copy_web_assets\n",
    "from clip_plot.embeddings import get_embeddings, write_embeddings\n",
    "from clip_plot.metadata import get_manifest, write_metadata\n",
    "from clip_plot.images import create_atlases_and_thumbs, ImageFactory"
   ]
  },
  {
   "cell_type": "code",
   "execution_count": 47,
   "metadata": {},
   "outputs": [],
   "source": [
    "#| export\n",
    "\n",
    "from shutil import rmtree\n",
    "from pathlib import Path\n",
    "import uuid\n",
    "import sys\n",
    "import os\n",
    "import pandas as pd\n",
    "import numpy as np"
   ]
  },
  {
   "attachments": {},
   "cell_type": "markdown",
   "metadata": {},
   "source": [
    "### Image processing imports\n",
    "\n",
    "Note that I have removed the \"copy-web-only\" conditional import path for now\n",
    "\n",
    "`nbdev` does not like cells to have cells to have code and imports in the same cell:\n",
    "\n",
    "https://nbdev.fast.ai/getting_started.html#q-what-is-the-warning-found-a-cell-containing-mix-of-imports-and-computations.-please-use-separate-cells\n",
    "\n",
    "I think this may mean we don't get to do conditional imports. If we find a code path that really should have conditional imports, we can see if there is a workaround. For now, I don't feel \"copy web only\" is a very important functionality to keep."
   ]
  },
  {
   "attachments": {},
   "cell_type": "markdown",
   "metadata": {},
   "source": [
    "### Optional install imports"
   ]
  },
  {
   "cell_type": "code",
   "execution_count": 48,
   "metadata": {},
   "outputs": [
    {
     "data": {
      "text/plain": [
       "'\\nNB: Keras Image class objects return image.size as w,h\\n    Numpy array representations of images return image.shape as h,w,c\\n'"
      ]
     },
     "execution_count": 48,
     "metadata": {},
     "output_type": "execute_result"
    }
   ],
   "source": [
    "#| export\n",
    "\n",
    "_DEFAULTS = {\n",
    "    \"images\": None,\n",
    "    \"tables\": None,\n",
    "    \"meta_dir\": None,\n",
    "    \"output_dir\": \"output\",\n",
    "    \"max_images\": None,\n",
    "    \"use_cache\": True,\n",
    "    \"cluster_preproc_dims\": -1,\n",
    "    \"min_cluster_size\": 20,\n",
    "    \"max_clusters\": 10,\n",
    "    \"atlas_size\": 2048,\n",
    "    \"cell_size\": 32,\n",
    "    \"lod_cell_height\": 128, # Why is not in parser?\n",
    "    \"embed_model\": \"timm/convnext_tiny.dinov3_lvd1689m\",\n",
    "    \"n_neighbors\": [15],\n",
    "    \"min_dist\": [0.01],\n",
    "    \"umap_on_full_dims\": False,\n",
    "    \"n_components\": 2,\n",
    "    \"metric\": \"correlation\",\n",
    "    \"pointgrid_fill\": 0.05,\n",
    "    \"min_size\": 100,\n",
    "    \"min_score\": 0.3,\n",
    "    \"min_vertices\": 18,\n",
    "    \"plot_id\": str(uuid.uuid1()),\n",
    "    \"seed\": 24,\n",
    "    \"n_clusters\": 12,\n",
    "    \"geojson\": None,\n",
    "}\n",
    "\n",
    "# handle truncated images in PIL (managed by Pillow)\n",
    "PILLoadTruncated  = True\n",
    "\n",
    "\"\"\"\n",
    "NB: Keras Image class objects return image.size as w,h\n",
    "    Numpy array representations of images return image.shape as h,w,c\n",
    "\"\"\""
   ]
  },
  {
   "attachments": {},
   "cell_type": "markdown",
   "metadata": {},
   "source": [
    "\n",
    "## Entry\n",
    "\n",
    "`project_images` will kick off all the main functions for the module"
   ]
  },
  {
   "cell_type": "code",
   "execution_count": 49,
   "metadata": {},
   "outputs": [],
   "source": [
    "#| export\n",
    "\n",
    "def _project_images(imageEngine, embeds: np.ndarray | None = None, **kwargs):\n",
    "    \"\"\"\n",
    "    Main method for embedding user images, projecting to 2D, and creating visualization\n",
    "    It would be nice to list out the image processing steps before getting started\n",
    "    \"\"\"\n",
    "    if not isinstance(kwargs[\"n_neighbors\"], list):\n",
    "        kwargs.update({\"n_neighbors\": list(kwargs[\"n_neighbors\"])})\n",
    "    if not isinstance(kwargs[\"min_dist\"], list):\n",
    "        kwargs.update({\"n_neighbors\": list(kwargs[\"n_neighbors\"])})\n",
    "\n",
    "    print(timestamp(), \"Starting image processing pipeline.\")\n",
    "\n",
    "    copy_web_assets(output_dir=kwargs['output_dir'],\n",
    "                    tagline=kwargs['tagline'], logo=kwargs[\"logo\"])\n",
    "    if kwargs[\"copy_web_only\"]:\n",
    "        print(timestamp(), \"Done!\")\n",
    "        sys.exit()\n",
    "\n",
    "    np.random.seed(kwargs[\"seed\"])\n",
    "    write_metadata(imageEngine)\n",
    "\n",
    "    kwargs[\"atlas_dir\"], atlas_data = create_atlases_and_thumbs(imageEngine, kwargs[\"plot_id\"], kwargs[\"use_cache\"])\n",
    "\n",
    "    if embeds is None:\n",
    "        kwargs[\"vecs\"] = get_embeddings(imageEngine, model_name=kwargs[\"embed_model\"])\n",
    "    else:\n",
    "        kwargs[\"vecs\"] = embeds\n",
    "\n",
    "    get_manifest(imageEngine, atlas_data, **kwargs)\n",
    "    # write_images(imageEngine)\n",
    "    print(timestamp(), \"Done!\")"
   ]
  },
  {
   "attachments": {},
   "cell_type": "markdown",
   "metadata": {},
   "source": [
    "## Carlo's Test Functions\n",
    "\n",
    "> Need to remove later"
   ]
  },
  {
   "cell_type": "code",
   "execution_count": 50,
   "metadata": {},
   "outputs": [],
   "source": [
    "#| export\n",
    "\n",
    "copy_root_dir = get_clip_plot_root()\n",
    "\n",
    "def test_butterfly_duplicate(config):\n",
    "    test_images = copy_root_dir/\"tests/smithsonian_butterflies_10/jpgs_duplicates/**/*.jpg\"\n",
    "    test_output_dir = copy_root_dir/\"tests/smithsonian_butterflies_10/output_test_temp\"\n",
    "    meta_dir = copy_root_dir/\"tests/smithsonian_butterflies_10/meta_data/good_meta.csv\"\n",
    "    if Path(test_output_dir).exists():\n",
    "        rmtree(test_output_dir)\n",
    "\n",
    "    config[\"images\"] = test_images.as_posix()\n",
    "    config[\"output_dir\"] = test_output_dir.as_posix()\n",
    "    config[\"meta_dir\"] = meta_dir.as_posix()\n",
    "    config[\"plot_id\"] = \"test_diff\"\n",
    "\n",
    "    return config\n",
    "\n",
    "def test_butterfly_missing_meta(config):\n",
    "    test_images = copy_root_dir/\"tests/smithsonian_butterflies_10/jpgs/*.jpg\"\n",
    "    test_output_dir = copy_root_dir/\"tests/smithsonian_butterflies_10/output_test_temp\"\n",
    "    meta_dir = copy_root_dir/\"tests/smithsonian_butterflies_10/meta_data/meta_missing_entry.csv\"\n",
    "    if Path(test_output_dir).exists():\n",
    "        rmtree(test_output_dir)\n",
    "\n",
    "    config[\"images\"] = test_images.as_posix()\n",
    "    config[\"output_dir\"] = test_output_dir.as_posix()\n",
    "    config[\"meta_dir\"] = meta_dir.as_posix()\n",
    "    config[\"plot_id\"] = \"test_diff\"\n",
    "\n",
    "    return config\n",
    "\n",
    "def test_no_meta_dir(config):\n",
    "    test_images = copy_root_dir/\"tests/smithsonian_butterflies_10/jpgs/*.jpg\"\n",
    "    test_output_dir = copy_root_dir/\"tests/smithsonian_butterflies_10/output_test_temp\"\n",
    "    if Path(test_output_dir).exists():\n",
    "        rmtree(test_output_dir)\n",
    "\n",
    "    config[\"images\"] = test_images.as_posix()\n",
    "    config[\"output_dir\"] = test_output_dir.as_posix()\n",
    "    config[\"plot_id\"] = \"test_diff\"\n",
    "\n",
    "    return config\n"
   ]
  },
  {
   "attachments": {},
   "cell_type": "markdown",
   "metadata": {},
   "source": [
    "# Project images\n",
    "\n",
    "Command-line function thanks to @call_parse decorator"
   ]
  },
  {
   "cell_type": "code",
   "execution_count": 51,
   "metadata": {},
   "outputs": [],
   "source": [
    "#| export\n",
    "\n",
    "@call_parse\n",
    "def project_images_cli(images:Param(type=str,\n",
    "                        help=\"path or glob of images to process\"\n",
    "                        )=_DEFAULTS[\"images\"],\n",
    "                tables:Param(type=str,\n",
    "                        help=\"path or glob of tables with image_path and embed_path columns (and optionally metadata)\"\n",
    "                        )=None,\n",
    "                metadata:Param(type=str,\n",
    "                        help=\"path to a csv or glob of JSON files with image metadata (see readme for format)\"\n",
    "                        )=_DEFAULTS[\"meta_dir\"],\n",
    "                tagline:Param(type=str,\n",
    "                        help=\"tagline for image web page\"\n",
    "                        )=\"Images arranged by visual similarity\",\n",
    "                logo:Param(type=str,\n",
    "                        help=\"path to a small, squarish logo -- SVG is best\"\n",
    "                        )=None,\n",
    "                max_images:Param(type=int,\n",
    "                        help=\"maximum number of images to process\"\n",
    "                        )=_DEFAULTS[\"max_images\"],\n",
    "                use_cache:Param(type=store_true,\n",
    "                        help=\"given inputs identical to prior inputs, load outputs from cache\"\n",
    "                        )=_DEFAULTS[\"use_cache\"],\n",
    "                cluster_preproc_dims:Param(type=int,\n",
    "                        help=\"number of dims to reduce to prior to clustering. -1 means don't reduce\",\n",
    "                        required=False\n",
    "                        )=_DEFAULTS[\"cluster_preproc_dims\"],\n",
    "                min_cluster_size:Param(type=int,\n",
    "                        help=\"the minimum number of images in a cluster\",\n",
    "                        required=False\n",
    "                        )=_DEFAULTS[\"min_cluster_size\"],\n",
    "                max_clusters:Param(type=int,\n",
    "                        help=\"the maximum number of clusters to return\",\n",
    "                        required=False\n",
    "                        )=_DEFAULTS[\"max_clusters\"],\n",
    "                output_dir:Param(type=str,\n",
    "                        help=\"the directory to which outputs will be saved\",\n",
    "                        required=False\n",
    "                        )=_DEFAULTS[\"output_dir\"],\n",
    "                cell_size:Param(type=int,\n",
    "                        help=\"the size of atlas cells in px\",\n",
    "                        required=False\n",
    "                        )=_DEFAULTS[\"cell_size\"],\n",
    "                embed_model:Param(type=str,\n",
    "                        help=\"pre-trained model from timm library to use to create embedding\",\n",
    "                        required=False\n",
    "                        )=_DEFAULTS[\"embed_model\"],\n",
    "                n_neighbors:Param(type=int,\n",
    "                        nargs=\"+\",\n",
    "                        help=\"the n_neighbors arguments for UMAP\"\n",
    "                        )=_DEFAULTS[\"n_neighbors\"],\n",
    "                min_dist:Param(type=float,\n",
    "                        nargs=\"+\",\n",
    "                        help=\"the min_dist arguments for UMAP\"\n",
    "                        )=_DEFAULTS[\"min_dist\"],\n",
    "                umap_on_full_dims:Param(type=store_true,\n",
    "                        help=\"skip PCA (faster dimensionality reduction) prior to UMAP\"\n",
    "                        )=_DEFAULTS[\"umap_on_full_dims\"],\n",
    "                n_components:Param(type=int,\n",
    "                        help=\"the n_components argument for UMAP\"\n",
    "                        )=_DEFAULTS[\"n_components\"],\n",
    "                metric:Param(type=str,\n",
    "                        help=\"the metric argument for umap\"\n",
    "                        )=_DEFAULTS[\"metric\"],\n",
    "                pointgrid_fill:Param(type=float,\n",
    "                        help=\"float 0:1 that determines sparsity of jittered distributions (lower means more sparse)\"\n",
    "                        )=_DEFAULTS[\"pointgrid_fill\"],\n",
    "                copy_web_only:Param(type=store_true,\n",
    "                        help=\"update ./output/assets without reprocessing data\"\n",
    "                        )=False,\n",
    "                min_size:Param(type=float,\n",
    "                        help=\"min size of cropped images\"\n",
    "                        )=_DEFAULTS[\"min_size\"],\n",
    "                shuffle:Param(type=store_true,\n",
    "                        help=\"shuffle the input images before data processing begins\"\n",
    "                        )=False,\n",
    "                plot_id:Param(type=str,\n",
    "                        help=\"unique id for a plot; useful for resuming processing on a started plot\"\n",
    "                        )=_DEFAULTS[\"plot_id\"],\n",
    "                seed:Param(type=int, help=\"seed for random processes\"\n",
    "                           )=_DEFAULTS[\"seed\"],\n",
    "                n_clusters:Param(type=int,\n",
    "                        help=\"number of clusters if using kmeans\"\n",
    "                        )=_DEFAULTS[\"n_clusters\"],\n",
    "                geojson:Param(type=str,\n",
    "                        help=\"path to a GeoJSON file with shapes to be rendered on a map\"\n",
    "                        )=_DEFAULTS[\"geojson\"]\n",
    "                ):\n",
    "                \"Convert a folder of images into a clip-plot visualization\"\n",
    "\n",
    "                # grab local variables as configuration dict\n",
    "                config = dict(locals())\n",
    "\n",
    "\n",
    "                # some parameters exist in _DEFAULTS but not in the function signature\n",
    "                default_only_keys = set(_DEFAULTS.keys() - config.keys())\n",
    "                default_only = {k:_DEFAULTS[k] for k in default_only_keys}\n",
    "                config.update(default_only)\n",
    "\n",
    "                options = {\n",
    "                        'shuffle': config['shuffle'], \n",
    "                        'seed': config['seed'], \n",
    "                        'max_images': config['max_images'], \n",
    "                        'atlas_size': config['atlas_size'], \n",
    "                        'cell_size': config['cell_size'], \n",
    "                        'lod_cell_height': config['lod_cell_height'], \n",
    "                        'validate': True, \n",
    "                }\n",
    "\n",
    "                if not tables:\n",
    "                        embeds = None\n",
    "                        table = None\n",
    "                else:\n",
    "                        if images is not None: raise ValueError(\"Provide either tables or images parameter, not both.\")\n",
    "                        print(timestamp(), \"Loading tables\")\n",
    "                        table = glob_to_tables(tables)\n",
    "                        config[\"images\"] = list(table.image_path.values)\n",
    "                        images = config[\"images\"]\n",
    "                        print(timestamp(), \"Loading embeddings from disk\")\n",
    "                        embeds = np.array([np.load(e) for e in tqdm(table.embed_path)])\n",
    "\n",
    "                data_dir = os.path.join(config[\"output_dir\"], \"data\")\n",
    "                imageEngine = ImageFactory(config['images'], data_dir, config['meta_dir'], options)\n",
    "\n",
    "                # grab metadata from table if provided\n",
    "                if table is not None:\n",
    "                        imageEngine.meta_headers, imageEngine.metadata = table_to_meta(table)\n",
    "\n",
    "                print(f\"Config to project images: {str(config)}\")\n",
    "\n",
    "                _project_images(imageEngine, embeds, **config)"
   ]
  },
  {
   "cell_type": "code",
   "execution_count": 52,
   "metadata": {},
   "outputs": [],
   "source": [
    "#| export\n",
    "\n",
    "# awful workaround because I think call_parse only works with sys.argv (cli)\n",
    "project_images = project_images_cli.__wrapped__"
   ]
  },
  {
   "attachments": {},
   "cell_type": "markdown",
   "metadata": {},
   "source": [
    "### Embed images without building visualization\n",
    "\n",
    "Outputs a table linking the embedding files to the images\n",
    "\n",
    "Test with bash command:\n",
    "```\n",
    "clipplot_embed_images --images \"tests/smithsonian_butterflies_10/jpgs/*.jpg\" --output_dir \"tests/smithsonian_butterflies_10/DELETEME_embed_only\" --metadata \"tests/smithsonian_butterflies_10/meta_data/good_meta.csv\"\n",
    "```"
   ]
  },
  {
   "cell_type": "code",
   "execution_count": 53,
   "metadata": {},
   "outputs": [],
   "source": [
    "#| export\n",
    "\n",
    "@call_parse\n",
    "def embed_images_cli(images:Param(type=str,\n",
    "                        help=\"path or glob of images to process\"\n",
    "                        )=_DEFAULTS[\"images\"],\n",
    "                embed_model:Param(type=str,\n",
    "                        help=\"pre-trained model from timm library to use to create embedding\",\n",
    "                        required=False\n",
    "                        )=_DEFAULTS[\"embed_model\"],\n",
    "                output_dir:Param(type=str,\n",
    "                        help=\"the directory to which outputs will be saved\",\n",
    "                        required=False\n",
    "                        )=_DEFAULTS[\"output_dir\"],\n",
    "                metadata:Param(type=str,\n",
    "                        help=\"path to a csv or glob of JSON files with image metadata (see readme for format)\"\n",
    "                        )=_DEFAULTS[\"meta_dir\"],\n",
    "                table_id:Param(type=str,\n",
    "                        help=\"identifier for table that links embeddings to images and (optionally) metadata\",\n",
    "                        required=False\n",
    "                        )=str(uuid.uuid1()),\n",
    "                table_format:Param(type=str,\n",
    "                        choices=[\"parquet\", \"csv\"],\n",
    "                        help=\"format for table linking embeddings, images, and metadata\",\n",
    "                        required=False\n",
    "                        )=\"parquet\"\n",
    "                ):\n",
    "                \"Embed a folder of images and save embeddings as .npy file to disk\"\n",
    "\n",
    "                # using Path.cwd() to handle ../ names -- not sure if this is superstitious\n",
    "                data_dir = Path.cwd() / Path(output_dir).resolve() / \"data\"\n",
    "\n",
    "                imageEngine = ImageFactory(img_path=images, data_dir=data_dir, meta_dir=metadata)\n",
    "\n",
    "                embeddings = get_embeddings(imageEngine, model_name=embed_model)\n",
    "\n",
    "                def _model_shortname(n: str) -> str:\n",
    "                        return \"__\".join(n.split(\"/\")[-2:])\n",
    "\n",
    "                embs_dir = data_dir/f\"embeddings_{_model_shortname(embed_model)}\"\n",
    "                embs_dir.mkdir(parents=True, exist_ok=True)\n",
    "                emb_paths = write_embeddings(embeddings, imageEngine.filenames, embs_dir)\n",
    "\n",
    "                df = pd.DataFrame({\"image_path\": imageEngine.image_paths,\n",
    "                                   \"image_filename\": imageEngine.filenames,\n",
    "                                   \"embed_path\": [str(e) for e in emb_paths]})\n",
    "\n",
    "                if len(imageEngine.metadata) > 0:\n",
    "                        df_meta = pd.DataFrame(imageEngine.metadata)\n",
    "                        df_meta = df_meta.rename(columns={\"filename\": \"image_filename\"})\n",
    "                        # drop \"image_path\" column if df_meta has it\n",
    "                        if \"image_path\" in df_meta.columns:\n",
    "                                df_meta = df_meta.drop(columns=[\"image_path\"])\n",
    "\n",
    "                        df = df.merge(df_meta.drop_duplicates([\"image_filename\"]), on=\"image_filename\")\n",
    "\n",
    "                ## standardize sort order of table\n",
    "                # put standard columns first if they exist in df\n",
    "                standard_cols = pd.Index([\"image_path\", \"image_filename\", \"embed_path\", \"category\", \"tags\", \"x\", \"y\"])\n",
    "                cols_sorted = standard_cols.intersection(df.columns)\n",
    "                # append non-standard columns, sorted alphabetically\n",
    "                cols_sorted = cols_sorted.append(df.columns.difference(standard_cols).sort_values())\n",
    "                df = df[cols_sorted]\n",
    "\n",
    "                if table_format == \"csv\":\n",
    "                        df.to_csv(data_dir / f\"EmbedImages__{table_id}.csv\", index=False)\n",
    "                else: df.to_parquet(data_dir / f\"EmbedImages__{table_id}.parquet\", index=False)"
   ]
  },
  {
   "cell_type": "code",
   "execution_count": 54,
   "metadata": {},
   "outputs": [],
   "source": [
    "#| export\n",
    "\n",
    "# awful workaround because I think call_parse only works with sys.argv (cli)\n",
    "embed_images = embed_images_cli.__wrapped__"
   ]
  },
  {
   "cell_type": "code",
   "execution_count": 55,
   "metadata": {},
   "outputs": [],
   "source": [
    "#| hide\n",
    "\n",
    "def test_butterfly():\n",
    "    test_images = copy_root_dir/\"tests/smithsonian_butterflies_10/jpgs/*.jpg\"\n",
    "    test_output_dir = copy_root_dir/\"tests/smithsonian_butterflies_10/output_test_temp\"\n",
    "    meta = copy_root_dir/\"tests/smithsonian_butterflies_10/meta_data/good_meta.csv\"\n",
    "    if Path(test_output_dir).exists():\n",
    "        rmtree(test_output_dir)\n",
    "    \n",
    "    project_images(images=test_images.as_posix(),\n",
    "                   output_dir=test_output_dir.as_posix(),\n",
    "                   metadata=meta.as_posix(),\n",
    "                   plot_id=\"test_diff\",\n",
    "                   )\n",
    "\n",
    "    return"
   ]
  },
  {
   "cell_type": "code",
   "execution_count": 56,
   "metadata": {},
   "outputs": [
    {
     "name": "stdout",
     "output_type": "stream",
     "text": [
      "2025-10-13 14:52:30.733645: First three paths: /home/wsanger/git/clip-plot/tests/smithsonian_butterflies_10/jpgs/30aeb051d-ee0d-4c5b-8a85-a8da7baef5fd.jpg\n",
      "/home/wsanger/git/clip-plot/tests/smithsonian_butterflies_10/jpgs/9fea3150-a3d4-11ed-aeea-e36f1256f233.jpg\n",
      "/home/wsanger/git/clip-plot/tests/smithsonian_butterflies_10/jpgs/329a4c094-8536-4396-be70-3d9b5d0744d9.jpg\n",
      "2025-10-13 14:52:30.733870: Validating input images\n"
     ]
    },
    {
     "data": {
      "application/vnd.jupyter.widget-view+json": {
       "model_id": "bbae92e5f8a847d38abe590d568393ff",
       "version_major": 2,
       "version_minor": 0
      },
      "text/plain": [
       "  0%|          | 0/12 [00:00<?, ?it/s]"
      ]
     },
     "metadata": {},
     "output_type": "display_data"
    },
    {
     "name": "stdout",
     "output_type": "stream",
     "text": [
      "2025-10-13 14:52:31.007714: No metadata directory was provided.\n",
      "Config to project images: {'images': '/home/wsanger/git/clip-plot/tests/smithsonian_butterflies_10/jpgs/*.jpg', 'tables': None, 'metadata': '/home/wsanger/git/clip-plot/tests/smithsonian_butterflies_10/meta_data/good_meta.csv', 'tagline': 'Images arranged by visual similarity', 'logo': None, 'max_images': None, 'use_cache': True, 'cluster_preproc_dims': -1, 'min_cluster_size': 20, 'max_clusters': 10, 'output_dir': '/home/wsanger/git/clip-plot/tests/smithsonian_butterflies_10/output_test_temp', 'cell_size': 32, 'embed_model': 'timm/convnext_tiny.dinov3_lvd1689m', 'n_neighbors': [15], 'min_dist': [0.01], 'umap_on_full_dims': False, 'n_components': 2, 'metric': 'correlation', 'pointgrid_fill': 0.05, 'copy_web_only': False, 'min_size': 100, 'shuffle': False, 'plot_id': 'test_diff', 'seed': 24, 'n_clusters': 12, 'geojson': None, 'meta_dir': None, 'min_score': 0.3, 'lod_cell_height': 128, 'atlas_size': 2048, 'min_vertices': 18}\n",
      "2025-10-13 14:52:31.008223: Starting image processing pipeline.\n"
     ]
    },
    {
     "ename": "TypeError",
     "evalue": "copy_web_assets() got an unexpected keyword argument 'output_dir'",
     "output_type": "error",
     "traceback": [
      "\u001b[0;31m---------------------------------------------------------------------------\u001b[0m",
      "\u001b[0;31mTypeError\u001b[0m                                 Traceback (most recent call last)",
      "Cell \u001b[0;32mIn[56], line 4\u001b[0m\n\u001b[1;32m      1\u001b[0m \u001b[38;5;66;03m#| hide\u001b[39;00m\n\u001b[1;32m      3\u001b[0m \u001b[38;5;28;01mif\u001b[39;00m \u001b[38;5;18m__name__\u001b[39m \u001b[38;5;241m==\u001b[39m \u001b[38;5;124m\"\u001b[39m\u001b[38;5;124m__main__\u001b[39m\u001b[38;5;124m\"\u001b[39m \u001b[38;5;129;01mand\u001b[39;00m in_ipython():\n\u001b[0;32m----> 4\u001b[0m     \u001b[43mtest_butterfly\u001b[49m\u001b[43m(\u001b[49m\u001b[43m)\u001b[49m\n",
      "Cell \u001b[0;32mIn[55], line 10\u001b[0m, in \u001b[0;36mtest_butterfly\u001b[0;34m()\u001b[0m\n\u001b[1;32m      7\u001b[0m \u001b[38;5;28;01mif\u001b[39;00m Path(test_output_dir)\u001b[38;5;241m.\u001b[39mexists():\n\u001b[1;32m      8\u001b[0m     rmtree(test_output_dir)\n\u001b[0;32m---> 10\u001b[0m \u001b[43mproject_images\u001b[49m\u001b[43m(\u001b[49m\u001b[43mimages\u001b[49m\u001b[38;5;241;43m=\u001b[39;49m\u001b[43mtest_images\u001b[49m\u001b[38;5;241;43m.\u001b[39;49m\u001b[43mas_posix\u001b[49m\u001b[43m(\u001b[49m\u001b[43m)\u001b[49m\u001b[43m,\u001b[49m\n\u001b[1;32m     11\u001b[0m \u001b[43m               \u001b[49m\u001b[43moutput_dir\u001b[49m\u001b[38;5;241;43m=\u001b[39;49m\u001b[43mtest_output_dir\u001b[49m\u001b[38;5;241;43m.\u001b[39;49m\u001b[43mas_posix\u001b[49m\u001b[43m(\u001b[49m\u001b[43m)\u001b[49m\u001b[43m,\u001b[49m\n\u001b[1;32m     12\u001b[0m \u001b[43m               \u001b[49m\u001b[43mmetadata\u001b[49m\u001b[38;5;241;43m=\u001b[39;49m\u001b[43mmeta\u001b[49m\u001b[38;5;241;43m.\u001b[39;49m\u001b[43mas_posix\u001b[49m\u001b[43m(\u001b[49m\u001b[43m)\u001b[49m\u001b[43m,\u001b[49m\n\u001b[1;32m     13\u001b[0m \u001b[43m               \u001b[49m\u001b[43mplot_id\u001b[49m\u001b[38;5;241;43m=\u001b[39;49m\u001b[38;5;124;43m\"\u001b[39;49m\u001b[38;5;124;43mtest_diff\u001b[39;49m\u001b[38;5;124;43m\"\u001b[39;49m\u001b[43m,\u001b[49m\n\u001b[1;32m     14\u001b[0m \u001b[43m               \u001b[49m\u001b[43m)\u001b[49m\n\u001b[1;32m     16\u001b[0m \u001b[38;5;28;01mreturn\u001b[39;00m\n",
      "Cell \u001b[0;32mIn[51], line 132\u001b[0m, in \u001b[0;36mproject_images_cli\u001b[0;34m(images, tables, metadata, tagline, logo, max_images, use_cache, cluster_preproc_dims, min_cluster_size, max_clusters, output_dir, cell_size, embed_model, n_neighbors, min_dist, umap_on_full_dims, n_components, metric, pointgrid_fill, copy_web_only, min_size, shuffle, plot_id, seed, n_clusters, geojson)\u001b[0m\n\u001b[1;32m    128\u001b[0m         imageEngine\u001b[38;5;241m.\u001b[39mmeta_headers, imageEngine\u001b[38;5;241m.\u001b[39mmetadata \u001b[38;5;241m=\u001b[39m table_to_meta(table)\n\u001b[1;32m    130\u001b[0m \u001b[38;5;28mprint\u001b[39m(\u001b[38;5;124mf\u001b[39m\u001b[38;5;124m\"\u001b[39m\u001b[38;5;124mConfig to project images: \u001b[39m\u001b[38;5;132;01m{\u001b[39;00m\u001b[38;5;28mstr\u001b[39m(config)\u001b[38;5;132;01m}\u001b[39;00m\u001b[38;5;124m\"\u001b[39m)\n\u001b[0;32m--> 132\u001b[0m \u001b[43m_project_images\u001b[49m\u001b[43m(\u001b[49m\u001b[43mimageEngine\u001b[49m\u001b[43m,\u001b[49m\u001b[43m \u001b[49m\u001b[43membeds\u001b[49m\u001b[43m,\u001b[49m\u001b[43m \u001b[49m\u001b[38;5;241;43m*\u001b[39;49m\u001b[38;5;241;43m*\u001b[39;49m\u001b[43mconfig\u001b[49m\u001b[43m)\u001b[49m\n",
      "Cell \u001b[0;32mIn[49], line 15\u001b[0m, in \u001b[0;36m_project_images\u001b[0;34m(imageEngine, embeds, **kwargs)\u001b[0m\n\u001b[1;32m     11\u001b[0m     kwargs\u001b[38;5;241m.\u001b[39mupdate({\u001b[38;5;124m\"\u001b[39m\u001b[38;5;124mn_neighbors\u001b[39m\u001b[38;5;124m\"\u001b[39m: \u001b[38;5;28mlist\u001b[39m(kwargs[\u001b[38;5;124m\"\u001b[39m\u001b[38;5;124mn_neighbors\u001b[39m\u001b[38;5;124m\"\u001b[39m])})\n\u001b[1;32m     13\u001b[0m \u001b[38;5;28mprint\u001b[39m(timestamp(), \u001b[38;5;124m\"\u001b[39m\u001b[38;5;124mStarting image processing pipeline.\u001b[39m\u001b[38;5;124m\"\u001b[39m)\n\u001b[0;32m---> 15\u001b[0m \u001b[43mcopy_web_assets\u001b[49m\u001b[43m(\u001b[49m\u001b[43moutput_dir\u001b[49m\u001b[38;5;241;43m=\u001b[39;49m\u001b[43mkwargs\u001b[49m\u001b[43m[\u001b[49m\u001b[38;5;124;43m'\u001b[39;49m\u001b[38;5;124;43moutput_dir\u001b[39;49m\u001b[38;5;124;43m'\u001b[39;49m\u001b[43m]\u001b[49m\u001b[43m,\u001b[49m\n\u001b[1;32m     16\u001b[0m \u001b[43m                \u001b[49m\u001b[43mtagline\u001b[49m\u001b[38;5;241;43m=\u001b[39;49m\u001b[43mkwargs\u001b[49m\u001b[43m[\u001b[49m\u001b[38;5;124;43m'\u001b[39;49m\u001b[38;5;124;43mtagline\u001b[39;49m\u001b[38;5;124;43m'\u001b[39;49m\u001b[43m]\u001b[49m\u001b[43m,\u001b[49m\u001b[43m \u001b[49m\u001b[43mlogo\u001b[49m\u001b[38;5;241;43m=\u001b[39;49m\u001b[43mkwargs\u001b[49m\u001b[43m[\u001b[49m\u001b[38;5;124;43m\"\u001b[39;49m\u001b[38;5;124;43mlogo\u001b[39;49m\u001b[38;5;124;43m\"\u001b[39;49m\u001b[43m]\u001b[49m\u001b[43m)\u001b[49m\n\u001b[1;32m     17\u001b[0m \u001b[38;5;28;01mif\u001b[39;00m kwargs[\u001b[38;5;124m\"\u001b[39m\u001b[38;5;124mcopy_web_only\u001b[39m\u001b[38;5;124m\"\u001b[39m]:\n\u001b[1;32m     18\u001b[0m     \u001b[38;5;28mprint\u001b[39m(timestamp(), \u001b[38;5;124m\"\u001b[39m\u001b[38;5;124mDone!\u001b[39m\u001b[38;5;124m\"\u001b[39m)\n",
      "\u001b[0;31mTypeError\u001b[0m: copy_web_assets() got an unexpected keyword argument 'output_dir'"
     ]
    }
   ],
   "source": [
    "#| hide\n",
    "\n",
    "if __name__ == \"__main__\" and in_ipython():\n",
    "    test_butterfly()\n"
   ]
  },
  {
   "cell_type": "code",
   "execution_count": null,
   "metadata": {},
   "outputs": [],
   "source": [
    "#| hide\n",
    "import nbdev; nbdev.nbdev_export()"
   ]
  }
 ],
 "metadata": {
  "kernelspec": {
   "display_name": "clip-plot",
   "language": "python",
   "name": "python3"
  },
  "language_info": {
   "codemirror_mode": {
    "name": "ipython",
    "version": 3
   },
   "file_extension": ".py",
   "mimetype": "text/x-python",
   "name": "python",
   "nbconvert_exporter": "python",
   "pygments_lexer": "ipython3",
   "version": "3.10.13"
  }
 },
 "nbformat": 4,
 "nbformat_minor": 2
}
