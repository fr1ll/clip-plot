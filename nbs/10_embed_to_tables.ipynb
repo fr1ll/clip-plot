{
 "cells": [
  {
   "cell_type": "code",
   "execution_count": null,
   "id": "3ecdf38e",
   "metadata": {},
   "outputs": [],
   "source": [
    "#| default_exp embed_to_tables"
   ]
  },
  {
   "cell_type": "code",
   "execution_count": null,
   "id": "4aa4bd6a",
   "metadata": {},
   "outputs": [],
   "source": [
    "#| hide\n",
    "%load_ext autoreload\n",
    "%autoreload 2"
   ]
  },
  {
   "cell_type": "code",
   "execution_count": null,
   "id": "e69f4d8a",
   "metadata": {},
   "outputs": [],
   "source": [
    "#| export\n",
    "\n",
    "from typing import Literal\n",
    "from pathlib import Path\n",
    "from copy import deepcopy\n",
    "\n",
    "import pandas as pd\n",
    "from pydantic_settings import CliApp\n",
    "\n",
    "from clip_plot.configuration import Cfg\n",
    "from clip_plot.images import ImageFactory\n",
    "from clip_plot.embeddings import get_embeddings, write_embeddings"
   ]
  },
  {
   "cell_type": "code",
   "execution_count": null,
   "id": "83fe27b2",
   "metadata": {},
   "outputs": [],
   "source": [
    "#| export\n",
    "\n",
    "_D = Cfg() # defaults"
   ]
  },
  {
   "cell_type": "code",
   "execution_count": null,
   "id": "786c26ac",
   "metadata": {},
   "outputs": [],
   "source": [
    "#| export\n",
    "\n",
    "def embed_to_tables_pipeline(\n",
    "                images: list[Path] = deepcopy(_D.paths.images),\n",
    "                embed_model: str = deepcopy(_D.model),\n",
    "                output_dir: Path = deepcopy(_D.paths.output_dir),\n",
    "                metadata: list[Path] | None = deepcopy(_D.paths.metadata),\n",
    "                table_id: str = deepcopy(_D.paths.table_id),\n",
    "                table_format: Literal[\"parquet\", \"csv\"]=deepcopy(_D.paths.table_format),\n",
    "                local_only: bool = False\n",
    "                ):\n",
    "                \"Embed a folder of images and save embeddings as .npy file to disk\"\n",
    "\n",
    "                # using Path.cwd() to handle ../ names -- not sure if this is superstitious\n",
    "                data_dir = Path.cwd() / Path(output_dir).resolve() / \"data\"\n",
    "\n",
    "                imageEngine = ImageFactory(img_path=images,\n",
    "                                           out_dir=data_dir.as_posix(),\n",
    "                                           meta_dir=metadata)\n",
    "\n",
    "                embeddings = get_embeddings(imageEngine, model_name=embed_model)\n",
    "\n",
    "                def _model_shortname(n: str) -> str:\n",
    "                        return \"__\".join(n.split(\"/\")[-2:])\n",
    "\n",
    "                embs_dir = data_dir/f\"embeddings_{_model_shortname(embed_model)}\"\n",
    "                embs_dir.mkdir(parents=True, exist_ok=True)\n",
    "                emb_paths = write_embeddings(embeddings, imageEngine.filenames, embs_dir)\n",
    "\n",
    "                df = pd.DataFrame({\"image_path\": [p.as_posix() for p in imageEngine.image_paths],\n",
    "                                   \"image_filename\": imageEngine.filenames,\n",
    "                                   \"embed_path\": [str(e) for e in emb_paths]})\n",
    "\n",
    "                if len(imageEngine.metadata) > 0:\n",
    "                        df_meta = pd.DataFrame(imageEngine.metadata)\n",
    "                        df_meta = df_meta.rename(columns={\"filename\": \"image_filename\"})\n",
    "                        # drop \"image_path\" column if df_meta has it\n",
    "                        if \"image_path\" in df_meta.columns:\n",
    "                                df_meta = df_meta.drop(columns=[\"image_path\"])\n",
    "\n",
    "                        df = df.merge(df_meta.drop_duplicates([\"image_filename\"]), on=\"image_filename\")\n",
    "\n",
    "                ## standardize sort order of table\n",
    "                # put standard columns first if they exist in df\n",
    "                standard_cols = pd.Index([\"image_path\", \"image_filename\", \"embed_path\", \"category\", \"tags\", \"x\", \"y\"])\n",
    "                cols_sorted = standard_cols.intersection(df.columns)\n",
    "                # append non-standard columns, sorted alphabetically\n",
    "                cols_sorted = cols_sorted.append(df.columns.difference(standard_cols).sort_values())\n",
    "                df = df[cols_sorted]\n",
    "\n",
    "                if table_format == \"csv\":\n",
    "                        df.to_csv(data_dir / f\"EmbedImages__{table_id}.csv\", index=False)\n",
    "                else:\n",
    "                        df.to_parquet(data_dir / f\"EmbedImages__{table_id}.parquet\", index=False)"
   ]
  },
  {
   "cell_type": "code",
   "execution_count": null,
   "id": "29784812",
   "metadata": {},
   "outputs": [],
   "source": [
    "#| export\n",
    "\n",
    "def embed_to_tables_cli():\n",
    "    \"\"\"\n",
    "    run embed_to_tables with CLI defined\n",
    "    from pydantic-settings configuration object\n",
    "    \"\"\"\n",
    "    cfg = CliApp.run(Cfg)\n",
    "    embed_to_tables_pipeline(\n",
    "        images=cfg.paths.images,\n",
    "        embed_model=cfg.model,\n",
    "        output_dir=cfg.paths.output_dir,\n",
    "        metadata=cfg.paths.metadata,\n",
    "        table_id=cfg.paths.table_id,\n",
    "        table_format=cfg.paths.table_format\n",
    "    )"
   ]
  },
  {
   "cell_type": "code",
   "execution_count": null,
   "id": "dd8a788d",
   "metadata": {},
   "outputs": [],
   "source": [
    "#|hide\n",
    "import nbdev; nbdev.nbdev_export()"
   ]
  }
 ],
 "metadata": {
  "kernelspec": {
   "display_name": "python3",
   "language": "python",
   "name": "python3"
  }
 },
 "nbformat": 4,
 "nbformat_minor": 5
}
