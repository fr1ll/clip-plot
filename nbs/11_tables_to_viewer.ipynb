{
 "cells": [
  {
   "cell_type": "code",
   "execution_count": 13,
   "id": "3ecdf38e",
   "metadata": {},
   "outputs": [],
   "source": [
    "#| default_exp tables_to_viewer"
   ]
  },
  {
   "cell_type": "code",
   "execution_count": 14,
   "id": "4aa4bd6a",
   "metadata": {},
   "outputs": [
    {
     "name": "stdout",
     "output_type": "stream",
     "text": [
      "The autoreload extension is already loaded. To reload it, use:\n",
      "  %reload_ext autoreload\n"
     ]
    }
   ],
   "source": [
    "#| hide\n",
    "%load_ext autoreload\n",
    "%autoreload 2"
   ]
  },
  {
   "cell_type": "code",
   "execution_count": 15,
   "id": "e69f4d8a",
   "metadata": {},
   "outputs": [],
   "source": [
    "#| export\n",
    "\n",
    "from pathlib import Path\n",
    "from copy import deepcopy\n",
    "\n",
    "import pandas as pd\n",
    "from pydantic_settings import CliApp\n",
    "\n",
    "from clip_plot.configuration import Cfg\n",
    "from clip_plot.utils import timestamp\n",
    "from clip_plot.web_config import copy_web_assets\n",
    "from clip_plot.images import ImageFactory\n",
    "from clip_plot.metadata import get_manifest, write_metadata\n",
    "from clip_plot.images import create_atlases_and_thumbs, ImageFactory\n",
    "\n",
    "\n",
    "from clip_plot.from_tables import table_to_meta, cat_tables"
   ]
  },
  {
   "cell_type": "code",
   "execution_count": 16,
   "id": "83fe27b2",
   "metadata": {},
   "outputs": [],
   "source": [
    "#| export\n",
    "\n",
    "_D = Cfg() # defaults"
   ]
  },
  {
   "cell_type": "code",
   "execution_count": 17,
   "id": "786c26ac",
   "metadata": {},
   "outputs": [],
   "source": [
    "#| export\n",
    "\n",
    "def tables_to_viewer_pipeline(\n",
    "    tables: list[Path] = deepcopy(_D.paths.tables),\n",
    "    output_dir: Path = deepcopy(_D.paths.output_dir),\n",
    "    tagline: str = deepcopy(_D.tagline),\n",
    "    logo: str = deepcopy(_D.logo),\n",
    "):\n",
    "    \"\"\"\n",
    "    From a set of tables with embed_path and image_path columns,\n",
    "    generate a clipplot viewer\n",
    "    \"\"\"\n",
    "    print(timestamp(), \"Starting image processing pipeline.\")\n",
    "    df = cat_tables(tables, table_format=tables[0].suffix)\n",
    "    metadata = table_to_meta(df)\n",
    "\n",
    "    copy_web_assets(out_dir=output_dir.as_posix(),\n",
    "                    tagline=tagline, logo=logo)\n",
    "    image_engine = ImageFactory(data_dir=output_dir/\"data\",\n",
    "                                meta_dir=None,\n",
    "                                img_path=df[\"image_path\"].tolist(),\n",
    "                                )\n",
    "\n",
    "    write_metadata(image_engine)\n",
    "    # embeddings = //\n",
    "\n",
    "    kwargs[\"atlas_dir\"], atlas_data = create_atlases_and_thumbs(imageEngine, kwargs[\"plot_id\"], kwargs[\"use_cache\"])\n",
    "    get_manifest(imageEngine, atlas_data, **kwargs)\n",
    "    print(timestamp(), \"Done!\")\n",
    "\n",
    "\n"
   ]
  },
  {
   "cell_type": "code",
   "execution_count": 18,
   "id": "29784812",
   "metadata": {},
   "outputs": [],
   "source": [
    "#| export\n",
    "\n",
    "def tables_to_viewer_cli():\n",
    "    \"\"\"\n",
    "    run embed_to_tables with CLI defined\n",
    "    from pydantic-settings configuration object\n",
    "    \"\"\"\n",
    "    cfg = CliApp.run(Cfg)\n",
    "    tables_to_viewer_pipeline(\n",
    "        tables=cfg.paths.tables,\n",
    "        tagline=cfg.viewer.tagline,\n",
    "        logo=cfg.viewer.logo,\n",
    "        output_dir=cfg.paths.output_dir,\n",
    "        table_format=cfg.paths.table_format\n",
    "    )"
   ]
  },
  {
   "cell_type": "code",
   "execution_count": 19,
   "id": "dd8a788d",
   "metadata": {},
   "outputs": [],
   "source": [
    "#|hide\n",
    "import nbdev; nbdev.nbdev_export()"
   ]
  }
 ],
 "metadata": {
  "kernelspec": {
   "display_name": "clip-plot",
   "language": "python",
   "name": "python3"
  },
  "language_info": {
   "codemirror_mode": {
    "name": "ipython",
    "version": 3
   },
   "file_extension": ".py",
   "mimetype": "text/x-python",
   "name": "python",
   "nbconvert_exporter": "python",
   "pygments_lexer": "ipython3",
   "version": "3.10.13"
  }
 },
 "nbformat": 4,
 "nbformat_minor": 5
}
