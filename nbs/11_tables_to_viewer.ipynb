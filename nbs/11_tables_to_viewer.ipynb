{
 "cells": [
  {
   "cell_type": "code",
   "execution_count": 1,
   "id": "3ecdf38e",
   "metadata": {},
   "outputs": [],
   "source": [
    "#| default_exp tables_to_viewer"
   ]
  },
  {
   "cell_type": "code",
   "execution_count": 2,
   "id": "4aa4bd6a",
   "metadata": {},
   "outputs": [],
   "source": [
    "#| hide\n",
    "%load_ext autoreload\n",
    "%autoreload 2"
   ]
  },
  {
   "cell_type": "code",
   "execution_count": 3,
   "id": "e69f4d8a",
   "metadata": {},
   "outputs": [],
   "source": [
    "#| export\n",
    "\n",
    "from typing import Literal\n",
    "from pathlib import Path\n",
    "from copy import deepcopy\n",
    "\n",
    "import pandas as pd\n",
    "from pydantic_settings import CliApp\n",
    "\n",
    "from clip_plot.configuration import Cfg\n",
    "from clip_plot.utils import timestamp\n",
    "from clip_plot.web_config import copy_web_assets\n",
    "from clip_plot.images import ImageFactory\n",
    "from clip_plot.metadata import get_manifest, write_metadata\n",
    "from clip_plot.images import create_atlases_and_thumbs, ImageFactory\n",
    "\n",
    "\n",
    "from clip_plot.from_tables import glob_to_tables, table_to_meta"
   ]
  },
  {
   "cell_type": "code",
   "execution_count": 4,
   "id": "83fe27b2",
   "metadata": {},
   "outputs": [],
   "source": [
    "#| export\n",
    "\n",
    "_D = Cfg() # defaults"
   ]
  },
  {
   "cell_type": "code",
   "execution_count": null,
   "id": "786c26ac",
   "metadata": {},
   "outputs": [
    {
     "ename": "AttributeError",
     "evalue": "'Cfg' object has no attribute 'viewer'",
     "output_type": "error",
     "traceback": [
      "\u001b[0;31m---------------------------------------------------------------------------\u001b[0m",
      "\u001b[0;31mAttributeError\u001b[0m                            Traceback (most recent call last)",
      "Cell \u001b[0;32mIn[5], line 6\u001b[0m\n\u001b[1;32m      1\u001b[0m \u001b[38;5;66;03m#| export\u001b[39;00m\n\u001b[1;32m      3\u001b[0m \u001b[38;5;28;01mdef\u001b[39;00m\u001b[38;5;250m \u001b[39m\u001b[38;5;21mtables_to_viewer_pipeline\u001b[39m(\n\u001b[1;32m      4\u001b[0m     tables: \u001b[38;5;28mlist\u001b[39m[Path] \u001b[38;5;241m=\u001b[39m deepcopy(_D\u001b[38;5;241m.\u001b[39mpaths\u001b[38;5;241m.\u001b[39mtables),\n\u001b[1;32m      5\u001b[0m     output_dir: Path \u001b[38;5;241m=\u001b[39m deepcopy(_D\u001b[38;5;241m.\u001b[39mpaths\u001b[38;5;241m.\u001b[39moutput_dir),\n\u001b[0;32m----> 6\u001b[0m     tagline: \u001b[38;5;28mstr\u001b[39m \u001b[38;5;241m=\u001b[39m deepcopy(\u001b[43m_D\u001b[49m\u001b[38;5;241;43m.\u001b[39;49m\u001b[43mviewer\u001b[49m\u001b[38;5;241m.\u001b[39mtagline),\n\u001b[1;32m      7\u001b[0m     logo: \u001b[38;5;28mstr\u001b[39m \u001b[38;5;241m=\u001b[39m deepcopy(_D\u001b[38;5;241m.\u001b[39mviewer\u001b[38;5;241m.\u001b[39mlogo),\n\u001b[1;32m      8\u001b[0m ):\n\u001b[1;32m      9\u001b[0m \u001b[38;5;250m    \u001b[39m\u001b[38;5;124;03m\"\"\"\u001b[39;00m\n\u001b[1;32m     10\u001b[0m \u001b[38;5;124;03m    From a set of tables with embed_path and image_path columns,\u001b[39;00m\n\u001b[1;32m     11\u001b[0m \u001b[38;5;124;03m    generate a clipplot viewer\u001b[39;00m\n\u001b[1;32m     12\u001b[0m \u001b[38;5;124;03m    \"\"\"\u001b[39;00m\n\u001b[1;32m     13\u001b[0m     \u001b[38;5;28mprint\u001b[39m(timestamp(), \u001b[38;5;124m\"\u001b[39m\u001b[38;5;124mStarting image processing pipeline.\u001b[39m\u001b[38;5;124m\"\u001b[39m)\n",
      "File \u001b[0;32m~/git/clip-plot/.venv/lib/python3.10/site-packages/pydantic/main.py:991\u001b[0m, in \u001b[0;36mBaseModel.__getattr__\u001b[0;34m(self, item)\u001b[0m\n\u001b[1;32m    988\u001b[0m     \u001b[38;5;28;01mreturn\u001b[39;00m \u001b[38;5;28msuper\u001b[39m()\u001b[38;5;241m.\u001b[39m\u001b[38;5;21m__getattribute__\u001b[39m(item)  \u001b[38;5;66;03m# Raises AttributeError if appropriate\u001b[39;00m\n\u001b[1;32m    989\u001b[0m \u001b[38;5;28;01melse\u001b[39;00m:\n\u001b[1;32m    990\u001b[0m     \u001b[38;5;66;03m# this is the current error\u001b[39;00m\n\u001b[0;32m--> 991\u001b[0m     \u001b[38;5;28;01mraise\u001b[39;00m \u001b[38;5;167;01mAttributeError\u001b[39;00m(\u001b[38;5;124mf\u001b[39m\u001b[38;5;124m'\u001b[39m\u001b[38;5;132;01m{\u001b[39;00m\u001b[38;5;28mtype\u001b[39m(\u001b[38;5;28mself\u001b[39m)\u001b[38;5;241m.\u001b[39m\u001b[38;5;18m__name__\u001b[39m\u001b[38;5;132;01m!r}\u001b[39;00m\u001b[38;5;124m object has no attribute \u001b[39m\u001b[38;5;132;01m{\u001b[39;00mitem\u001b[38;5;132;01m!r}\u001b[39;00m\u001b[38;5;124m'\u001b[39m)\n",
      "\u001b[0;31mAttributeError\u001b[0m: 'Cfg' object has no attribute 'viewer'"
     ]
    }
   ],
   "source": [
    "#| export\n",
    "\n",
    "def tables_to_viewer_pipeline(\n",
    "    tables: list[Path] = deepcopy(_D.paths.tables),\n",
    "    output_dir: Path = deepcopy(_D.paths.output_dir),\n",
    "    tagline: str = deepcopy(_D.tagline),\n",
    "    logo: str = deepcopy(_D.logo),\n",
    "):\n",
    "    \"\"\"\n",
    "    From a set of tables with embed_path and image_path columns,\n",
    "    generate a clipplot viewer\n",
    "    \"\"\"\n",
    "    print(timestamp(), \"Starting image processing pipeline.\")\n",
    "    df = cat_tables(tables, table_format=tables[0].suffix)\n",
    "    metadata = table_to_meta(df)\n",
    "\n",
    "    copy_web_assets(out_dir=output_dir.as_posix(),\n",
    "                    tagline=tagline, logo=logo)\n",
    "    image_engine = ImageFactory(data_dir=output_dir/\"data\",\n",
    "                                meta_dir=None,\n",
    "                                img_path=df[\"image_path\"].tolist(),\n",
    "                                )\n",
    "\n",
    "    write_metadata(image_engine)\n",
    "    # embeddings = //\n",
    "\n",
    "    kwargs[\"atlas_dir\"], atlas_data = create_atlases_and_thumbs(imageEngine, kwargs[\"plot_id\"], kwargs[\"use_cache\"])\n",
    "    get_manifest(imageEngine, atlas_data, **kwargs)\n",
    "    print(timestamp(), \"Done!\")\n",
    "\n",
    "\n"
   ]
  },
  {
   "cell_type": "code",
   "execution_count": null,
   "id": "29784812",
   "metadata": {},
   "outputs": [],
   "source": [
    "#| export\n",
    "\n",
    "def tables_to_viewer_cli():\n",
    "    \"\"\"\n",
    "    run embed_to_tables with CLI defined\n",
    "    from pydantic-settings configuration object\n",
    "    \"\"\"\n",
    "    cfg = CliApp.run(Cfg)\n",
    "    tables_to_viewer_pipeline(\n",
    "        tables=cfg.paths.tables,\n",
    "        tagline=cfg.viewer.tagline,\n",
    "        logo=cfg.viewer.logo,\n",
    "        output_dir=cfg.paths.output_dir,\n",
    "        table_format=cfg.paths.table_format\n",
    "    )"
   ]
  },
  {
   "cell_type": "code",
   "execution_count": null,
   "id": "dd8a788d",
   "metadata": {},
   "outputs": [],
   "source": [
    "#|hide\n",
    "import nbdev; nbdev.nbdev_export()"
   ]
  }
 ],
 "metadata": {
  "kernelspec": {
   "display_name": "clip-plot",
   "language": "python",
   "name": "python3"
  },
  "language_info": {
   "codemirror_mode": {
    "name": "ipython",
    "version": 3
   },
   "file_extension": ".py",
   "mimetype": "text/x-python",
   "name": "python",
   "nbconvert_exporter": "python",
   "pygments_lexer": "ipython3",
   "version": "3.10.13"
  }
 },
 "nbformat": 4,
 "nbformat_minor": 5
}
