{
 "cells": [
  {
   "cell_type": "code",
   "execution_count": null,
   "metadata": {},
   "outputs": [],
   "source": [
    "#|default_exp embeddings"
   ]
  },
  {
   "cell_type": "code",
   "execution_count": null,
   "metadata": {},
   "outputs": [
    {
     "name": "stdout",
     "output_type": "stream",
     "text": [
      "The autoreload extension is already loaded. To reload it, use:\n",
      "  %reload_ext autoreload\n"
     ]
    }
   ],
   "source": [
    "#| hide\n",
    "%load_ext autoreload\n",
    "%autoreload 2"
   ]
  },
  {
   "cell_type": "code",
   "execution_count": null,
   "metadata": {},
   "outputs": [],
   "source": [
    "#|hide\n",
    "from nbdev.showdoc import *"
   ]
  },
  {
   "cell_type": "code",
   "execution_count": null,
   "metadata": {},
   "outputs": [],
   "source": [
    "#| export\n",
    "\n",
    "from clip_plot.utils import timestamp, clean_filename\n",
    "\n",
    "from pathlib import Path\n",
    "\n",
    "import torch\n",
    "import timm\n",
    "from accelerate import Accelerator\n",
    "\n",
    "accelerator = Accelerator()\n",
    "\n",
    "from tqdm.auto import tqdm\n",
    "import numpy as np"
   ]
  },
  {
   "attachments": {},
   "cell_type": "markdown",
   "metadata": {},
   "source": [
    "# Create and/or load embeddings"
   ]
  },
  {
   "cell_type": "code",
   "execution_count": null,
   "metadata": {},
   "outputs": [],
   "source": [
    "#| export\n",
    "\n",
    "def timm_embed_model(model_name: str):\n",
    "    '''\n",
    "    Load model and image transform to create embeddings\n",
    "    Reference: https://huggingface.co/docs/timm/main/en/feature_extraction#pooled\n",
    "\n",
    "    input:          model name as found in timm documentation\n",
    "    return tuple:   pre-trained embedding model,\n",
    "                    transform function to prep images for inference\n",
    "    '''\n",
    "\n",
    "    m = timm.create_model(model_name, pretrained=True, num_classes=0)\n",
    "    m.eval()\n",
    "\n",
    "    # Reference on transform: https://huggingface.co/docs/timm/main/en/feature_extraction#pooled\n",
    "    t = timm.data.create_transform(\n",
    "        **timm.data.resolve_data_config(m.pretrained_cfg)\n",
    "    )\n",
    "    print(f\"CUDA is available? {torch.cuda.is_available()}\")\n",
    "    return m, t\n",
    "\n",
    "def timm_transform_embed(img, model, transform, device, dtype) -> np.ndarray:\n",
    "    '''\n",
    "    apply transform to image and run inference on it to generate an embedding\n",
    "\n",
    "    input:      img: Pillow image or similar\n",
    "                model: Torch model\n",
    "                transform: Torch image transformation pipeline to match how model was trained\n",
    "    returns: embedding vector as 1D numpy array\n",
    "    '''\n",
    "    img = transform(img).to(device, dtype).unsqueeze(0)\n",
    "    emb = model(img)\n",
    "    return emb.detach().cpu().numpy().squeeze()\n",
    "\n",
    "def get_timm_embeds(imageEngine, model_name: str, **kwargs):\n",
    "    '''\n",
    "    Create embedding vectors for input images using a pre-trained model from timm\n",
    "    '''\n",
    "    # for now, the output directory is still called \"inception\" though it is generic\n",
    "    vector_dir = Path(kwargs[\"out_dir\"]) / \"image-vectors\" / \"inception\"\n",
    "    vector_dir.mkdir(exist_ok=True, parents=True)\n",
    "\n",
    "    torch.manual_seed(kwargs[\"seed\"])\n",
    "\n",
    "    print(timestamp(), f\"Creating embeddings using {model_name}\")\n",
    "    embeds = []\n",
    "\n",
    "    model, transform = timm_embed_model(model_name)\n",
    "\n",
    "    # make some efficiency tweaks to model\n",
    "    device = accelerator.device\n",
    "    torch_dtype = torch.float16\n",
    "    model = accelerator.prepare(model)\n",
    "    model = model.to(device, torch_dtype)\n",
    "\n",
    "    for img in tqdm(imageEngine, total=imageEngine.count):\n",
    "        embed_path = vector_dir / (clean_filename(img.path) + \".npy\")\n",
    "        if embed_path.exists() and kwargs[\"use_cache\"]:\n",
    "            emb = np.load(embed_path)\n",
    "        else:\n",
    "            # create embedding for one image\n",
    "            emb = timm_transform_embed(img.original, model, transform, device, torch_dtype)\n",
    "            np.save(embed_path, emb)\n",
    "        embeds.append(emb)\n",
    "    return np.array(embeds)"
   ]
  },
  {
   "cell_type": "code",
   "execution_count": null,
   "metadata": {},
   "outputs": [],
   "source": [
    "#|hide\n",
    "import nbdev; nbdev.nbdev_export()"
   ]
  },
  {
   "cell_type": "code",
   "execution_count": null,
   "metadata": {},
   "outputs": [],
   "source": []
  }
 ],
 "metadata": {
  "kernelspec": {
   "display_name": "python3",
   "language": "python",
   "name": "python3"
  }
 },
 "nbformat": 4,
 "nbformat_minor": 2
}
