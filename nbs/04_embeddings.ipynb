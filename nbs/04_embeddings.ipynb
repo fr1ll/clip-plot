{
 "cells": [
  {
   "cell_type": "code",
   "execution_count": null,
   "metadata": {},
   "outputs": [],
   "source": [
    "#|default_exp embeddings"
   ]
  },
  {
   "cell_type": "code",
   "execution_count": null,
   "metadata": {},
   "outputs": [
    {
     "name": "stdout",
     "output_type": "stream",
     "text": [
      "The autoreload extension is already loaded. To reload it, use:\n",
      "  %reload_ext autoreload\n"
     ]
    }
   ],
   "source": [
    "#| hide\n",
    "%load_ext autoreload\n",
    "%autoreload 2"
   ]
  },
  {
   "cell_type": "code",
   "execution_count": null,
   "metadata": {},
   "outputs": [],
   "source": [
    "#| export\n",
    "\n",
    "from pathlib import Path\n",
    "\n",
    "import numpy as np\n",
    "import torch\n",
    "from PIL import Image\n",
    "from tqdm.auto import tqdm\n",
    "from transformers import pipeline\n",
    "\n",
    "from clip_plot.utils import timestamp\n"
   ]
  },
  {
   "attachments": {},
   "cell_type": "markdown",
   "metadata": {},
   "source": [
    "# Create and/or load embeddings"
   ]
  },
  {
   "cell_type": "code",
   "execution_count": null,
   "metadata": {},
   "outputs": [],
   "source": [
    "#| export\n",
    "\n",
    "def images_from_paths(pathlist):\n",
    "    return (Image.open(p.as_posix()).convert(\"RGB\").copy() for p in pathlist)"
   ]
  },
  {
   "cell_type": "code",
   "execution_count": null,
   "metadata": {},
   "outputs": [],
   "source": [
    "#| export\n",
    "\n",
    "def images_iterator(ImageEngine):\n",
    "    return (img.original for img in ImageEngine)"
   ]
  },
  {
   "cell_type": "code",
   "execution_count": null,
   "metadata": {},
   "outputs": [],
   "source": [
    "#| export\n",
    "\n",
    "def embed_images(imagepaths : list[Path],\n",
    "                 model_name : str = \"timm/convnext_tiny.dinov3_lvd1689m\",\n",
    "                 batch_size : int = 4\n",
    "                 ) -> np.ndarray:\n",
    "    device = torch.device('cuda' if torch.cuda.is_available() else 'cpu')\n",
    "    print(f\"Device for inference: {device}\")\n",
    "    pipe = pipeline(task=\"image-feature-extraction\",\n",
    "                    model=model_name, device=device, pool=True, use_fast=True)\n",
    "\n",
    "    print(timestamp(), f\"Creating embeddings using {model_name}\")\n",
    "    embeddings = []\n",
    "    imagepath_strs = [Path(p).as_posix() for p in imagepaths]\n",
    "\n",
    "    # for out in tqdm(pipe(imagepath_strs, batch_size=batch_size), total=len(imagepath_strs)):\n",
    "    #     embeddings += out\n",
    "    for p in tqdm(imagepath_strs): # giving up on progress bar with batch size\n",
    "        out = pipe(p)\n",
    "        embeddings += out\n",
    "\n",
    "    print(timestamp(), \"Done creating embeddings.\")\n",
    "\n",
    "    return np.array(embeddings)"
   ]
  },
  {
   "cell_type": "code",
   "execution_count": null,
   "metadata": {},
   "outputs": [],
   "source": [
    "#| export\n",
    "\n",
    "def get_embeddings(ImageEngine,\n",
    "                   model_name : str = \"timm/convnext_tiny.dinov3_lvd1689m\",\n",
    "                   batch_size : int = 4\n",
    "                   ) -> np.ndarray:\n",
    "    return embed_images(ImageEngine.image_paths, model_name=model_name, batch_size=batch_size)"
   ]
  },
  {
   "cell_type": "code",
   "execution_count": null,
   "metadata": {},
   "outputs": [],
   "source": [
    "#| export\n",
    "\n",
    "def write_embeddings(embeddings : np.ndarray, names: list[str], dir: Path):\n",
    "    \"\"\"write out embeddings and return paths\"\"\"\n",
    "    paths = [(dir/n).resolve() for n in names]\n",
    "    for p, e in zip(paths, embeddings):\n",
    "        np.save(p.with_suffix('.npy'), e)\n",
    "    return paths\n"
   ]
  },
  {
   "cell_type": "code",
   "execution_count": null,
   "metadata": {},
   "outputs": [],
   "source": [
    "#|hide\n",
    "import nbdev; nbdev.nbdev_export()"
   ]
  }
 ],
 "metadata": {
  "kernelspec": {
   "display_name": "python3",
   "language": "python",
   "name": "python3"
  }
 },
 "nbformat": 4,
 "nbformat_minor": 2
}
