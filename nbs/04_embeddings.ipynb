{
 "cells": [
  {
   "cell_type": "code",
   "execution_count": null,
   "metadata": {},
   "outputs": [],
   "source": [
    "#|default_exp embeddings"
   ]
  },
  {
   "cell_type": "code",
   "execution_count": null,
   "metadata": {},
   "outputs": [
    {
     "name": "stdout",
     "output_type": "stream",
     "text": [
      "The autoreload extension is already loaded. To reload it, use:\n",
      "  %reload_ext autoreload\n"
     ]
    }
   ],
   "source": [
    "#| hide\n",
    "%load_ext autoreload\n",
    "%autoreload 2"
   ]
  },
  {
   "cell_type": "code",
   "execution_count": null,
   "metadata": {},
   "outputs": [],
   "source": [
    "#|hide\n",
    "from nbdev.showdoc import *"
   ]
  },
  {
   "cell_type": "code",
   "execution_count": null,
   "metadata": {},
   "outputs": [
    {
     "name": "stdout",
     "output_type": "stream",
     "text": [
      "CUDA is available? True\n"
     ]
    }
   ],
   "source": [
    "#| export\n",
    "\n",
    "from clip_plot.utils import timestamp, clean_filename\n",
    "from pathlib import Path\n",
    "\n",
    "import torch\n",
    "import timm\n",
    "from accelerate import Accelerator\n",
    "MIXED_PRECISION = \"fp16\" if torch.cuda.is_available() else \"bf16\"\n",
    "TORCH_DTYPE = torch.float16 if MIXED_PRECISION == \"fp16\" else torch.bfloat16\n",
    "accelerator = Accelerator(mixed_precision=MIXED_PRECISION)\n",
    "\n",
    "from tqdm.auto import tqdm\n",
    "import numpy as np"
   ]
  },
  {
   "attachments": {},
   "cell_type": "markdown",
   "metadata": {},
   "source": [
    "# Create and/or load embeddings"
   ]
  },
  {
   "cell_type": "code",
   "execution_count": null,
   "metadata": {},
   "outputs": [],
   "source": [
    "#| export\n",
    "\n",
    "def timm_embed_model(model_name: str):\n",
    "    '''\n",
    "    Load model and image transform to create embeddings\n",
    "    Reference: https://huggingface.co/docs/timm/main/en/feature_extraction#pooled\n",
    "\n",
    "    input:          model name as found in timm documentation\n",
    "    return tuple:   pre-trained embedding model,\n",
    "                    transform function to prep images for inference\n",
    "    '''\n",
    "\n",
    "    m = timm.create_model(model_name, pretrained=True, num_classes=0)\n",
    "    m.eval()\n",
    "\n",
    "    # Reference on transform: https://huggingface.co/docs/timm/main/en/feature_extraction#pooled\n",
    "    t = timm.data.create_transform(\n",
    "        **timm.data.resolve_data_config(m.pretrained_cfg)\n",
    "    )\n",
    "    \n",
    "    return m, t"
   ]
  },
  {
   "cell_type": "code",
   "execution_count": null,
   "metadata": {},
   "outputs": [],
   "source": [
    "#| export\n",
    "\n",
    "def timm_transform_embed(img, model, transform, device, dtype) -> np.ndarray:\n",
    "    '''\n",
    "    apply transform to image and run inference on it to generate an embedding\n",
    "\n",
    "    input:      img: Pillow image or similar\n",
    "                model: Torch model\n",
    "                transform: Torch image transformation pipeline to match how model was trained\n",
    "    returns: embedding vector as 1D numpy array\n",
    "    '''\n",
    "    img = transform(img).to(device, dtype).unsqueeze(0)\n",
    "    emb = model(img)\n",
    "    return emb.detach().cpu().numpy().squeeze()\n"
   ]
  },
  {
   "cell_type": "code",
   "execution_count": null,
   "metadata": {},
   "outputs": [],
   "source": [
    "#| export\n",
    "\n",
    "def get_timm_embeds(imageEngine, model_name: str, data_dir: Path, **kwargs):\n",
    "    '''\n",
    "    Create embedding vectors for input images using a pre-trained model from timm\n",
    "    '''\n",
    "    # for now, the output directory is still called \"inception\" though it is generic\n",
    "    vector_dir = data_dir / \"image-vectors\" / \"inception\"\n",
    "    vector_dir.mkdir(exist_ok=True, parents=True)\n",
    "\n",
    "    torch.manual_seed(kwargs[\"seed\"])\n",
    "\n",
    "    print(timestamp(), f\"Creating embeddings using {model_name}\")\n",
    "    embeds = []\n",
    "    embed_paths = []\n",
    "\n",
    "    model, transform = timm_embed_model(model_name)\n",
    "\n",
    "    # make some efficiency tweaks to model\n",
    "    device = accelerator.device\n",
    "    # note passing in global parameter\n",
    "    model = accelerator.prepare(model).to(TORCH_DTYPE)\n",
    "\n",
    "    for img in tqdm(imageEngine, total=imageEngine.count):\n",
    "        embed_path = vector_dir / (clean_filename(img.path) + \".npy\")\n",
    "        if embed_path.exists() and kwargs[\"use_cache\"]:\n",
    "            emb = np.load(embed_path)\n",
    "        else:\n",
    "            # create embedding for one image\n",
    "            emb = timm_transform_embed(img.original, model, transform, device, TORCH_DTYPE)\n",
    "            np.save(embed_path, emb)\n",
    "        embeds.append(emb)\n",
    "        embed_paths.append(embed_path.as_posix())\n",
    "    return np.array(embeds), embed_paths"
   ]
  },
  {
   "cell_type": "code",
   "execution_count": null,
   "metadata": {},
   "outputs": [
    {
     "ename": "IndentationError",
     "evalue": "unindent does not match any outer indentation level (<unknown>, line 18)",
     "output_type": "error",
     "traceback": [
      "Traceback \u001b[0;36m(most recent call last)\u001b[0m:\n",
      "\u001b[0m  File \u001b[1;32m~/mambaforge/envs/clipplot/lib/python3.10/site-packages/IPython/core/interactiveshell.py:3508\u001b[0m in \u001b[1;35mrun_code\u001b[0m\n    exec(code_obj, self.user_global_ns, self.user_ns)\u001b[0m\n",
      "\u001b[0m  Cell \u001b[1;32mIn[22], line 2\u001b[0m\n    import nbdev; nbdev.nbdev_export()\u001b[0m\n",
      "\u001b[0m  File \u001b[1;32m~/mambaforge/envs/clipplot/lib/python3.10/site-packages/fastcore/script.py:110\u001b[0m in \u001b[1;35m_f\u001b[0m\n    if not mod: return func(*args, **kwargs)\u001b[0m\n",
      "\u001b[0m  File \u001b[1;32m~/mambaforge/envs/clipplot/lib/python3.10/site-packages/nbdev/doclinks.py:140\u001b[0m in \u001b[1;35mnbdev_export\u001b[0m\n    _build_modidx()\u001b[0m\n",
      "\u001b[0m  File \u001b[1;32m~/mambaforge/envs/clipplot/lib/python3.10/site-packages/nbdev/doclinks.py:102\u001b[0m in \u001b[1;35m_build_modidx\u001b[0m\n    res['syms'].update(_get_modidx((dest.parent/file).resolve(), code_root, nbs_path=nbs_path))\u001b[0m\n",
      "\u001b[0m  File \u001b[1;32m~/mambaforge/envs/clipplot/lib/python3.10/site-packages/nbdev/doclinks.py:79\u001b[0m in \u001b[1;35m_get_modidx\u001b[0m\n    for tree in ast.parse(cell.code).body:\u001b[0m\n",
      "\u001b[0;36m  File \u001b[0;32m~/mambaforge/envs/clipplot/lib/python3.10/ast.py:50\u001b[0;36m in \u001b[0;35mparse\u001b[0;36m\n\u001b[0;31m    return compile(source, filename, mode, flags,\u001b[0;36m\n",
      "\u001b[0;36m  File \u001b[0;32m<unknown>:18\u001b[0;36m\u001b[0m\n\u001b[0;31m    kwargs = {\"seed\": seed, \"use_cache\": False}\u001b[0m\n\u001b[0m                                               ^\u001b[0m\n\u001b[0;31mIndentationError\u001b[0m\u001b[0;31m:\u001b[0m unindent does not match any outer indentation level\n"
     ]
    }
   ],
   "source": [
    "#|hide\n",
    "import nbdev; nbdev.nbdev_export()"
   ]
  },
  {
   "cell_type": "code",
   "execution_count": null,
   "metadata": {},
   "outputs": [],
   "source": []
  }
 ],
 "metadata": {
  "kernelspec": {
   "display_name": "python3",
   "language": "python",
   "name": "python3"
  }
 },
 "nbformat": 4,
 "nbformat_minor": 2
}
