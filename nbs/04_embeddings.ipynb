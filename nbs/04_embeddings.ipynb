{
 "cells": [
  {
   "cell_type": "code",
   "execution_count": null,
   "metadata": {},
   "outputs": [],
   "source": [
    "#|default_exp embeddings"
   ]
  },
  {
   "cell_type": "code",
   "execution_count": null,
   "metadata": {},
   "outputs": [],
   "source": [
    "#| hide\n",
    "%load_ext autoreload\n",
    "%autoreload 2"
   ]
  },
  {
   "cell_type": "code",
   "execution_count": null,
   "metadata": {},
   "outputs": [],
   "source": [
    "#|hide\n",
    "from nbdev.showdoc import *"
   ]
  },
  {
   "cell_type": "code",
   "execution_count": null,
   "metadata": {},
   "outputs": [],
   "source": [
    "#| export\n",
    "\n",
    "from clip_plot.utils import timestamp, clean_filename\n",
    "from clip_plot.images import image_to_array, Image\n",
    "\n",
    "import os\n",
    "from pathlib import Path\n",
    "import logging\n",
    "logging.getLogger('tensorflow').setLevel(logging.ERROR)\n",
    "os.environ['TF_CPP_MIN_LOG_LEVEL'] = '3'\n",
    "os.environ['TF_CPP_MAX_VLOG_LEVEL'] = '0'\n",
    "os.environ[\"KMP_AFFINITY\"] = \"noverbose\"\n",
    "\n",
    "import tensorflow as tf\n",
    "tf.get_logger().setLevel('ERROR')\n",
    "tf.autograph.set_verbosity(3)\n",
    "\n",
    "from tensorflow.keras.applications import InceptionV3\n",
    "from tensorflow.keras.models import Model\n",
    "from tensorflow.keras.applications.inception_v3 import preprocess_input\n",
    "from tensorflow import compat\n",
    "\n",
    "from tqdm.auto import tqdm\n",
    "import numpy as np"
   ]
  },
  {
   "attachments": {},
   "cell_type": "markdown",
   "metadata": {},
   "source": [
    "# Create and/or load embeddings"
   ]
  },
  {
   "cell_type": "code",
   "execution_count": null,
   "metadata": {},
   "outputs": [],
   "source": [
    "#| export\n",
    "\n",
    "def get_inception_vectors(**kwargs):\n",
    "    \"\"\"Create and return Inception vector representation of Image() instances\"\"\"\n",
    "\n",
    "    vector_dir = Path(kwargs[\"out_dir\"]) / \"image-vectors\" / \"inception\"\n",
    "    vector_dir.mkdir(exist_ok=True, parents=True)\n",
    "    base = InceptionV3(\n",
    "        include_top=True,\n",
    "        weights=\"imagenet\",\n",
    "    )\n",
    "    model = Model(inputs=base.input, outputs=base.get_layer(\"avg_pool\").output)\n",
    "    compat.v1.set_random_seed(kwargs[\"seed\"])\n",
    "\n",
    "    print(timestamp(), \"Creating Inception vectors\")\n",
    "    vecs = []   \n",
    "\n",
    "    for img in tqdm(Image.stream_images(image_paths=kwargs[\"image_paths\"],\n",
    "                                        metadata=kwargs[\"metadata\"]),\n",
    "                    total=len(kwargs[\"image_paths\"])):\n",
    "        vector_path = vector_dir / (clean_filename(img.path) + \".npy\")\n",
    "        if vector_path.exists() and kwargs[\"use_cache\"]:\n",
    "            vec = np.load(vector_path)\n",
    "        else:\n",
    "            img_processed = preprocess_input(image_to_array(img.original.resize((299, 299))))\n",
    "            vec = model.predict(np.expand_dims(img_processed, 0), verbose = 0).squeeze()\n",
    "            np.save(vector_path, vec)\n",
    "        vecs.append(vec)\n",
    "    return np.array(vecs)"
   ]
  },
  {
   "cell_type": "code",
   "execution_count": null,
   "metadata": {},
   "outputs": [],
   "source": [
    "#|hide\n",
    "import nbdev; nbdev.nbdev_export()"
   ]
  },
  {
   "cell_type": "code",
   "execution_count": null,
   "metadata": {},
   "outputs": [],
   "source": []
  }
 ],
 "metadata": {
  "kernelspec": {
   "display_name": "python3",
   "language": "python",
   "name": "python3"
  }
 },
 "nbformat": 4,
 "nbformat_minor": 2
}
