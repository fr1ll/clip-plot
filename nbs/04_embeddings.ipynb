{
 "cells": [
  {
   "cell_type": "code",
   "execution_count": null,
   "metadata": {},
   "outputs": [],
   "source": [
    "#|default_exp embeddings"
   ]
  },
  {
   "cell_type": "code",
   "execution_count": null,
   "metadata": {},
   "outputs": [],
   "source": [
    "#| hide\n",
    "%load_ext autoreload\n",
    "%autoreload 2"
   ]
  },
  {
   "cell_type": "code",
   "execution_count": null,
   "metadata": {},
   "outputs": [],
   "source": [
    "#|hide\n",
    "from nbdev.showdoc import *"
   ]
  },
  {
   "cell_type": "code",
   "execution_count": null,
   "metadata": {},
   "outputs": [
    {
     "name": "stdout",
     "output_type": "stream",
     "text": [
      "CUDA is available? True\n"
     ]
    }
   ],
   "source": [
    "#| export\n",
    "\n",
    "from clip_plot.utils import timestamp, clean_filename\n",
    "\n",
    "from pathlib import Path\n",
    "\n",
    "import torch\n",
    "print(f\"CUDA is available? {torch.cuda.is_available()}\")\n"
   ]
  },
  {
   "cell_type": "code",
   "execution_count": null,
   "metadata": {},
   "outputs": [
    {
     "name": "stdout",
     "output_type": "stream",
     "text": [
      "Setting ds_accelerator to cuda (auto detect)\n"
     ]
    },
    {
     "name": "stderr",
     "output_type": "stream",
     "text": [
      "2023-06-23 19:31:21.128525: I tensorflow/core/platform/cpu_feature_guard.cc:193] This TensorFlow binary is optimized with oneAPI Deep Neural Network Library (oneDNN) to use the following CPU instructions in performance-critical operations:  SSE4.1 SSE4.2 AVX AVX2 FMA\n",
      "To enable them in other operations, rebuild TensorFlow with the appropriate compiler flags.\n"
     ]
    }
   ],
   "source": [
    "#| export\n",
    "\n",
    "import timm\n",
    "from accelerate import Accelerator\n",
    "MIXED_PRECISION = \"fp16\" if torch.cuda.is_available() else \"bf16\"\n",
    "TORCH_DTYPE = torch.float16 if MIXED_PRECISION == \"fp16\" else torch.bfloat16\n",
    "\n",
    "accelerator = Accelerator(mixed_precision=MIXED_PRECISION)\n",
    "from tqdm.auto import tqdm\n",
    "import numpy as np"
   ]
  },
  {
   "attachments": {},
   "cell_type": "markdown",
   "metadata": {},
   "source": [
    "# Create and/or load embeddings"
   ]
  },
  {
   "cell_type": "code",
   "execution_count": null,
   "metadata": {},
   "outputs": [],
   "source": [
    "#| export\n",
    "\n",
    "def timm_embed_model(model_name: str):\n",
    "    '''\n",
    "    Load model and image transform to create embeddings\n",
    "    Reference: https://huggingface.co/docs/timm/main/en/feature_extraction#pooled\n",
    "\n",
    "    input:          model name as found in timm documentation\n",
    "    return tuple:   pre-trained embedding model,\n",
    "                    transform function to prep images for inference\n",
    "    '''\n",
    "\n",
    "    m = timm.create_model(model_name, pretrained=True, num_classes=0)\n",
    "    m.eval()\n",
    "\n",
    "    # Reference on transform: https://huggingface.co/docs/timm/main/en/feature_extraction#pooled\n",
    "    t = timm.data.create_transform(\n",
    "        **timm.data.resolve_data_config(m.pretrained_cfg)\n",
    "    )\n",
    "    \n",
    "    return m, t"
   ]
  },
  {
   "cell_type": "code",
   "execution_count": null,
   "metadata": {},
   "outputs": [],
   "source": [
    "#| export\n",
    "\n",
    "def timm_transform_embed(img, model, transform, device, dtype) -> np.ndarray:\n",
    "    '''\n",
    "    apply transform to image and run inference on it to generate an embedding\n",
    "\n",
    "    input:      img: Pillow image or similar\n",
    "                model: Torch model\n",
    "                transform: Torch image transformation pipeline to match how model was trained\n",
    "    returns: embedding vector as 1D numpy array\n",
    "    '''\n",
    "    img = transform(img).to(device, dtype).unsqueeze(0)\n",
    "    emb = model(img)\n",
    "    return emb.detach().cpu().numpy().squeeze()\n"
   ]
  },
  {
   "cell_type": "code",
   "execution_count": null,
   "metadata": {},
   "outputs": [],
   "source": [
    "#| export\n",
    "\n",
    "def get_timm_embeds(imageEngine, model_name: str, **kwargs):\n",
    "    '''\n",
    "    Create embedding vectors for input images using a pre-trained model from timm\n",
    "    '''\n",
    "    # for now, the output directory is still called \"inception\" though it is generic\n",
    "    vector_dir = Path(kwargs[\"out_dir\"]) / \"image-vectors\" / \"inception\"\n",
    "    vector_dir.mkdir(exist_ok=True, parents=True)\n",
    "\n",
    "    torch.manual_seed(kwargs[\"seed\"])\n",
    "\n",
    "    print(timestamp(), f\"Creating embeddings using {model_name}\")\n",
    "    embeds = []\n",
    "\n",
    "    model, transform = timm_embed_model(model_name)\n",
    "\n",
    "    # make some efficiency tweaks to model\n",
    "    device = accelerator.device\n",
    "    model = accelerator.prepare(model)\n",
    "    # model = model.to(device, TORCH_DTYPE)\n",
    "\n",
    "    with accelerator.autocast():\n",
    "        for img in tqdm(imageEngine, total=imageEngine.count):\n",
    "            embed_path = vector_dir / (clean_filename(img.path) + \".npy\")\n",
    "            if embed_path.exists() and kwargs[\"use_cache\"]:\n",
    "                emb = np.load(embed_path)\n",
    "            else:\n",
    "                # create embedding for one image\n",
    "                emb = timm_transform_embed(img.original, model, transform, device, TORCH_DTYPE)\n",
    "                np.save(embed_path, emb)\n",
    "            embeds.append(emb)\n",
    "    return np.array(embeds)"
   ]
  },
  {
   "cell_type": "code",
   "execution_count": null,
   "metadata": {},
   "outputs": [
    {
     "name": "stdout",
     "output_type": "stream",
     "text": [
      "\u001b[0;31mSignature:\u001b[0m  \u001b[0maccelerator\u001b[0m\u001b[0;34m.\u001b[0m\u001b[0mautocast\u001b[0m\u001b[0;34m(\u001b[0m\u001b[0mcache_enabled\u001b[0m\u001b[0;34m:\u001b[0m \u001b[0;34m'bool'\u001b[0m \u001b[0;34m=\u001b[0m \u001b[0;32mFalse\u001b[0m\u001b[0;34m)\u001b[0m\u001b[0;34m\u001b[0m\u001b[0;34m\u001b[0m\u001b[0m\n",
      "\u001b[0;31mSource:\u001b[0m   \n",
      "    \u001b[0;34m@\u001b[0m\u001b[0mcontextmanager\u001b[0m\u001b[0;34m\u001b[0m\n",
      "\u001b[0;34m\u001b[0m    \u001b[0;32mdef\u001b[0m \u001b[0mautocast\u001b[0m\u001b[0;34m(\u001b[0m\u001b[0mself\u001b[0m\u001b[0;34m,\u001b[0m \u001b[0mcache_enabled\u001b[0m\u001b[0;34m:\u001b[0m \u001b[0mbool\u001b[0m \u001b[0;34m=\u001b[0m \u001b[0;32mFalse\u001b[0m\u001b[0;34m)\u001b[0m\u001b[0;34m:\u001b[0m\u001b[0;34m\u001b[0m\n",
      "\u001b[0;34m\u001b[0m        \u001b[0;34m\"\"\"\u001b[0m\n",
      "\u001b[0;34m        Will apply automatic mixed-precision inside the block inside this context manager, if it is enabled. Nothing\u001b[0m\n",
      "\u001b[0;34m        different will happen otherwise.\u001b[0m\n",
      "\u001b[0;34m\u001b[0m\n",
      "\u001b[0;34m        Example:\u001b[0m\n",
      "\u001b[0;34m\u001b[0m\n",
      "\u001b[0;34m        ```python\u001b[0m\n",
      "\u001b[0;34m        >>> from accelerate import Accelerator\u001b[0m\n",
      "\u001b[0;34m\u001b[0m\n",
      "\u001b[0;34m        >>> accelerator = Accelerator(mixed_precision=\"fp16\")\u001b[0m\n",
      "\u001b[0;34m        >>> with accelerator.autocast():\u001b[0m\n",
      "\u001b[0;34m        ...     train()\u001b[0m\n",
      "\u001b[0;34m        ```\u001b[0m\n",
      "\u001b[0;34m        \"\"\"\u001b[0m\u001b[0;34m\u001b[0m\n",
      "\u001b[0;34m\u001b[0m        \u001b[0mautocast_context\u001b[0m \u001b[0;34m=\u001b[0m \u001b[0mget_mixed_precision_context_manager\u001b[0m\u001b[0;34m(\u001b[0m\u001b[0mself\u001b[0m\u001b[0;34m.\u001b[0m\u001b[0mnative_amp\u001b[0m\u001b[0;34m,\u001b[0m \u001b[0mcache_enabled\u001b[0m\u001b[0;34m=\u001b[0m\u001b[0mcache_enabled\u001b[0m\u001b[0;34m)\u001b[0m\u001b[0;34m\u001b[0m\n",
      "\u001b[0;34m\u001b[0m        \u001b[0mautocast_context\u001b[0m\u001b[0;34m.\u001b[0m\u001b[0m__enter__\u001b[0m\u001b[0;34m(\u001b[0m\u001b[0;34m)\u001b[0m\u001b[0;34m\u001b[0m\n",
      "\u001b[0;34m\u001b[0m        \u001b[0;32myield\u001b[0m\u001b[0;34m\u001b[0m\n",
      "\u001b[0;34m\u001b[0m        \u001b[0mautocast_context\u001b[0m\u001b[0;34m.\u001b[0m\u001b[0m__exit__\u001b[0m\u001b[0;34m(\u001b[0m\u001b[0;34m*\u001b[0m\u001b[0msys\u001b[0m\u001b[0;34m.\u001b[0m\u001b[0mexc_info\u001b[0m\u001b[0;34m(\u001b[0m\u001b[0;34m)\u001b[0m\u001b[0;34m)\u001b[0m\u001b[0;34m\u001b[0m\u001b[0;34m\u001b[0m\u001b[0m\n",
      "\u001b[0;31mFile:\u001b[0m      ~/mambaforge/envs/clipplot/lib/python3.10/site-packages/accelerate/accelerator.py\n",
      "\u001b[0;31mType:\u001b[0m      method"
     ]
    }
   ],
   "source": [
    "?? accelerator.autocast"
   ]
  },
  {
   "cell_type": "code",
   "execution_count": null,
   "metadata": {},
   "outputs": [],
   "source": [
    "#|hide\n",
    "import nbdev; nbdev.nbdev_export()"
   ]
  },
  {
   "cell_type": "code",
   "execution_count": null,
   "metadata": {},
   "outputs": [],
   "source": []
  }
 ],
 "metadata": {
  "kernelspec": {
   "display_name": "python3",
   "language": "python",
   "name": "python3"
  }
 },
 "nbformat": 4,
 "nbformat_minor": 2
}
