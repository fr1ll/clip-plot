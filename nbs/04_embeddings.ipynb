{
 "cells": [
  {
   "cell_type": "code",
   "execution_count": null,
   "metadata": {},
   "outputs": [],
   "source": [
    "#|default_exp embeddings"
   ]
  },
  {
   "cell_type": "code",
   "execution_count": null,
   "metadata": {},
   "outputs": [],
   "source": [
    "#| hide\n",
    "%load_ext autoreload\n",
    "%autoreload 2"
   ]
  },
  {
   "cell_type": "code",
   "execution_count": null,
   "metadata": {},
   "outputs": [],
   "source": [
    "#|hide\n",
    "from nbdev.showdoc import *"
   ]
  },
  {
   "cell_type": "code",
   "execution_count": null,
   "metadata": {},
   "outputs": [],
   "source": [
    "#| export\n",
    "\n",
    "from clip_plot.utils import timestamp, clean_filename\n",
    "from clip_plot.images import image_to_array, Image\n",
    "\n",
    "import os\n",
    "from tensorflow.keras.applications import InceptionV3\n",
    "from tensorflow.keras.models import Model\n",
    "from tensorflow.keras.applications.inception_v3 import preprocess_input\n",
    "\n",
    "from tqdm.autonotebook import tqdm\n",
    "import numpy as np\n"
   ]
  },
  {
   "attachments": {},
   "cell_type": "markdown",
   "metadata": {},
   "source": [
    "# Create and/or load embeddings"
   ]
  },
  {
   "cell_type": "code",
   "execution_count": null,
   "metadata": {},
   "outputs": [],
   "source": [
    "#| export\n",
    "\n",
    "def get_inception_vectors(**kwargs):\n",
    "    \"\"\"Create and return Inception vector representation of Image() instances\"\"\"\n",
    "    print(\n",
    "        timestamp(),\n",
    "        \"Creating Inception vectors for {} images\".format(len(kwargs[\"image_paths\"])),\n",
    "    )\n",
    "    vector_dir = os.path.join(kwargs[\"out_dir\"], \"image-vectors\", \"inception\")\n",
    "    if not os.path.exists(vector_dir):\n",
    "        os.makedirs(vector_dir)\n",
    "    base = InceptionV3(\n",
    "        include_top=True,\n",
    "        weights=\"imagenet\",\n",
    "    )\n",
    "    model = Model(inputs=base.input, outputs=base.get_layer(\"avg_pool\").output)\n",
    "    print(timestamp(), \"Creating image array\")\n",
    "    vecs = []\n",
    "    with tqdm(total=len(kwargs[\"image_paths\"])) as progress_bar:\n",
    "        for idx, i in enumerate(Image.stream_images(image_paths=kwargs[\"image_paths\"], metadata=kwargs[\"metadata\"])):\n",
    "            vector_path = os.path.join(vector_dir, clean_filename(i.path) + \".npy\")\n",
    "            if os.path.exists(vector_path) and kwargs[\"use_cache\"]:\n",
    "                vec = np.load(vector_path)\n",
    "            else:\n",
    "                im = preprocess_input(image_to_array(i.original.resize((299, 299))))\n",
    "                vec = model.predict(np.expand_dims(im, 0)).squeeze()\n",
    "                np.save(vector_path, vec)\n",
    "            vecs.append(vec)\n",
    "            progress_bar.update(1)\n",
    "    return np.array(vecs)"
   ]
  },
  {
   "cell_type": "code",
   "execution_count": null,
   "metadata": {},
   "outputs": [],
   "source": [
    "#|hide\n",
    "import nbdev; nbdev.nbdev_export()"
   ]
  },
  {
   "cell_type": "code",
   "execution_count": null,
   "metadata": {},
   "outputs": [],
   "source": []
  }
 ],
 "metadata": {
  "kernelspec": {
   "display_name": "python3",
   "language": "python",
   "name": "python3"
  }
 },
 "nbformat": 4,
 "nbformat_minor": 2
}
