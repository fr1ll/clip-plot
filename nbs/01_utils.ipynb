{
 "cells": [
  {
   "cell_type": "code",
   "execution_count": null,
   "metadata": {},
   "outputs": [],
   "source": [
    "#|default_exp utils"
   ]
  },
  {
   "cell_type": "code",
   "execution_count": null,
   "metadata": {},
   "outputs": [],
   "source": [
    "#|hide\n",
    "from nbdev.showdoc import *"
   ]
  },
  {
   "cell_type": "code",
   "execution_count": null,
   "metadata": {},
   "outputs": [],
   "source": [
    "#|export\n",
    "from __future__ import annotations\n",
    "import os\n",
    "import sys\n",
    "import json\n",
    "import gzip\n",
    "import datetime\n",
    "from shutil import copytree\n",
    "from urllib.parse import unquote\n",
    "from dateutil.parser import parse as parse_date"
   ]
  },
  {
   "cell_type": "code",
   "execution_count": null,
   "metadata": {},
   "outputs": [],
   "source": [
    "#| export\n",
    "\n",
    "FILE_NAME = \"filename\"  # Filename name key"
   ]
  },
  {
   "cell_type": "code",
   "execution_count": null,
   "metadata": {},
   "outputs": [],
   "source": [
    "#| export\n",
    "\n",
    "def get_version():\n",
    "    \"\"\"\n",
    "    Return the version of clipplot installed\n",
    "    Hardcoded for now\n",
    "    \"\"\"\n",
    "    # return pkg_resources.get_distribution(\"clipplot\").version\n",
    "    return \"0.0.1\""
   ]
  },
  {
   "attachments": {},
   "cell_type": "markdown",
   "metadata": {},
   "source": [
    "## Number utilities"
   ]
  },
  {
   "cell_type": "code",
   "execution_count": null,
   "metadata": {},
   "outputs": [],
   "source": [
    "#| export\n",
    "\n",
    "def round_floats(obj, digits=5):\n",
    "    \"\"\"Return 2D array obj with rounded float precision\"\"\"\n",
    "    return [[round(float(j), digits) for j in i] for i in obj]"
   ]
  },
  {
   "cell_type": "code",
   "execution_count": null,
   "metadata": {},
   "outputs": [],
   "source": [
    "#| export\n",
    "\n",
    "def is_number(s):\n",
    "    \"\"\"Return a boolean indicating if a string is a number\n",
    "    \n",
    "    Args:\n",
    "        s (Any); Value to be checked\n",
    "\n",
    "    Returns:\n",
    "        bool\n",
    "    \n",
    "    \"\"\"\n",
    "    try:\n",
    "        int(s)\n",
    "        return True\n",
    "    except:\n",
    "        return False"
   ]
  },
  {
   "attachments": {},
   "cell_type": "markdown",
   "metadata": {},
   "source": [
    "## Time and date utilities"
   ]
  },
  {
   "cell_type": "code",
   "execution_count": null,
   "metadata": {},
   "outputs": [],
   "source": [
    "#| export\n",
    "\n",
    "\n",
    "def date_to_seconds(date):\n",
    "    \"\"\"\n",
    "    Given a datetime object return an integer representation for that datetime\n",
    "    \"\"\"\n",
    "    if isinstance(date, datetime.datetime):\n",
    "        return (date - datetime.datetime.today()).total_seconds()\n",
    "    else:\n",
    "        return -float(\"inf\")\n",
    "\n",
    "\n",
    "def round_date(date, unit):\n",
    "    \"\"\"\n",
    "    Return `date` truncated to the temporal unit specified in `units`\n",
    "    \"\"\"\n",
    "    if not isinstance(date, datetime.datetime):\n",
    "        return \"no_date\"\n",
    "    formatted = date.strftime(\"%d %B %Y -- %X\")\n",
    "    if unit in set([\"seconds\", \"minutes\", \"hours\"]):\n",
    "        date = formatted.split(\"--\")[1].strip()\n",
    "        if unit == \"seconds\":\n",
    "            date = date\n",
    "        elif unit == \"minutes\":\n",
    "            date = \":\".join(d.split(\":\")[:-1]) + \":00\"\n",
    "        elif unit == \"hours\":\n",
    "            date = date.split(\":\")[0] + \":00:00\"\n",
    "    elif unit in set([\"days\", \"months\", \"years\", \"decades\", \"centuries\"]):\n",
    "        date = formatted.split(\"--\")[0].strip()\n",
    "        if unit == \"days\":\n",
    "            date = date\n",
    "        elif unit == \"months\":\n",
    "            date = \" \".join(date.split()[1:])\n",
    "        elif unit == \"years\":\n",
    "            date = date.split()[-1]\n",
    "        elif unit == \"decades\":\n",
    "            date = str(int(date.split()[-1]) // 10) + \"0\"\n",
    "        elif unit == \"centuries\":\n",
    "            date = str(int(date.split()[-1]) // 100) + \"00\"\n",
    "    return date"
   ]
  },
  {
   "cell_type": "code",
   "execution_count": null,
   "metadata": {},
   "outputs": [],
   "source": [
    "#| export\n",
    "\n",
    "def timestamp():\n",
    "    \"\"\"Return a string for printing the current time\"\"\"\n",
    "    return str(datetime.datetime.now()) + \":\""
   ]
  },
  {
   "cell_type": "code",
   "execution_count": null,
   "metadata": {},
   "outputs": [],
   "source": [
    "#| export\n",
    "\n",
    "def datestring_to_date(datestring):\n",
    "    \"\"\"\n",
    "    Given a string representing a date return a datetime object\n",
    "    \"\"\"\n",
    "    try:\n",
    "        return parse_date(\n",
    "            str(datestring), fuzzy=True, default=datetime.datetime(9999, 1, 1)\n",
    "        )\n",
    "    except Exception as exc:\n",
    "        print(timestamp(), \"Could not parse datestring {}\".format(datestring))\n",
    "        return datestring"
   ]
  },
  {
   "attachments": {},
   "cell_type": "markdown",
   "metadata": {},
   "source": [
    "## Path and file utilities"
   ]
  },
  {
   "cell_type": "code",
   "execution_count": null,
   "metadata": {},
   "outputs": [],
   "source": [
    "#| export\n",
    "\n",
    "def get_path(*args, **kwargs):\n",
    "    \"\"\"Return the path to a JSON file with conditional gz extension\n",
    "    \n",
    "    Args:\n",
    "        sub_dir (str)\n",
    "        filename (str)\n",
    "        out_dir (str)\n",
    "        add_hash (Optional[bool])\n",
    "        plot_id (Optional[str]): Required if add_hash is True\n",
    "        gzip (Optional[bool])\n",
    "    \n",
    "    \"\"\"\n",
    "    sub_dir, filename = args\n",
    "    if sub_dir:\n",
    "        out_dir = os.path.join(kwargs[\"out_dir\"], sub_dir)\n",
    "    else:\n",
    "        out_dir =  kwargs[\"out_dir\"]\n",
    "\n",
    "    if kwargs.get(\"add_hash\", True):\n",
    "        filename += f'-{kwargs[\"plot_id\"]}'\n",
    "\n",
    "    path = os.path.join(out_dir, filename + \".json\")\n",
    "    if kwargs.get(\"gzip\", False):\n",
    "        path += \".gz\"\n",
    "\n",
    "    return path"
   ]
  },
  {
   "cell_type": "code",
   "execution_count": null,
   "metadata": {},
   "outputs": [],
   "source": [
    "#| export\n",
    "\n",
    "def write_json(path, obj, **kwargs):\n",
    "    \"\"\"Write json object `obj` to disk and return the path to that file\n",
    "    \n",
    "    Args:\n",
    "        path (str)\n",
    "        obj (json serializable)\n",
    "        gzip (Optional[bool]): Default = False\n",
    "        encoding (str): Required if gzip = True\n",
    "    \"\"\"\n",
    "    out_dir, filename = os.path.split(path)\n",
    "    if not os.path.exists(out_dir):\n",
    "        os.makedirs(out_dir)\n",
    "    if kwargs.get(\"gzip\", False):\n",
    "        with gzip.GzipFile(path, \"w\") as out:\n",
    "            out.write(json.dumps(obj, indent=4).encode(kwargs[\"encoding\"]))\n",
    "        return path\n",
    "    else:\n",
    "        with open(path, \"w\") as out:\n",
    "            json.dump(obj, out, indent=4)\n",
    "        return path\n",
    "\n",
    "\n",
    "def read_json(path, **kwargs):\n",
    "    \"\"\"Read and return the json object written by the current process at `path`\n",
    "    \n",
    "    Args:\n",
    "        path (str)\n",
    "        gzip (Optional[bool]): Default = False\n",
    "        encoding (str): Required if gzip = True\n",
    "\n",
    "    \"\"\"\n",
    "    if kwargs.get(\"gzip\", False):\n",
    "        with gzip.GzipFile(path, \"r\") as f:\n",
    "            return json.loads(f.read().decode(kwargs[\"encoding\"]))\n",
    "    with open(path) as f:\n",
    "        return json.load(f)\n"
   ]
  },
  {
   "attachments": {},
   "cell_type": "markdown",
   "metadata": {},
   "source": [
    "### Cross-version copy tree\n",
    "\n",
    "This is copied from `_copytree` in `nbdev.quarto`.\n",
    "\n",
    "We put this in a separate module for one main reason:\n",
    "\n",
    "When we import this module, we can use its `__file__` attribute (available when you import anything) to define the source for copying our web files."
   ]
  },
  {
   "cell_type": "code",
   "execution_count": null,
   "metadata": {},
   "outputs": [],
   "source": [
    "#|export\n",
    "def copytree_agnostic(a,b):\n",
    "    if sys.version_info.major >=3 and sys.version_info.minor >=8: copytree(a, b, dirs_exist_ok=True)\n",
    "    else:\n",
    "        from distutils.dir_util import copy_tree\n",
    "        copy_tree(a, b)"
   ]
  },
  {
   "cell_type": "code",
   "execution_count": null,
   "metadata": {},
   "outputs": [],
   "source": [
    "#|hide \n",
    "# put in a test for copytree"
   ]
  },
  {
   "attachments": {},
   "cell_type": "markdown",
   "metadata": {},
   "source": [
    "### Filename-related functions"
   ]
  },
  {
   "cell_type": "code",
   "execution_count": null,
   "metadata": {},
   "outputs": [],
   "source": [
    "#| export\n",
    "def clean_filename(s, **kwargs):\n",
    "    \"\"\"Given a string that points to a filename, return a clean filename\n",
    "    \n",
    "    Args:\n",
    "        s (str): filename path\n",
    "\n",
    "    Returns:\n",
    "        s (str): clean file name\n",
    "\n",
    "    Notes:\n",
    "        kwargs is not used at all\n",
    "    \n",
    "    \"\"\"\n",
    "    s = unquote(os.path.basename(s))\n",
    "    invalid_chars = '<>:;,\"/\\\\|?*[]'\n",
    "    for i in invalid_chars:\n",
    "        s = s.replace(i, \"\")\n",
    "    return s"
   ]
  },
  {
   "cell_type": "code",
   "execution_count": null,
   "metadata": {},
   "outputs": [],
   "source": [
    "#|hide\n",
    "import nbdev; nbdev.nbdev_export()"
   ]
  },
  {
   "cell_type": "code",
   "execution_count": null,
   "metadata": {},
   "outputs": [],
   "source": []
  }
 ],
 "metadata": {
  "kernelspec": {
   "display_name": "python3",
   "language": "python",
   "name": "python3"
  }
 },
 "nbformat": 4,
 "nbformat_minor": 2
}
