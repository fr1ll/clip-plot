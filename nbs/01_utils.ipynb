{
 "cells": [
  {
   "cell_type": "code",
   "execution_count": null,
   "metadata": {},
   "outputs": [],
   "source": [
    "#|default_exp utils"
   ]
  },
  {
   "cell_type": "code",
   "execution_count": null,
   "metadata": {},
   "outputs": [],
   "source": [
    "#|hide\n",
    "from nbdev.showdoc import *"
   ]
  },
  {
   "cell_type": "code",
   "execution_count": null,
   "metadata": {},
   "outputs": [],
   "source": [
    "#|export\n",
    "import sys\n",
    "import os\n",
    "from os.path import join\n",
    "import gzip\n",
    "from shutil import copytree\n",
    "from pathlib import Path\n",
    "import datetime\n",
    "import json\n",
    "from urllib.parse import unquote\n"
   ]
  },
  {
   "cell_type": "code",
   "execution_count": null,
   "metadata": {},
   "outputs": [],
   "source": [
    "#| export\n",
    "\n",
    "def get_version():\n",
    "    \"\"\"\n",
    "    Return the version of clipplot installed\n",
    "    Hardcoded for now\n",
    "    \"\"\"\n",
    "    # return pkg_resources.get_distribution(\"clipplot\").version\n",
    "    return \"0.0.1\""
   ]
  },
  {
   "attachments": {},
   "cell_type": "markdown",
   "metadata": {},
   "source": [
    "## Time, date, and number utilities"
   ]
  },
  {
   "cell_type": "code",
   "execution_count": null,
   "metadata": {},
   "outputs": [],
   "source": [
    "#| export\n",
    "\n",
    "def round_floats(obj, digits=5):\n",
    "    \"\"\"Return 2D array obj with rounded float precision\"\"\"\n",
    "    return [[round(float(j), digits) for j in i] for i in obj]"
   ]
  },
  {
   "cell_type": "code",
   "execution_count": null,
   "metadata": {},
   "outputs": [],
   "source": [
    "#| export\n",
    "\n",
    "def timestamp():\n",
    "    \"\"\"Return a string for printing the current time\"\"\"\n",
    "    return str(datetime.datetime.now()) + \":\""
   ]
  },
  {
   "cell_type": "markdown",
   "metadata": {},
   "source": [
    "## Path and file utilities"
   ]
  },
  {
   "cell_type": "code",
   "execution_count": null,
   "metadata": {},
   "outputs": [],
   "source": [
    "#| export\n",
    "\n",
    "def get_path(*args, **kwargs):\n",
    "    \"\"\"Return the path to a JSON file with conditional gz extension\"\"\"\n",
    "    sub_dir, filename = args\n",
    "    out_dir = join(kwargs[\"out_dir\"], sub_dir) if sub_dir else kwargs[\"out_dir\"]\n",
    "    if kwargs.get(\"add_hash\", True):\n",
    "        filename += \"-\" + kwargs[\"plot_id\"]\n",
    "    path = join(out_dir, filename + \".json\")\n",
    "    return path + \".gz\" if kwargs.get(\"gzip\", False) else path"
   ]
  },
  {
   "cell_type": "code",
   "execution_count": null,
   "metadata": {},
   "outputs": [],
   "source": [
    "#| export\n",
    "\n",
    "def write_json(path, obj, **kwargs):\n",
    "    \"\"\"Write json object `obj` to disk and return the path to that file\"\"\"\n",
    "    out_dir, filename = os.path.split(path)\n",
    "    if not os.path.exists(out_dir):\n",
    "        os.makedirs(out_dir)\n",
    "    if kwargs.get(\"gzip\", False):\n",
    "        with gzip.GzipFile(path, \"w\") as out:\n",
    "            out.write(json.dumps(obj, indent=4).encode(kwargs[\"encoding\"]))\n",
    "        return path\n",
    "    else:\n",
    "        with open(path, \"w\") as out:\n",
    "            json.dump(obj, out, indent=4)\n",
    "        return path\n",
    "\n",
    "\n",
    "def read_json(path, **kwargs):\n",
    "    \"\"\"Read and return the json object written by the current process at `path`\"\"\"\n",
    "    if kwargs.get(\"gzip\", False):\n",
    "        with gzip.GzipFile(path, \"r\") as f:\n",
    "            return json.loads(f.read().decode(kwargs[\"encoding\"]))\n",
    "    with open(path) as f:\n",
    "        return json.load(f)\n"
   ]
  },
  {
   "attachments": {},
   "cell_type": "markdown",
   "metadata": {},
   "source": [
    "### Cross-version copy tree\n",
    "\n",
    "This is copied from `_copytree` in `nbdev.quarto`.\n",
    "\n",
    "We put this in a separate module for one main reason:\n",
    "\n",
    "When we import this module, we can use its `__file__` attribute (available when you import anything) to define the source for copying our web files."
   ]
  },
  {
   "cell_type": "code",
   "execution_count": null,
   "metadata": {},
   "outputs": [],
   "source": [
    "#|export\n",
    "def copytree_agnostic(a,b):\n",
    "    if sys.version_info.major >=3 and sys.version_info.minor >=8: copytree(a, b, dirs_exist_ok=True)\n",
    "    else:\n",
    "        from distutils.dir_util import copy_tree\n",
    "        copy_tree(a, b)"
   ]
  },
  {
   "cell_type": "code",
   "execution_count": null,
   "metadata": {},
   "outputs": [],
   "source": [
    "#|hide \n",
    "# put in a test for copytree"
   ]
  },
  {
   "attachments": {},
   "cell_type": "markdown",
   "metadata": {},
   "source": [
    "### Filename-related functions"
   ]
  },
  {
   "cell_type": "code",
   "execution_count": null,
   "metadata": {},
   "outputs": [],
   "source": [
    "#| export\n",
    "def clean_filename(s, **kwargs):\n",
    "    \"\"\"Given a string that points to a filename, return a clean filename\n",
    "    \n",
    "    Args:\n",
    "        s (str): filename path\n",
    "\n",
    "    Returns:\n",
    "        s (str): clean file name\n",
    "\n",
    "    Notes:\n",
    "        kwargs is not used at all\n",
    "    \n",
    "    \"\"\"\n",
    "    s = unquote(os.path.basename(s))\n",
    "    invalid_chars = '<>:;,\"/\\\\|?*[]'\n",
    "    for i in invalid_chars:\n",
    "        s = s.replace(i, \"\")\n",
    "    return s"
   ]
  },
  {
   "cell_type": "code",
   "execution_count": null,
   "metadata": {},
   "outputs": [],
   "source": [
    "#|hide\n",
    "import nbdev; nbdev.nbdev_export()"
   ]
  },
  {
   "cell_type": "code",
   "execution_count": null,
   "metadata": {},
   "outputs": [],
   "source": []
  }
 ],
 "metadata": {
  "kernelspec": {
   "display_name": "python3",
   "language": "python",
   "name": "python3"
  }
 },
 "nbformat": 4,
 "nbformat_minor": 2
}
