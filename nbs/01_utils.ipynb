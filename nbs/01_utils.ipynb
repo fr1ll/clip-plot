{
 "cells": [
  {
   "cell_type": "code",
   "execution_count": null,
   "metadata": {},
   "outputs": [],
   "source": [
    "#|default_exp utils"
   ]
  },
  {
   "cell_type": "code",
   "execution_count": null,
   "metadata": {},
   "outputs": [],
   "source": [
    "#|hide\n",
    "from nbdev.showdoc import *"
   ]
  },
  {
   "cell_type": "code",
   "execution_count": null,
   "metadata": {},
   "outputs": [],
   "source": [
    "#|export\n",
    "import os\n",
    "import sys\n",
    "import json\n",
    "from typing import Any\n",
    "import datetime\n",
    "from shutil import copytree\n",
    "from urllib.parse import unquote\n",
    "\n",
    "from pathlib import Path"
   ]
  },
  {
   "cell_type": "code",
   "execution_count": null,
   "metadata": {},
   "outputs": [],
   "source": [
    "#| export\n",
    "\n",
    "FILE_NAME = \"filename\"  # Filename name key"
   ]
  },
  {
   "cell_type": "code",
   "execution_count": null,
   "metadata": {},
   "outputs": [],
   "source": [
    "#| export\n",
    "\n",
    "def get_version():\n",
    "    \"\"\"\n",
    "    Return the version of clipplot installed\n",
    "    Hardcoded for now\n",
    "    \"\"\"\n",
    "    # return pkg_resources.get_distribution(\"clipplot\").version\n",
    "    return \"0.0.1\""
   ]
  },
  {
   "attachments": {},
   "cell_type": "markdown",
   "metadata": {},
   "source": [
    "## Number utilities"
   ]
  },
  {
   "cell_type": "code",
   "execution_count": null,
   "metadata": {},
   "outputs": [],
   "source": [
    "#| export\n",
    "\n",
    "def round_floats(obj, digits=5):\n",
    "    \"\"\"Return 2D array obj with rounded float precision\"\"\"\n",
    "    return [[round(float(j), digits) for j in i] for i in obj]"
   ]
  },
  {
   "cell_type": "code",
   "execution_count": null,
   "metadata": {},
   "outputs": [],
   "source": [
    "#| export\n",
    "\n",
    "def is_number(s: str) -> bool:\n",
    "    try:\n",
    "        int(s)\n",
    "        return True\n",
    "    except ValueError:\n",
    "        return False"
   ]
  },
  {
   "attachments": {},
   "cell_type": "markdown",
   "metadata": {},
   "source": [
    "## Time and date utilities"
   ]
  },
  {
   "cell_type": "code",
   "execution_count": null,
   "metadata": {},
   "outputs": [],
   "source": [
    "#| export\n",
    "\n",
    "def timestamp():\n",
    "    \"\"\"Return a string for printing the current time\"\"\"\n",
    "    return str(datetime.datetime.now()) + \":\""
   ]
  },
  {
   "attachments": {},
   "cell_type": "markdown",
   "metadata": {},
   "source": [
    "## Path and file utilities"
   ]
  },
  {
   "cell_type": "code",
   "execution_count": null,
   "metadata": {},
   "outputs": [],
   "source": [
    "#| export\n",
    "\n",
    "def get_json_path(subdir: str, filename: str, *, out_dir: Path):\n",
    "    \"\"\"Return the path to a JSON file with conditional hash\n",
    "    \"\"\"\n",
    "    if subdir:\n",
    "        out_dir = out_dir / subdir\n",
    "    return (out_dir/ filename).with_suffix(\".json\").as_posix()"
   ]
  },
  {
   "cell_type": "code",
   "execution_count": null,
   "metadata": {},
   "outputs": [],
   "source": [
    "#| export\n",
    "\n",
    "def write_json(output_path: Path, object: Any):\n",
    "    \"\"\"\n",
    "    Write json object `obj` to disk and return the path to that file\n",
    "    \"\"\"\n",
    "    output_path.parent.mkdir(parents=True, exist_ok=True)\n",
    "    with output_path.open(\"w\", encoding=\"utf-8\") as out:\n",
    "        json.dump(object, out, indent=4)"
   ]
  },
  {
   "cell_type": "code",
   "execution_count": null,
   "metadata": {},
   "outputs": [],
   "source": [
    "#| export\n",
    "\n",
    "def read_json(path: Path) -> dict:\n",
    "    with path.open(\"r\") as f:\n",
    "        return json.load(f)"
   ]
  },
  {
   "attachments": {},
   "cell_type": "markdown",
   "metadata": {},
   "source": [
    "### Cross-version copy tree\n",
    "\n",
    "This is copied from `_copytree` in `nbdev.quarto`.\n",
    "\n",
    "We put this in a separate module for one main reason:\n",
    "\n",
    "When we import this module, we can use its `__file__` attribute (available when you import anything) to define the source for copying our web files."
   ]
  },
  {
   "cell_type": "code",
   "execution_count": null,
   "metadata": {},
   "outputs": [],
   "source": [
    "#|export\n",
    "def copytree_agnostic(a,b):\n",
    "    if sys.version_info.major >=3 and sys.version_info.minor >=8:\n",
    "        copytree(a, b, dirs_exist_ok=True)\n",
    "    else:\n",
    "        from distutils.dir_util import copy_tree\n",
    "        copy_tree(a, b)"
   ]
  },
  {
   "attachments": {},
   "cell_type": "markdown",
   "metadata": {},
   "source": [
    "### Filename-related functions"
   ]
  },
  {
   "cell_type": "code",
   "execution_count": null,
   "metadata": {},
   "outputs": [],
   "source": [
    "#| export\n",
    "def clean_filename(s: str) -> str:\n",
    "    \"\"\"Given a string that points to a filename, return a clean filename\n",
    "    \"\"\"\n",
    "    s = unquote(os.path.basename(s))\n",
    "    invalid_chars = '<>:;,\"/\\\\|?*[]'\n",
    "    for i in invalid_chars:\n",
    "        s = s.replace(i, \"\")\n",
    "    return s"
   ]
  },
  {
   "cell_type": "code",
   "execution_count": null,
   "metadata": {},
   "outputs": [],
   "source": [
    "#|hide\n",
    "import nbdev; nbdev.nbdev_export()"
   ]
  },
  {
   "cell_type": "code",
   "execution_count": null,
   "metadata": {},
   "outputs": [],
   "source": []
  }
 ],
 "metadata": {
  "kernelspec": {
   "display_name": "python3",
   "language": "python",
   "name": "python3"
  }
 },
 "nbformat": 4,
 "nbformat_minor": 2
}
