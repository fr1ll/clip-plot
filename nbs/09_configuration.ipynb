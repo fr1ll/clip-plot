{
 "cells": [
  {
   "cell_type": "code",
   "execution_count": 16,
   "id": "f1032979",
   "metadata": {},
   "outputs": [],
   "source": [
    "#| default_exp configuration"
   ]
  },
  {
   "cell_type": "code",
   "execution_count": 17,
   "id": "f309b5db",
   "metadata": {},
   "outputs": [
    {
     "name": "stdout",
     "output_type": "stream",
     "text": [
      "The autoreload extension is already loaded. To reload it, use:\n",
      "  %reload_ext autoreload\n"
     ]
    }
   ],
   "source": [
    "#| hide\n",
    "%load_ext autoreload\n",
    "%autoreload 2"
   ]
  },
  {
   "cell_type": "code",
   "execution_count": 18,
   "id": "42756ae2",
   "metadata": {},
   "outputs": [],
   "source": [
    "#| export\n",
    "\n",
    "from typing import Literal, Any\n",
    "from typing_extensions import Self \n",
    "from pathlib import Path\n",
    "from importlib.metadata import version\n",
    "from uuid import uuid4\n",
    "from glob import glob\n",
    "\n",
    "from pydantic import (\n",
    "    Field, BaseModel,\n",
    "    model_validator, field_validator, ValidationInfo\n",
    ")\n",
    "from pydantic_settings import (\n",
    "    BaseSettings,\n",
    "    SettingsConfigDict,\n",
    "    TomlConfigSettingsSource,\n",
    "    CliApp,\n",
    "    CliSuppress\n",
    ")\n",
    "\n",
    "import clip_plot # for version"
   ]
  },
  {
   "cell_type": "code",
   "execution_count": 19,
   "id": "c744b03c",
   "metadata": {},
   "outputs": [],
   "source": [
    "#| export\n",
    "\n",
    "class Paths(BaseModel):\n",
    "    images: list[Path] = Field([], description=\"Path to folder, image dir, or glob\")\n",
    "    tables: list[Path] | None = Field(None,\n",
    "                               description=\"Glob of table(s) with image_path, embed_path cols\")\n",
    "    metadata: list[Path] | None = Field(None,\n",
    "                               description=\"Glob of table(s) with image_path, embed_path cols\")\n",
    "    table_id: str = Field(default_factory=lambda: str(uuid4()), description=\"identifier for table output\")\n",
    "    output_dir: Path = Field((Path()/\"clipplot_output\").resolve(),\n",
    "            description=\"Directory for output data files and viewer\")\n",
    "    table_format: Literal[\"parquet\", \"csv\"] = Field(\"parquet\", description=\"Format for table, `csv` or `parquet`\")\n",
    "\n",
    "\n",
    "    @field_validator(\"images\", \"tables\", \"metadata\", mode=\"before\")\n",
    "    @classmethod\n",
    "    def expand_paths(cls, value: Any, info: ValidationInfo) -> Any:\n",
    "        if value is None:\n",
    "            return None\n",
    "        if isinstance(value, list) and len(value) == 1:\n",
    "            value = value[0] # yikes unpack\n",
    "        elif isinstance(value, list) and len(value) > 1:\n",
    "            return value\n",
    "        if \"*\" in str(value):\n",
    "            return [Path(p) for p in glob(str(value), recursive=True)]\n",
    "        elif Path(value).is_dir():\n",
    "            if info.field_name == \"images\":\n",
    "                exts = {'.jpg', '.jpeg', '.png', '.gif', '.bmp', '.tiff', '.tif'}\n",
    "            else:\n",
    "                exts = {'.json', '.csv', '.parquet'}\n",
    "            return [p for p in Path(value).rglob('*') if p.suffix.lower() in exts]\n",
    "\n",
    "    @model_validator(mode='after')\n",
    "    def check_table_vs_meta(self) -> Self:\n",
    "        if self.metadata is not None and self.tables is not None:\n",
    "            raise ValueError(\"'metadata' and 'tables' are mutually exclusive.\")\n",
    "        return self"
   ]
  },
  {
   "cell_type": "code",
   "execution_count": 20,
   "id": "7034c054",
   "metadata": {},
   "outputs": [],
   "source": [
    "#| export\n",
    "\n",
    "class UmapSpec(BaseModel):\n",
    "    n_neighbors: list[int] = Field([15], description=\"Number of neighbors in UMAP\")\n",
    "    min_dist: list[float] = Field([0.1], description=\"Minimum distance in UMAP\")\n",
    "    metric: CliSuppress[str] = Field(\"correlation\")\n",
    "    umap_on_full_dims: CliSuppress[bool] = Field(True)"
   ]
  },
  {
   "cell_type": "code",
   "execution_count": 21,
   "id": "7c257eaf",
   "metadata": {},
   "outputs": [],
   "source": [
    "#| export\n",
    "\n",
    "class ClusterSpec(BaseModel):\n",
    "    n_clusters: CliSuppress[int] = Field(12)\n",
    "    max_clusters: CliSuppress[int] = Field(10)\n",
    "    min_cluster_size: CliSuppress[int] = Field(20)"
   ]
  },
  {
   "cell_type": "code",
   "execution_count": 22,
   "id": "62c02c68",
   "metadata": {},
   "outputs": [],
   "source": [
    "#| export\n",
    "\n",
    "class Cfg(BaseSettings):\n",
    "    thumbnail_size: int = Field(128, description=\"Size of images in main bedmap view\")\n",
    "    model: str = Field(\"timm/convnext_tiny.dinov3_lvd1689m\",\n",
    "                            description=\"Model name on huggingface.co/models\")\n",
    "    umap_spec: UmapSpec = UmapSpec()\n",
    "    clipplot_version: str = Field(version(clip_plot.__name__), description=\"Version of clipplot\")\n",
    "    plot_id: str = Field(default_factory=lambda: str(uuid4()), description=\"Unique identifier for plot\")\n",
    "    paths: Paths = Paths()\n",
    "\n",
    "    # excluded from CLI - it's a hairball\n",
    "    seed: CliSuppress[int] = Field(42)\n",
    "    geojson: CliSuppress[None | Path] = Field(None)\n",
    "    shuffle: CliSuppress[None | bool] = Field(False)\n",
    "    copy_web_only: CliSuppress[bool] = Field(False)\n",
    "    use_cache: CliSuppress[bool] = Field(False)\n",
    "    encoding: CliSuppress[str] = Field(\"utf8\")\n",
    "    pointgrid_fill: CliSuppress[float] = Field(0.05)\n",
    "    cell_size: CliSuppress[int] = Field(32)\n",
    "    lod_cell_height: CliSuppress[int] = Field(128)\n",
    "    min_size: CliSuppress[int] = Field(100, description=\"min edge for image\")\n",
    "    gzip: CliSuppress[bool] = Field(False)\n",
    "    logo: CliSuppress[None | Path] = Field(None)\n",
    "    tagline: CliSuppress[None] | str = Field(None)\\\n",
    "\n",
    "    model_config = SettingsConfigDict(\n",
    "        env_prefix = \"CLIPPLOT_\",\n",
    "        cli_parse_args = True,\n",
    "        use_attribute_docstrings = True,\n",
    "        cli_prog_name = \"clipplot\",\n",
    "        cli_hide_none_type = True,\n",
    "        cli_ignore_unknown_args=True,\n",
    "        # pyproject_toml_table_header=(),\n",
    "    )"
   ]
  },
  {
   "cell_type": "code",
   "execution_count": 23,
   "id": "de9f1aab",
   "metadata": {},
   "outputs": [],
   "source": [
    "#| hide\n",
    "\n",
    "cfg = Cfg()"
   ]
  },
  {
   "cell_type": "code",
   "execution_count": 24,
   "id": "42e24f13",
   "metadata": {},
   "outputs": [],
   "source": [
    "#|hide\n",
    "import nbdev; nbdev.nbdev_export()"
   ]
  }
 ],
 "metadata": {
  "kernelspec": {
   "display_name": "clip-plot",
   "language": "python",
   "name": "python3"
  },
  "language_info": {
   "codemirror_mode": {
    "name": "ipython",
    "version": 3
   },
   "file_extension": ".py",
   "mimetype": "text/x-python",
   "name": "python",
   "nbconvert_exporter": "python",
   "pygments_lexer": "ipython3",
   "version": "3.10.13"
  }
 },
 "nbformat": 4,
 "nbformat_minor": 5
}
