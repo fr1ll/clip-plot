{
 "cells": [
  {
   "cell_type": "code",
   "execution_count": 37,
   "id": "f1032979",
   "metadata": {},
   "outputs": [],
   "source": [
    "#| default_exp configuration"
   ]
  },
  {
   "cell_type": "code",
   "execution_count": 38,
   "id": "f309b5db",
   "metadata": {},
   "outputs": [
    {
     "name": "stdout",
     "output_type": "stream",
     "text": [
      "The autoreload extension is already loaded. To reload it, use:\n",
      "  %reload_ext autoreload\n"
     ]
    }
   ],
   "source": [
    "#| hide\n",
    "%load_ext autoreload\n",
    "%autoreload 2"
   ]
  },
  {
   "cell_type": "code",
   "execution_count": 39,
   "id": "42756ae2",
   "metadata": {},
   "outputs": [],
   "source": [
    "#| export\n",
    "\n",
    "from typing import Literal, Any\n",
    "from typing_extensions import Self \n",
    "from pathlib import Path\n",
    "from importlib.metadata import version\n",
    "from uuid import uuid4\n",
    "from glob import glob\n",
    "\n",
    "from pydantic import (\n",
    "    Field, BaseModel,\n",
    "    model_validator, field_validator, ValidationInfo\n",
    ")\n",
    "from pydantic_settings import (\n",
    "    BaseSettings,\n",
    "    SettingsConfigDict,\n",
    "    TomlConfigSettingsSource,\n",
    "    CliApp,\n",
    "    CliSuppress\n",
    ")\n",
    "\n",
    "import clip_plot # for version"
   ]
  },
  {
   "cell_type": "code",
   "execution_count": 40,
   "id": "c744b03c",
   "metadata": {},
   "outputs": [],
   "source": [
    "#| export\n",
    "\n",
    "class Paths(BaseModel):\n",
    "    images: list[Path] = Field([], description=\"Path to folder, image dir, or glob\")\n",
    "    tables: list[Path] | None = Field(None,\n",
    "                               description=\"Glob of table(s) with image_path, embed_path cols\")\n",
    "    metadata: list[Path] | None = Field(None,\n",
    "                               description=\"Glob of table(s) with image_path, embed_path cols\")\n",
    "    table_id: str = Field(default_factory=lambda: str(uuid4()), description=\"identifier for table output\")\n",
    "    output_dir: Path = Field((Path()/\"clipplot_output\").resolve(),\n",
    "            description=\"Directory for output data files and viewer\")\n",
    "    table_format: Literal[\"parquet\", \"csv\"] = Field(\"parquet\",\n",
    "                                                    description=\"Format for output table, `csv` or `parquet`\")\n",
    "\n",
    "\n",
    "    @field_validator(\"images\", \"tables\", \"metadata\", mode=\"before\")\n",
    "    @classmethod\n",
    "    def expand_paths(cls, value: str | list | Path | None, info: ValidationInfo) -> Any:\n",
    "        if value is None:\n",
    "            return None\n",
    "        if isinstance(value, list) and len(value) == 1:\n",
    "            value = value[0] # yikes unpack\n",
    "        elif isinstance(value, list) and len(value) > 1:\n",
    "            return value\n",
    "        if \"*\" in str(value):\n",
    "            return [Path(p) for p in glob(str(value), recursive=True)]\n",
    "        elif Path(str(value)).is_dir():\n",
    "            if info.field_name == \"images\":\n",
    "                exts = {'.jpg', '.jpeg', '.png', '.gif', '.bmp', '.tiff', '.tif'}\n",
    "            else:\n",
    "                exts = {'.json', '.csv', '.parquet'}\n",
    "            return [p for p in Path(str(value)).rglob('*') if p.suffix.lower() in exts]\n",
    "\n",
    "    @model_validator(mode='after')\n",
    "    def check_table_vs_meta(self) -> Self:\n",
    "        if self.metadata is not None and self.tables is not None:\n",
    "            raise ValueError(\"'metadata' and 'tables' are mutually exclusive.\")\n",
    "        return self"
   ]
  },
  {
   "cell_type": "code",
   "execution_count": 41,
   "id": "7034c054",
   "metadata": {},
   "outputs": [],
   "source": [
    "#| export\n",
    "\n",
    "class UmapSpec(BaseModel):\n",
    "    n_neighbors: list[int] = Field([15], description=\"Number of neighbors in UMAP\")\n",
    "    min_dist: list[float] = Field([0.1], description=\"Minimum distance in UMAP\")\n",
    "    metric: CliSuppress[str] = Field(\"correlation\", description=\"Metric argument for UMAP\")\n",
    "    umap_on_full_dims: CliSuppress[bool] = Field(True)"
   ]
  },
  {
   "cell_type": "code",
   "execution_count": 42,
   "id": "7c257eaf",
   "metadata": {},
   "outputs": [],
   "source": [
    "#| export\n",
    "\n",
    "class ClusterSpec(BaseModel):\n",
    "    n_clusters: CliSuppress[int] = Field(12)\n",
    "    max_clusters: CliSuppress[int] = Field(10)\n",
    "    min_cluster_size: CliSuppress[int] = Field(20)"
   ]
  },
  {
   "cell_type": "code",
   "execution_count": 43,
   "id": "6cb0ec51",
   "metadata": {},
   "outputs": [],
   "source": [
    "#| export\n",
    "\n",
    "class ImageLoaderOptions(BaseSettings):\n",
    "    seed: CliSuppress[int | None] = Field(42, description=\"Seed for reproducible transforms\")\n",
    "    shuffle: CliSuppress[bool] = Field(False, description=\"Shuffle images before creating viewer\")\n",
    "    cell_size: CliSuppress[int] = Field(64, description=\"Size of cell in viewer atlas\")\n",
    "    lod_cell_height: CliSuppress[int] = Field(128)\n",
    "    min_size: CliSuppress[int] = Field(100, description=\"Min edge (pixels) for image to not be skipped\")\n",
    "    atlas_size: CliSuppress[int] = Field(4096, description=\"Size for atlases\")"
   ]
  },
  {
   "cell_type": "code",
   "execution_count": 44,
   "id": "397c6fe3",
   "metadata": {},
   "outputs": [],
   "source": [
    "#| export\n",
    "\n",
    "class ViewerOptions(BaseSettings):\n",
    "    logo: CliSuppress[None | Path] = Field(None, description=\"Path to custom logo\")\n",
    "    tagline: CliSuppress[None | str] = Field(None, description=\"Custom tagline for viewer\")\n"
   ]
  },
  {
   "cell_type": "code",
   "execution_count": 45,
   "id": "62c02c68",
   "metadata": {},
   "outputs": [],
   "source": [
    "#| export\n",
    "\n",
    "class Cfg(BaseSettings):\n",
    "    thumbnail_size: int = Field(128, description=\"Size of images in main clip-plot view\")\n",
    "    model: str = Field(\"timm/convnext_tiny.dinov3_lvd1689m\",\n",
    "                            description=\"Model name on huggingface.co/models\")\n",
    "    umap_spec: UmapSpec = UmapSpec()\n",
    "    clipplot_version: str = Field(version(clip_plot.__name__), description=\"Version of clipplot\")\n",
    "    plot_id: str = Field(default_factory=lambda: str(uuid4()), description=\"Unique identifier for plot\")\n",
    "    paths: Paths = Paths()\n",
    "    view_opts: ViewerOptions = ViewerOptions()\n",
    "    im_opts: ImageLoaderOptions = ImageLoaderOptions()\n",
    "    image_path_col: str = Field(\"image_path\", description=\"Name of column with paths to images\")\n",
    "    vectors_path_col: str = Field(\"hidden_vectors_path\", description=\"Name of column with paths to hidden vectors\")\n",
    "    # image_column: str = Field(\"image\", description=\"Name of column with images\")\n",
    "    # vectors_column: str = Field(\"hidden_vectors\", description=\"Name of column with hidden vectors\")\n",
    "\n",
    "    model_config = SettingsConfigDict(\n",
    "        env_prefix = \"CLIPPLOT_\",\n",
    "        cli_parse_args = True,\n",
    "        use_attribute_docstrings = True,\n",
    "        cli_prog_name = \"clipplot\",\n",
    "        cli_hide_none_type = True,\n",
    "        cli_ignore_unknown_args=True,\n",
    "        # pyproject_toml_table_header=(),\n",
    "    )"
   ]
  },
  {
   "cell_type": "code",
   "execution_count": 46,
   "id": "de9f1aab",
   "metadata": {},
   "outputs": [
    {
     "data": {
      "text/plain": [
       "{'thumbnail_size': 128,\n",
       " 'model': 'timm/convnext_tiny.dinov3_lvd1689m',\n",
       " 'umap_spec': {'n_neighbors': [15],\n",
       "  'min_dist': [0.1],\n",
       "  'metric': 'correlation',\n",
       "  'umap_on_full_dims': True},\n",
       " 'clipplot_version': '0.1.1a9',\n",
       " 'plot_id': 'dd742dca-4695-4541-aaeb-6d34a6b6a2bd',\n",
       " 'paths': {'images': [],\n",
       "  'tables': None,\n",
       "  'metadata': None,\n",
       "  'table_id': '6af3368a-df80-4ad1-a21b-0e7888f97e35',\n",
       "  'output_dir': Path('/home/wsanger/git/clip-plot/nbs/clipplot_output'),\n",
       "  'table_format': 'parquet'},\n",
       " 'view_opts': {'logo': None, 'tagline': None},\n",
       " 'im_opts': {'seed': 42,\n",
       "  'shuffle': False,\n",
       "  'cell_size': 64,\n",
       "  'lod_cell_height': 128,\n",
       "  'min_size': 100,\n",
       "  'atlas_size': 4096},\n",
       " 'image_path_col': 'image_path',\n",
       " 'vectors_path_col': 'hidden_vectors_path'}"
      ]
     },
     "execution_count": 46,
     "metadata": {},
     "output_type": "execute_result"
    }
   ],
   "source": [
    "#| hide\n",
    "\n",
    "cfg = Cfg()\n",
    "cfg.model_dump()"
   ]
  },
  {
   "cell_type": "code",
   "execution_count": 47,
   "id": "42e24f13",
   "metadata": {},
   "outputs": [
    {
     "ename": "SyntaxError",
     "evalue": "non-default argument follows default argument (<unknown>, line 7)",
     "output_type": "error",
     "traceback": [
      "Traceback \u001b[0;36m(most recent call last)\u001b[0m:\n",
      "\u001b[0m  File \u001b[1;32m~/git/clip-plot/.venv/lib/python3.10/site-packages/IPython/core/interactiveshell.py:3579\u001b[0m in \u001b[1;35mrun_code\u001b[0m\n    exec(code_obj, self.user_global_ns, self.user_ns)\u001b[0m\n",
      "\u001b[0m  Cell \u001b[1;32mIn[47], line 2\u001b[0m\n    import nbdev; nbdev.nbdev_export()\u001b[0m\n",
      "\u001b[0m  File \u001b[1;32m~/git/clip-plot/.venv/lib/python3.10/site-packages/fastcore/script.py:116\u001b[0m in \u001b[1;35m_f\u001b[0m\n    if not mod: return func(*args, **kwargs)\u001b[0m\n",
      "\u001b[0m  File \u001b[1;32m~/git/clip-plot/.venv/lib/python3.10/site-packages/nbdev/doclinks.py:160\u001b[0m in \u001b[1;35mnbdev_export\u001b[0m\n    _build_modidx()\u001b[0m\n",
      "\u001b[0m  File \u001b[1;32m~/git/clip-plot/.venv/lib/python3.10/site-packages/nbdev/doclinks.py:116\u001b[0m in \u001b[1;35m_build_modidx\u001b[0m\n    try: res['syms'].update(_get_modidx((dest.parent/file).resolve(), code_root, nbs_path=nbs_path))\u001b[0m\n",
      "\u001b[0m  File \u001b[1;32m~/git/clip-plot/.venv/lib/python3.10/site-packages/nbdev/doclinks.py:93\u001b[0m in \u001b[1;35m_get_modidx\u001b[0m\n    for tree in ast.parse(cell.code).body:\u001b[0m\n",
      "\u001b[0;36m  File \u001b[0;32m~/mambaforge/lib/python3.10/ast.py:50\u001b[0;36m in \u001b[0;35mparse\u001b[0;36m\n\u001b[0;31m    return compile(source, filename, mode, flags,\u001b[0;36m\n",
      "\u001b[0;36m  File \u001b[0;32m<unknown>:7\u001b[0;36m\u001b[0m\n\u001b[0;31m    image_opts: ImageLoaderOptions,\u001b[0m\n\u001b[0m    ^\u001b[0m\n\u001b[0;31mSyntaxError\u001b[0m\u001b[0;31m:\u001b[0m non-default argument follows default argument\n"
     ]
    }
   ],
   "source": [
    "#|hide\n",
    "import nbdev; nbdev.nbdev_export()"
   ]
  }
 ],
 "metadata": {
  "kernelspec": {
   "display_name": "clip-plot",
   "language": "python",
   "name": "python3"
  },
  "language_info": {
   "codemirror_mode": {
    "name": "ipython",
    "version": 3
   },
   "file_extension": ".py",
   "mimetype": "text/x-python",
   "name": "python",
   "nbconvert_exporter": "python",
   "pygments_lexer": "ipython3",
   "version": "3.10.13"
  }
 },
 "nbformat": 4,
 "nbformat_minor": 5
}
