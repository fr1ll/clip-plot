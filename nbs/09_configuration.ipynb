{
 "cells": [
  {
   "cell_type": "code",
   "execution_count": null,
   "id": "f1032979",
   "metadata": {},
   "outputs": [],
   "source": [
    "#| default_exp configuration"
   ]
  },
  {
   "cell_type": "code",
   "execution_count": null,
   "id": "f309b5db",
   "metadata": {},
   "outputs": [
    {
     "name": "stdout",
     "output_type": "stream",
     "text": [
      "The autoreload extension is already loaded. To reload it, use:\n",
      "  %reload_ext autoreload\n"
     ]
    }
   ],
   "source": [
    "#| hide\n",
    "%load_ext autoreload\n",
    "%autoreload 2"
   ]
  },
  {
   "cell_type": "code",
   "execution_count": null,
   "id": "42756ae2",
   "metadata": {},
   "outputs": [],
   "source": [
    "#| export\n",
    "\n",
    "from typing import Literal\n",
    "from typing_extensions import Self\n",
    "from pathlib import Path\n",
    "from importlib.metadata import version\n",
    "from uuid import uuid4\n",
    "from glob import glob\n",
    "\n",
    "from pydantic import Field, BaseModel, model_validator\n",
    "from pydantic_settings import (\n",
    "    BaseSettings,\n",
    "    SettingsConfigDict,\n",
    "    CliMutuallyExclusiveGroup,\n",
    "    TomlConfigSettingsSource,\n",
    "    CliApp,\n",
    "    CliSuppress\n",
    ")\n",
    "\n",
    "import clip_plot # for version"
   ]
  },
  {
   "cell_type": "code",
   "execution_count": null,
   "id": "c744b03c",
   "metadata": {},
   "outputs": [],
   "source": [
    "#| export\n",
    "\n",
    "class Paths(BaseModel):\n",
    "    image_glob: str | None = Field(None, description=\"Glob of images\")\n",
    "    image_dir: Path | None = Field(None, description=\"Path to image folder\")\n",
    "    images: CliSuppress[list[Path]] = Field([])\n",
    "    table_glob: list[Path] | None = Field(None,\n",
    "                               description=\"Glob of table(s) with image_path, embed_path cols\")\n",
    "    table_dir: Path | None = Field(None, description=\"Folder with table(s) with image_path, embed_path cols\")\n",
    "    tables: CliSuppress[list[Path] | None] = Field([])\n",
    "    meta_glob: list[Path] | None = Field(None,\n",
    "                               description=\"Glob of table(s) with image_path, embed_path cols\")\n",
    "    meta_dir: Path | None = Field(None, description=\"Folder with table(s) with image_path, embed_path cols\")\n",
    "    metadata: CliSuppress[list[Path] | None] = Field([], description=\"Path(s) to csv or JSON table with metadata\")\n",
    "    table_id: str = Field(default_factory=lambda: str(uuid4()), description=\"identifier for table output\")\n",
    "    output_dir: Path = Field((Path()/\"clipplot_output\").resolve(),\n",
    "            description=\"Directory for output data files and viewer\")\n",
    "    table_format: Literal[\"parquet\", \"csv\"] = Field(\"parquet\", description=\"Format for table, `csv` or `parquet`\")\n",
    "\n",
    "    @model_validator(mode='after')\n",
    "    def check_glob_or_folder(self) -> Self:\n",
    "        if self.image_glob is not None and self.image_dir is not None:\n",
    "            raise ValueError(\"'image_glob' and 'image_dir' are mutually exclusive.\")\n",
    "        if self.table_glob is not None and self.table_dir is not None:\n",
    "            raise ValueError(\"'tables_glob' and 'tables_dir' are mutually exclusive.\")\n",
    "        if self.meta_glob is not None and self.meta_dir is not None:\n",
    "            raise ValueError(\"'meta_glob' and 'meta_dir' are mutually exclusive.\")\n",
    "        return self\n",
    "    \n",
    "    @model_validator(mode=\"after\")\n",
    "    def expand_globs(self) -> Self:\n",
    "        if self.image_glob and not self.image_dir:\n",
    "            self.images = [Path(p) for p in glob(self.image_glob, recursive=True)]\n",
    "        return self\n",
    "\n",
    "    # @model_validator(mode='after')\n",
    "    # def check_table_vs_meta(self) -> Self:\n",
    "    #     if self.metadata is not None and self.tables is not None:\n",
    "    #         raise ValueError(\"'metadata' and 'tables' are mutually exclusive.\")\n",
    "    #     return self\n",
    "\n",
    "class UmapSpec(BaseModel):\n",
    "    n_neighbors: list[int] = Field([15], description=\"Number of neighbors in UMAP\")\n",
    "    min_dist: list[float] = Field([0.1], description=\"Minimum distance in UMAP\")\n",
    "    metric: CliSuppress[str] = Field(\"correlation\")\n",
    "    umap_on_full_dims: CliSuppress[bool] = Field(True)\n",
    "\n",
    "class ClusterSpec(BaseModel):\n",
    "    n_clusters: CliSuppress[int] = Field(12)\n",
    "    max_clusters: CliSuppress[int] = Field(10)\n",
    "    min_cluster_size: CliSuppress[int] = Field(20)\n",
    "    cluster_preproc_dims: CliSuppress[int] = Field(-1)\n",
    "\n",
    "class Cfg(BaseSettings):\n",
    "    thumbnail_size: int = Field(128, description=\"Size of images in main bedmap view\")\n",
    "    model: str = Field(\"timm/convnext_tiny.dinov3_lvd1689m\",\n",
    "                            description=\"Model name on huggingface.co/models\")\n",
    "    umap_spec: UmapSpec = UmapSpec()\n",
    "    clipplot_version: str = Field(version(clip_plot.__name__), description=\"Version of clipplot\")\n",
    "    plot_id: str = Field(default_factory=lambda: str(uuid4()), description=\"Unique identifier for plot\")\n",
    "    paths: Paths = Paths()\n",
    "\n",
    "    # excluded from CLI - it's a hairball\n",
    "    seed: CliSuppress[int] = Field(42)\n",
    "    geojson: CliSuppress[None | Path] = Field(None)\n",
    "    shuffle: CliSuppress[None | bool] = Field(False)\n",
    "    copy_web_only: CliSuppress[bool] = Field(False)\n",
    "    use_cache: CliSuppress[bool] = Field(False)\n",
    "    encoding: CliSuppress[str] = Field(\"utf8\")\n",
    "    pointgrid_fill: CliSuppress[float] = Field(0.05)\n",
    "    cell_size: CliSuppress[int] = Field(32)\n",
    "    lod_cell_height: CliSuppress[int] = Field(128)\n",
    "    min_size: CliSuppress[int] = Field(100, description=\"min edge for image\")\n",
    "    gzip: CliSuppress[bool] = Field(False)\n",
    "    logo: CliSuppress[None | Path] = Field(None)\n",
    "    tagline: CliSuppress[None] | str = Field(None)\n",
    "\n",
    "\n",
    "    model_config = SettingsConfigDict(\n",
    "        env_prefix = \"CLIPPLOT_\",\n",
    "        cli_parse_args = True,\n",
    "        use_attribute_docstrings = True,\n",
    "        cli_prog_name = \"clipplot\",\n",
    "        cli_hide_none_type = True,\n",
    "        cli_ignore_unknown_args=True,\n",
    "        # pyproject_toml_table_header=(),\n",
    "    )"
   ]
  },
  {
   "cell_type": "code",
   "execution_count": null,
   "id": "de9f1aab",
   "metadata": {},
   "outputs": [],
   "source": [
    "#| hide\n",
    "\n",
    "cfg = Cfg()"
   ]
  },
  {
   "cell_type": "code",
   "execution_count": null,
   "id": "75e22799",
   "metadata": {},
   "outputs": [
    {
     "data": {
      "text/plain": [
       "{'thumbnail_size': 128,\n",
       " 'model': 'timm/convnext_tiny.dinov3_lvd1689m',\n",
       " 'umap_spec': {'n_neighbors': [15],\n",
       "  'min_dist': [0.1],\n",
       "  'metric': 'correlation',\n",
       "  'umap_on_full_dims': True},\n",
       " 'clipplot_version': '0.1.1a9',\n",
       " 'plot_id': '4f1ea363-aff9-4298-8699-8b7a57d89a75',\n",
       " 'paths': {'image_glob': None,\n",
       "  'image_dir': None,\n",
       "  'images': [],\n",
       "  'table_glob': None,\n",
       "  'table_dir': None,\n",
       "  'tables': [],\n",
       "  'meta_glob': None,\n",
       "  'meta_dir': None,\n",
       "  'metadata': [],\n",
       "  'table_id': '877769e5-92b7-474d-ae80-a753f4e6b750',\n",
       "  'output_dir': Path('/home/willsa/git/clip-plot/nbs/clipplot_output'),\n",
       "  'table_format': 'parquet'},\n",
       " 'seed': 42,\n",
       " 'geojson': None,\n",
       " 'shuffle': False,\n",
       " 'copy_web_only': False,\n",
       " 'use_cache': False,\n",
       " 'encoding': 'utf8',\n",
       " 'pointgrid_fill': 0.05,\n",
       " 'cell_size': 32,\n",
       " 'lod_cell_height': 128,\n",
       " 'min_size': 100,\n",
       " 'gzip': False,\n",
       " 'logo': None,\n",
       " 'tagline': None}"
      ]
     },
     "execution_count": null,
     "metadata": {},
     "output_type": "execute_result"
    }
   ],
   "source": [
    "old_version = cfg.model_dump()\n",
    "old_version"
   ]
  },
  {
   "cell_type": "code",
   "execution_count": null,
   "id": "42e24f13",
   "metadata": {},
   "outputs": [],
   "source": [
    "#|hide\n",
    "import nbdev; nbdev.nbdev_export()"
   ]
  }
 ],
 "metadata": {
  "kernelspec": {
   "display_name": "python3",
   "language": "python",
   "name": "python3"
  }
 },
 "nbformat": 4,
 "nbformat_minor": 5
}
