{
 "cells": [
  {
   "cell_type": "code",
   "execution_count": null,
   "id": "f1032979",
   "metadata": {},
   "outputs": [],
   "source": [
    "#| default_exp configuration"
   ]
  },
  {
   "cell_type": "code",
   "execution_count": null,
   "id": "f309b5db",
   "metadata": {},
   "outputs": [
    {
     "name": "stdout",
     "output_type": "stream",
     "text": [
      "The autoreload extension is already loaded. To reload it, use:\n",
      "  %reload_ext autoreload\n"
     ]
    }
   ],
   "source": [
    "#| hide\n",
    "%load_ext autoreload\n",
    "%autoreload 2"
   ]
  },
  {
   "cell_type": "code",
   "execution_count": null,
   "id": "42756ae2",
   "metadata": {},
   "outputs": [],
   "source": [
    "#| export\n",
    "\n",
    "from typing import Optional\n",
    "from typing_extensions import Self\n",
    "from pathlib import Path\n",
    "from importlib.metadata import version\n",
    "from uuid import uuid4\n",
    "\n",
    "from pydantic import Field, BaseModel, model_validator\n",
    "from pydantic_settings import (\n",
    "    BaseSettings,\n",
    "    SettingsConfigDict,\n",
    "    CliMutuallyExclusiveGroup,\n",
    "    TomlConfigSettingsSource,\n",
    "    CliApp,\n",
    "    CliSuppress\n",
    ")\n",
    "\n",
    "import clip_plot # for version"
   ]
  },
  {
   "cell_type": "code",
   "execution_count": null,
   "id": "c744b03c",
   "metadata": {},
   "outputs": [],
   "source": [
    "#| export\n",
    "\n",
    "class Paths(BaseModel):\n",
    "    image_dir: Path | None = Field(None, description=\"Directory for input images\")\n",
    "    image_glob: str | None = Field(None, description=\"glob pattern for input images\")\n",
    "    table_file: Path | None = Field(None,\n",
    "                               description=\"Path to csv or JSON table w/ image_path and embed_path columns (optionally: metadata)\")\n",
    "    table_glob: str | None = Field(None,\n",
    "                               description=\"glob to csv or JSON table w/ image_path and embed_path columns (optionally: metadata)\")\n",
    "    meta_file: Path | None = Field(None, description=\"path to csv or JSON table with metadata\")\n",
    "    meta_glob: str | None = Field(None, description=\"glob pattern for to csv or JSON table with metadata\")\n",
    "    output_dir: Path | None = Field((Path()/\"clipplot_output\").resolve(),\n",
    "            description=\"Directory for output files\")\n",
    "\n",
    "    @model_validator(mode='after')\n",
    "    def check_source_exclusion(self) -> Self:\n",
    "        if self.image_dir is not None and self.image_glob is not None:\n",
    "            raise ValueError(\"'image_dir' and 'image_glob' are mutually exclusive.\")\n",
    "        if self.table_file is not None and self.table_glob is not None:\n",
    "            raise ValueError(\"'table_file' and 'table_glob' are mutually exclusive.\")\n",
    "        if self.meta_file is not None and self.meta_glob is not None:\n",
    "            raise ValueError(\"'meta_file' and 'meta_glob' are mutually exclusive.\")\n",
    "        return self\n",
    "\n",
    "class UmapSpec(BaseModel):\n",
    "    n_neighbors: list[int] = Field([15], description=\"Number of neighbors in UMAP\")\n",
    "    min_dist: list[float] = Field([0.1], description=\"Minimum distance in UMAP\")\n",
    "    metric: str = Field(\"correlation\", exclude=True)\n",
    "    umap_on_full_dims: bool = Field(True, exclude=True)\n",
    "\n",
    "class ClusterSpec(BaseModel):\n",
    "    n_clusters: int = Field(12, exclude=True)\n",
    "    max_clusters: int = Field(10, exclude=True)\n",
    "    min_cluster_size: int = Field(20, exclude=True)\n",
    "    cluster_preproc_dims: int = Field(-1, exclude=True)\n",
    "\n",
    "class Cfg(BaseSettings):\n",
    "    thumbnail_size: int = Field(128, description=\"Size of images in main bedmap view\")\n",
    "    model_name: str = Field(\"timm/convnext_tiny.dinov3_lvd1689m\",\n",
    "                            description=\"Model name on huggingface.co/models\")\n",
    "    umap_spec: UmapSpec = UmapSpec()\n",
    "    clipplot_version: str = Field(version(clip_plot.__name__), description=\"Version of clipplot\")\n",
    "    plot_id: str = Field(default_factory=lambda: str(uuid4()), description=\"Unique identifier for plot\")\n",
    "    paths: Paths = Paths()\n",
    "\n",
    "    # excluded from CLI - it's a hairball\n",
    "    seed: CliSuppress[int] = Field(42)\n",
    "    geojson: CliSuppress[None | Path] = Field(None)\n",
    "    shuffle: CliSuppress[None | bool] = Field(False)\n",
    "    copy_web_only: CliSuppress[bool] = Field(False)\n",
    "    use_cache: CliSuppress[bool] = Field(False)\n",
    "    encoding: CliSuppress[str] = Field(\"utf8\")\n",
    "    pointgrid_fill: CliSuppress[float] = Field(0.05)\n",
    "    cell_size: CliSuppress[int] = Field(32)\n",
    "    lod_cell_height: CliSuppress[int] = Field(128)\n",
    "    min_size: CliSuppress[int] = Field(100, description=\"min edge for image\")\n",
    "    gzip: CliSuppress[bool] = Field(False)\n",
    "    logo: CliSuppress[None | Path] = Field(None)\n",
    "    tagline: CliSuppress[None] | str = Field(None)\n",
    "    # \"min_score\": 0.3,\n",
    "    # \"min_vertices\": 18,\n",
    "\n",
    "\n",
    "    model_config = SettingsConfigDict(\n",
    "        env_prefix = \"CLIPPLOT_\",\n",
    "        cli_parse_args = True,\n",
    "        use_attribute_docstrings = True,\n",
    "        cli_prog_name = \"clipplot\",\n",
    "        cli_hide_none_type = True,\n",
    "        cli_ignore_unknown_args=True,\n",
    "        pyproject_toml_table_header=(),\n",
    "    )"
   ]
  },
  {
   "cell_type": "code",
   "execution_count": null,
   "id": "de9f1aab",
   "metadata": {},
   "outputs": [],
   "source": [
    "#| hide\n",
    "\n",
    "cfg = Cfg()"
   ]
  },
  {
   "cell_type": "code",
   "execution_count": null,
   "id": "75e22799",
   "metadata": {},
   "outputs": [
    {
     "data": {
      "text/plain": [
       "{'thumbnail_size': 128,\n",
       " 'model_name': 'timm/convnext_tiny.dinov3_lvd1689m',\n",
       " 'umap_spec': {'n_neighbors': [15], 'min_dist': [0.1]},\n",
       " 'clipplot_version': '0.1.1a7',\n",
       " 'plot_id': 'd173b3f6-4a6e-4fa1-8c47-45ca264a51d4',\n",
       " 'paths': {'image_dir': None,\n",
       "  'image_glob': None,\n",
       "  'table_file': None,\n",
       "  'table_glob': None,\n",
       "  'meta_file': None,\n",
       "  'meta_glob': None,\n",
       "  'output_dir': Path('/home/wsanger/git/clip-plot/nbs/clipplot_output')},\n",
       " 'seed': 42,\n",
       " 'geojson': None,\n",
       " 'shuffle': False,\n",
       " 'copy_web_only': False,\n",
       " 'use_cache': False,\n",
       " 'encoding': 'utf8',\n",
       " 'pointgrid_fill': 0.05,\n",
       " 'cell_size': 32,\n",
       " 'lod_cell_height': 128,\n",
       " 'min_size': 100,\n",
       " 'gzip': False,\n",
       " 'logo': None,\n",
       " 'tagline': None}"
      ]
     },
     "execution_count": null,
     "metadata": {},
     "output_type": "execute_result"
    }
   ],
   "source": [
    "old_version = cfg.model_dump()\n",
    "old_version"
   ]
  },
  {
   "cell_type": "code",
   "execution_count": null,
   "id": "42e24f13",
   "metadata": {},
   "outputs": [],
   "source": [
    "#|hide\n",
    "import nbdev; nbdev.nbdev_export()"
   ]
  }
 ],
 "metadata": {
  "kernelspec": {
   "display_name": "python3",
   "language": "python",
   "name": "python3"
  }
 },
 "nbformat": 4,
 "nbformat_minor": 5
}
