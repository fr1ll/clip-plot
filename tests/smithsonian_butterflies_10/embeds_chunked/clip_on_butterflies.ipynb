{
 "cells": [
  {
   "attachments": {},
   "cell_type": "markdown",
   "metadata": {},
   "source": [
    "# Run `clip_inference` on the 10 butterflies dataset"
   ]
  },
  {
   "cell_type": "code",
   "execution_count": 1,
   "metadata": {},
   "outputs": [],
   "source": [
    "from clip_retrieval import clip_inference\n"
   ]
  },
  {
   "cell_type": "code",
   "execution_count": 2,
   "metadata": {},
   "outputs": [],
   "source": [
    "INPUT_FOLDER = \"../jpgs/\"\n",
    "OUTPUT_FOLDER = \".\"\n",
    "WRITE_BATCH_SIZE = 7"
   ]
  },
  {
   "cell_type": "code",
   "execution_count": 3,
   "metadata": {},
   "outputs": [
    {
     "name": "stdout",
     "output_type": "stream",
     "text": [
      "The number of samples has been estimated to be 12\n",
      "Starting the worker\n",
      "dataset is 8\n",
      "Starting work on task 0\n",
      "warming up with batch size 256 on cuda\n",
      "done warming up in 4.3688554763793945s\n",
      "Starting work on task 1\n",
      " sample_per_sec 1 ; sample_count 12 "
     ]
    }
   ],
   "source": [
    "clip_inference(INPUT_FOLDER,\n",
    "               OUTPUT_FOLDER,\n",
    "               write_batch_size=WRITE_BATCH_SIZE,)\n"
   ]
  }
 ],
 "metadata": {
  "kernelspec": {
   "display_name": "clip-plot",
   "language": "python",
   "name": "python3"
  },
  "language_info": {
   "codemirror_mode": {
    "name": "ipython",
    "version": 3
   },
   "file_extension": ".py",
   "mimetype": "text/x-python",
   "name": "python",
   "nbconvert_exporter": "python",
   "pygments_lexer": "ipython3",
   "version": "3.10.9"
  },
  "orig_nbformat": 4
 },
 "nbformat": 4,
 "nbformat_minor": 2
}
